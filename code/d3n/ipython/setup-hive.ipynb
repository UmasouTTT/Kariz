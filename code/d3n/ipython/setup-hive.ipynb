{
 "cells": [
  {
   "cell_type": "code",
   "execution_count": 159,
   "metadata": {},
   "outputs": [],
   "source": [
    "from pyhive import hive\n",
    "import os \n",
    "import ast\n",
    "import json \n",
    "import re"
   ]
  },
  {
   "cell_type": "code",
   "execution_count": 165,
   "metadata": {},
   "outputs": [
    {
     "name": "stdout",
     "output_type": "stream",
     "text": [
      "query6 2\n",
      "query21 4\n",
      "query2 1\n",
      "query10 21\n",
      "query20 29\n",
      "query1 3\n",
      "query7 33\n",
      "query17 17\n",
      "query22 1\n",
      "query14 8\n",
      "query19 8\n",
      "query16 21\n",
      "query9 33\n",
      "query5 33\n",
      "query3 15\n",
      "query4 7\n",
      "query18 1\n",
      "query13 8\n",
      "query8 45\n",
      "query12 9\n",
      "query15 1\n",
      "query11 1\n"
     ]
    }
   ],
   "source": [
    "# cd to hive-bench/tpch directory\n",
    "hivebench_tpch_root='/local0/hive-testbench/sample-queries-tpch'\n",
    "os.chdir(hivebench_tpch_root)\n",
    "\n",
    "def parse_exec_plan(execplan):\n",
    "    stages = execplan['STAGE DEPENDENCIES']\n",
    "    plans = execplan['STAGE PLANS']\n",
    "    for stgid in stages:\n",
    "        stages[stgid]['operator'] = ''\n",
    "        if 'Map Reduce' in plans[stgid]:\n",
    "            for mapr_op in plans[stgid]['Map Reduce']['Map Operator Tree:']:\n",
    "                tree = mapr_op\n",
    "                while tree:\n",
    "                    for key in tree:\n",
    "                        stages[stgid]['operator'] += ('|' + key) \n",
    "                        tree = tree[key]['children'] if 'children' in tree[key] else None\n",
    "        elif 'Fetch Operator' in plans[stgid]:\n",
    "            stages[stgid]['operator'] = 'Fetch Operator Sink'\n",
    "    return stages\n",
    "\n",
    "def get_configurations():\n",
    "    conf_file = hivebench_tpch_root + '/testbench.settings'\n",
    "    configuration = {}\n",
    "    with open(conf_file, 'r') as fd:\n",
    "        confs = fd.readlines()\n",
    "\n",
    "        for idx, conf in enumerate(confs):\n",
    "            conf = conf.replace(';\\n', '')\n",
    "            if conf.startswith('--') or conf == '': \n",
    "                continue;\n",
    "\n",
    "            key, value = conf.split(' ', 1)[1].split('=')\n",
    "\n",
    "            configuration[key] = value;\n",
    "            \n",
    "            if idx > 100:\n",
    "                break;\n",
    "    return configuration\n",
    "\n",
    "\n",
    "def create_hive_session():\n",
    "    configuration = get_configurations()\n",
    "    cursor = hive.connect(host='neu-5-1', port=10000, username='root', \n",
    "                          auth='NONE', configuration=configuration).cursor()\n",
    "\n",
    "    databse = 'tpch_flat_orc_2'\n",
    "\n",
    "    cursor.execute('use %s'%(databse))\n",
    "    return cursor\n",
    "\n",
    "conn = create_hive_session();\n",
    "\n",
    "sql_files = [os.path.join(\"\", file) for file in os.listdir(hivebench_tpch_root) if file.endswith('.sql')]\n",
    "\n",
    "exec_plans = {}\n",
    "for qfile in sql_files:\n",
    "    with open(qfile,'r') as fd:\n",
    "        query = fd.read().rsplit(';')[0]\n",
    "        qid = re.search('tpch_(.*).sql', qfile).group(1)\n",
    "        \n",
    "        cursor.execute('explain formatted %s'%(query))\n",
    "        #print(cursor.fetchone())\n",
    "        res = ast.literal_eval(cursor.fetchall()[0][0])\n",
    "        exec_plans[qid] = parse_exec_plan(res)\n",
    "        print(qid, len( exec_plans[qid]))\n",
    "        \n",
    "#print(json.dumps(exec_plans, indent=4), '\\n\\n')\n",
    "        "
   ]
  },
  {
   "cell_type": "code",
   "execution_count": 171,
   "metadata": {},
   "outputs": [
    {
     "name": "stdout",
     "output_type": "stream",
     "text": [
      "{\n",
      "  \"Event\": \"SparkListenerTaskStart\",\n",
      "  \"Stage ID\": 47,\n",
      "  \"Stage Attempt ID\": 0,\n",
      "  \"Task Info\": {\n",
      "    \"Task ID\": 9454,\n",
      "    \"Index\": 1180,\n",
      "    \"Attempt\": 0,\n",
      "    \"Launch Time\": 1589463134918,\n",
      "    \"Executor ID\": \"0\",\n",
      "    \"Host\": \"192.168.55.105\",\n",
      "    \"Locality\": \"PROCESS_LOCAL\",\n",
      "    \"Speculative\": false,\n",
      "    \"Getting Result Time\": 0,\n",
      "    \"Finish Time\": 0,\n",
      "    \"Failed\": false,\n",
      "    \"Killed\": false,\n",
      "    \"Accumulables\": []\n",
      "  }\n",
      "}\n"
     ]
    }
   ],
   "source": [
    "false = False\n",
    "true = True\n",
    "\n",
    "string = {\"Event\":\"SparkListenerTaskEnd\",\"Stage ID\":51,\"Stage Attempt ID\":0,\"Task Type\":\"ResultTask\",\"Task End Reason\":{\"Reason\":\"Success\"},\"Task Info\":{\"Task ID\":11318,\"Index\":1160,\"Attempt\":0,\"Launch Time\":1589463142025,\"Executor ID\":\"6\",\"Host\":\"192.168.55.106\",\"Locality\":\"PROCESS_LOCAL\",\"Speculative\":false,\"Getting Result Time\":0,\"Finish Time\":1589463142299,\"Failed\":false,\"Killed\":false,\"Accumulables\":[{\"ID\":1550,\"Name\":\"internal.metrics.jvmGCTime\",\"Update\":246,\"Value\":444,\"Internal\":true,\"Count Failed Values\":true},{\"ID\":1549,\"Name\":\"internal.metrics.resultSize\",\"Update\":1330,\"Value\":1602589,\"Internal\":true,\"Count Failed Values\":true},{\"ID\":1548,\"Name\":\"internal.metrics.executorCpuTime\",\"Update\":1414885,\"Value\":1126113225,\"Internal\":true,\"Count Failed Values\":true},{\"ID\":1547,\"Name\":\"internal.metrics.executorRunTime\",\"Update\":12,\"Value\":13835,\"Internal\":true,\"Count Failed Values\":true},{\"ID\":1546,\"Name\":\"internal.metrics.executorDeserializeCpuTime\",\"Update\":9224948,\"Value\":9160942788,\"Internal\":true,\"Count Failed Values\":true},{\"ID\":1545,\"Name\":\"internal.metrics.executorDeserializeTime\",\"Update\":256,\"Value\":9684,\"Internal\":true,\"Count Failed Values\":true}]},\"Task Metrics\":{\"Executor Deserialize Time\":256,\"Executor Deserialize CPU Time\":9224948,\"Executor Run Time\":12,\"Executor CPU Time\":1414885,\"Result Size\":1330,\"JVM GC Time\":246,\"Result Serialization Time\":0,\"Memory Bytes Spilled\":0,\"Disk Bytes Spilled\":0,\"Shuffle Read Metrics\":{\"Remote Blocks Fetched\":0,\"Local Blocks Fetched\":0,\"Fetch Wait Time\":0,\"Remote Bytes Read\":0,\"Remote Bytes Read To Disk\":0,\"Local Bytes Read\":0,\"Total Records Read\":0},\"Shuffle Write Metrics\":{\"Shuffle Bytes Written\":0,\"Shuffle Write Time\":0,\"Shuffle Records Written\":0},\"Input Metrics\":{\"Bytes Read\":0,\"Records Read\":0},\"Output Metrics\":{\"Bytes Written\":0,\"Records Written\":0},\"Updated Blocks\":[]}}\n",
    "string2 = {\"Event\":\"SparkListenerTaskStart\",\"Stage ID\":47,\"Stage Attempt ID\":0,\"Task Info\":{\"Task ID\":9454,\"Index\":1180,\"Attempt\":0,\"Launch Time\":1589463134918,\"Executor ID\":\"0\",\"Host\":\"192.168.55.105\",\"Locality\":\"PROCESS_LOCAL\",\"Speculative\":false,\"Getting Result Time\":0,\"Finish Time\":0,\"Failed\":false,\"Killed\":false,\"Accumulables\":[]}}\n",
    "    {\"Event\":\"SparkListenerTaskEnd\",\"Stage ID\":47,\"Stage Attempt ID\":0,\"Task Type\":\"ResultTask\",\"Task End Reason\":{\"Reason\":\"Success\"},\"Task Info\":{\"Task ID\":9448,\"Index\":1174,\"Attempt\":0,\"Launch Time\":1589463134898,\"Executor ID\":\"0\",\"Host\":\"192.168.55.105\",\"Locality\":\"PROCESS_LOCAL\",\"Speculative\":false,\"Getting Result Time\":0,\"Finish Time\":1589463134919,\"Failed\":false,\"Killed\":false,\"Accumulables\":[{\"ID\":1431,\"Name\":\"internal.metrics.resultSize\",\"Update\":1276,\"Value\":1503320,\"Internal\":true,\"Count Failed Values\":true},{\"ID\":1430,\"Name\":\"internal.metrics.executorCpuTime\",\"Update\":843452,\"Value\":1054208068,\"Internal\":true,\"Count Failed Values\":true},{\"ID\":1429,\"Name\":\"internal.metrics.executorRunTime\",\"Update\":9,\"Value\":14599,\"Internal\":true,\"Count Failed Values\":true},{\"ID\":1428,\"Name\":\"internal.metrics.executorDeserializeCpuTime\",\"Update\":5701318,\"Value\":8033311519,\"Internal\":true,\"Count Failed Values\":true},{\"ID\":1427,\"Name\":\"internal.metrics.executorDeserializeTime\",\"Update\":5,\"Value\":8184,\"Internal\":true,\"Count Failed Values\":true}]},\"Task Metrics\":{\"Executor Deserialize Time\":5,\"Executor Deserialize CPU Time\":5701318,\"Executor Run Time\":9,\"Executor CPU Time\":843452,\"Result Size\":1276,\"JVM GC Time\":0,\"Result Serialization Time\":0,\"Memory Bytes Spilled\":0,\"Disk Bytes Spilled\":0,\"Shuffle Read Metrics\":{\"Remote Blocks Fetched\":0,\"Local Blocks Fetched\":0,\"Fetch Wait Time\":0,\"Remote Bytes Read\":0,\"Remote Bytes Read To Disk\":0,\"Local Bytes Read\":0,\"Total Records Read\":0},\"Shuffle Write Metrics\":{\"Shuffle Bytes Written\":0,\"Shuffle Write Time\":0,\"Shuffle Records Written\":0},\"Input Metrics\":{\"Bytes Read\":0,\"Records Read\":0},\"Output Metrics\":{\"Bytes Written\":0,\"Records Written\":0},\"Updated Blocks\":[]}}\n",
    "\n",
    "\n",
    "\n",
    "print(json.dumps(string2, indent=2))\n"
   ]
  },
  {
   "cell_type": "code",
   "execution_count": null,
   "metadata": {},
   "outputs": [],
   "source": []
  }
 ],
 "metadata": {
  "kernelspec": {
   "display_name": "Python 3",
   "language": "python",
   "name": "python3"
  },
  "language_info": {
   "codemirror_mode": {
    "name": "ipython",
    "version": 3
   },
   "file_extension": ".py",
   "mimetype": "text/x-python",
   "name": "python",
   "nbconvert_exporter": "python",
   "pygments_lexer": "ipython3",
   "version": "3.6.9"
  }
 },
 "nbformat": 4,
 "nbformat_minor": 2
}
