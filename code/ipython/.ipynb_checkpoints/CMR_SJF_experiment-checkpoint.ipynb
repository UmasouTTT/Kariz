{
 "cells": [
  {
   "cell_type": "code",
   "execution_count": 1,
   "metadata": {},
   "outputs": [],
   "source": [
    "# 1. names \n",
    "# 2. size names to inputs \n",
    "\n",
    "names = ['orders', 'customer', 'nation', 'supplier', 'partsupp', 'lineitem', 'part', 'region']"
   ]
  },
  {
   "cell_type": "code",
   "execution_count": 2,
   "metadata": {},
   "outputs": [],
   "source": [
    "import random\n",
    "\n",
    "inputs = {}\n",
    "inputs['nation'] = random.randint(1, 10)\n",
    "inputs['region'] = random.randint(5, 15)\n",
    "inputs['customer'] = random.randint(20, 40)\n",
    "inputs['orders'] = random.randint(20, 40)\n",
    "inputs['supplier'] = random.randint(30, 60)\n",
    "inputs['partsupp']= random.randint(30, 60)\n",
    "inputs['part'] = random.randint(40, 80)\n",
    "inputs['lineitem']= random.randint(40, 80)"
   ]
  },
  {
   "cell_type": "code",
   "execution_count": 113,
   "metadata": {},
   "outputs": [
    {
     "data": {
      "text/plain": [
       "58000"
      ]
     },
     "execution_count": 113,
     "metadata": {},
     "output_type": "execute_result"
    }
   ],
   "source": [
    "sum(inputs.values())*200"
   ]
  },
  {
   "cell_type": "code",
   "execution_count": 102,
   "metadata": {},
   "outputs": [],
   "source": [
    "# read the inputs \n",
    "input_file = '/local0/Kariz/expriments/simulator/multidag/config/synthetic_worload_mdmc_100p.g'\n",
    "input_str = ''\n",
    "visited = {}\n",
    "with open(input_file, 'r') as fd:\n",
    "    for ds in fd.read().split(','):\n",
    "        if ds not in visited:\n",
    "            visited[ds] = 0 \n",
    "            for i in inputs:\n",
    "                input_str += '%s_%s,%d\\n'%(ds,i,inputs[i])\n",
    "            \n",
    "input_metadata_f = '/local0/Kariz/expriments/simulator/multidag/config/inputs.csv'\n",
    "with open(input_metadata_f, 'a') as fd:\n",
    "    fd.write(input_str)"
   ]
  },
  {
   "cell_type": "code",
   "execution_count": 104,
   "metadata": {},
   "outputs": [
    {
     "data": {
      "text/plain": [
       "17406"
      ]
     },
     "execution_count": 104,
     "metadata": {},
     "output_type": "execute_result"
    }
   ],
   "source": [
    "input_metadata_f = '/local0/Kariz/expriments/simulator/multidag/config/inputs.csv'\n",
    "metadata = {}\n",
    "with open(input_metadata_f, 'r') as fd:\n",
    "    for ln in fd.read().split('\\n')[1:][:-1]:\n",
    "        name, size = ln.split(',')\n",
    "        metadata[name] = int(size)\n",
    "        \n",
    "len(metadata)"
   ]
  },
  {
   "cell_type": "code",
   "execution_count": 86,
   "metadata": {},
   "outputs": [],
   "source": [
    "# read the inputs \n",
    "input_file = '/local0/Kariz/expriments/simulator/multidag/config/synthetic_worload_md_100p.g'\n",
    "with open(input_file, 'r') as fd:\n",
    "    inputs_ds = fd.read().split(',')\n",
    "\n",
    "\n",
    "workload_file = '/local0/Kariz/expriments/simulator/multidag/config/synthetic_worload_pig_0.g'\n",
    "with open(workload_file, 'r') as fd:\n",
    "    lines = fd.readlines()\n",
    "    workload_str1 = ''\n",
    "    workload_str2 = ''\n",
    "    i = 0\n",
    "    for ln in lines:\n",
    "        if ln.startswith('%'):\n",
    "            continue\n",
    "        if ln.startswith('#'):\n",
    "            tline = ln.split(',')\n",
    "            tline[1] = str(int(tline[1]) + 200)\n",
    "            ds = inputs_ds[i]\n",
    "            i += 1\n",
    "            workload_str1 += ln\n",
    "            workload_str2 += ','.join(tline)\n",
    "        if ln.startswith('v'):\n",
    "            tline = ln.split(',')\n",
    "            #print(tline[3])\n",
    "            tline[3] =  ':'.join(['%s_%s'%(ds, t.split('_')[1]) for t in tline[3].split(':')]) if len(tline[3]) else ''\n",
    "            workload_str1 += ','.join(tline)\n",
    "            workload_str2 += ','.join(tline)\n",
    "        if ln.startswith('e'):\n",
    "            workload_str1 += ln\n",
    "            workload_str2 += ln\n",
    "        \n",
    "\n",
    "workload_file2 = '/local0/Kariz/expriments/simulator/multidag/config/zipf_synthetic_worload_md_100p_pig.g'\n",
    "with open(workload_file2, 'w') as fd:\n",
    "    fd.write(workload_str1)\n",
    "    fd.write(workload_str2)"
   ]
  },
  {
   "cell_type": "code",
   "execution_count": 112,
   "metadata": {},
   "outputs": [],
   "source": [
    "# Spark queries \n",
    "input_file = '/local0/Kariz/expriments/simulator/multidag/config/synthetic_worload_mdmc_100p.g'\n",
    "with open(input_file, 'r') as fd:\n",
    "    inputs_ds = fd.read().split(',')\n",
    "\n",
    "\n",
    "workload_file = '/local0/Kariz/expriments/simulator/multidag/config/synthetic_worload_spark_0.g'\n",
    "with open(workload_file, 'r') as fd:\n",
    "    lines = fd.readlines()\n",
    "    workload_str1 = ''\n",
    "    workload_str2 = ''\n",
    "    i = 0\n",
    "    for ln in lines:\n",
    "        if ln.startswith('%'):\n",
    "            continue\n",
    "        if ln.startswith('#'):\n",
    "            tline = ln.split(',')\n",
    "            tline[1] = str(int(tline[1]) + 200)\n",
    "            ds1 = inputs_ds[i]\n",
    "            ds2 = inputs_ds[i + 200]\n",
    "            i += 2\n",
    "            workload_str1 += ln\n",
    "            workload_str2 += ','.join(tline)\n",
    "        if ln.startswith('v'):\n",
    "            tline = ln.split(',')\n",
    "            tline[3] =  '%s_%s'%(ds1, tline[3].split('_')[1]) if len(tline[3]) else ''\n",
    "            workload_str1 += ','.join(tline)\n",
    "            tline = ln.split(',')\n",
    "            tline[3] =  '%s_%s'%(ds2, tline[3].split('_')[1]) if len(tline[3]) else ''\n",
    "            workload_str2 += ','.join(tline)\n",
    "        if ln.startswith('e'):\n",
    "            workload_str1 += ln\n",
    "            workload_str2 += ln\n",
    "        \n",
    "workload_file2 = '/local0/Kariz/expriments/simulator/multidag/config/zipf_sw_mdmc_spark_100p.g'\n",
    "with open(workload_file2, 'w') as fd:\n",
    "    fd.write(workload_str1)\n",
    "    fd.write(workload_str2)\n",
    "        \n",
    "\n",
    "workload_file = '/local0/Kariz/expriments/simulator/multidag/config/synthetic_worload_pig_0.g'\n",
    "with open(workload_file, 'r') as fd:\n",
    "    lines = fd.readlines()\n",
    "    workload_str3 = ''\n",
    "    workload_str4 = ''\n",
    "    i = 1\n",
    "    for ln in lines:\n",
    "        if ln.startswith('%'):\n",
    "            continue\n",
    "        if ln.startswith('#'):\n",
    "            tline = ln.split(',')\n",
    "            tline[1] = str(int(tline[1]) + 200)\n",
    "            ds1 = inputs_ds[i]\n",
    "            ds2 = inputs_ds[i+200]\n",
    "            i += 2\n",
    "            workload_str3 += ln\n",
    "            workload_str4 += ','.join(tline)\n",
    "        if ln.startswith('v'):\n",
    "            tline = ln.split(',')\n",
    "            tline[3] =  ':'.join(['%s_%s'%(ds1, t.split('_')[1]) for t in tline[3].split(':')]) if len(tline[3]) else ''\n",
    "            workload_str3 += ','.join(tline)\n",
    "            tline = ln.split(',')\n",
    "            tline[3] =  ':'.join(['%s_%s'%(ds2, t.split('_')[1]) for t in tline[3].split(':')]) if len(tline[3]) else ''\n",
    "            workload_str4 += ','.join(tline)\n",
    "        if ln.startswith('e'):\n",
    "            workload_str3 += ln\n",
    "            workload_str4 += ln\n",
    "        \n",
    "\n",
    "workload_file3 = '/local0/Kariz/expriments/simulator/multidag/config/zipf_sw_mdmc_pig_100p.g'\n",
    "with open(workload_file3, 'w') as fd:\n",
    "    fd.write(workload_str3)\n",
    "    fd.write(workload_str4)\n",
    "\n"
   ]
  },
  {
   "cell_type": "code",
   "execution_count": 123,
   "metadata": {},
   "outputs": [
    {
     "ename": "IndexError",
     "evalue": "list index out of range",
     "output_type": "error",
     "traceback": [
      "\u001b[0;31m---------------------------------------------------------------------------\u001b[0m",
      "\u001b[0;31mIndexError\u001b[0m                                Traceback (most recent call last)",
      "\u001b[0;32m<ipython-input-123-f985bdc6a8e9>\u001b[0m in \u001b[0;36m<module>\u001b[0;34m\u001b[0m\n\u001b[1;32m     18\u001b[0m             \u001b[0mtline\u001b[0m\u001b[0;34m[\u001b[0m\u001b[0;36m1\u001b[0m\u001b[0;34m]\u001b[0m \u001b[0;34m=\u001b[0m \u001b[0mstr\u001b[0m\u001b[0;34m(\u001b[0m\u001b[0mint\u001b[0m\u001b[0;34m(\u001b[0m\u001b[0mtline\u001b[0m\u001b[0;34m[\u001b[0m\u001b[0;36m1\u001b[0m\u001b[0;34m]\u001b[0m\u001b[0;34m)\u001b[0m \u001b[0;34m+\u001b[0m \u001b[0;36m200\u001b[0m\u001b[0;34m)\u001b[0m\u001b[0;34m\u001b[0m\u001b[0;34m\u001b[0m\u001b[0m\n\u001b[1;32m     19\u001b[0m             \u001b[0mds1\u001b[0m \u001b[0;34m=\u001b[0m \u001b[0minputs_ds\u001b[0m\u001b[0;34m[\u001b[0m\u001b[0mi\u001b[0m\u001b[0;34m]\u001b[0m\u001b[0;34m\u001b[0m\u001b[0;34m\u001b[0m\u001b[0m\n\u001b[0;32m---> 20\u001b[0;31m             \u001b[0mds2\u001b[0m \u001b[0;34m=\u001b[0m \u001b[0minputs_ds\u001b[0m\u001b[0;34m[\u001b[0m\u001b[0mi\u001b[0m \u001b[0;34m+\u001b[0m \u001b[0;36m200\u001b[0m\u001b[0;34m]\u001b[0m\u001b[0;34m\u001b[0m\u001b[0;34m\u001b[0m\u001b[0m\n\u001b[0m\u001b[1;32m     21\u001b[0m             \u001b[0mi\u001b[0m \u001b[0;34m+=\u001b[0m \u001b[0;36m2\u001b[0m\u001b[0;34m\u001b[0m\u001b[0;34m\u001b[0m\u001b[0m\n\u001b[1;32m     22\u001b[0m             \u001b[0mworkload_str1\u001b[0m \u001b[0;34m+=\u001b[0m \u001b[0mln\u001b[0m\u001b[0;34m\u001b[0m\u001b[0;34m\u001b[0m\u001b[0m\n",
      "\u001b[0;31mIndexError\u001b[0m: list index out of range"
     ]
    }
   ],
   "source": [
    "# Spark queries \n",
    "input_file = '/local0/Kariz/expriments/simulator/multidag/config/synthetic_worload_mdmc_0p.g'\n",
    "with open(input_file, 'r') as fd:\n",
    "    inputs_ds = fd.read().split(',')\n",
    "\n",
    "\n",
    "workload_file = '/local0/Kariz/expriments/simulator/multidag/config/synthetic_worload_spark_0.g'\n",
    "with open(workload_file, 'r') as fd:\n",
    "    lines = fd.readlines()\n",
    "    workload_str1 = ''\n",
    "    workload_str2 = ''\n",
    "    i = 0\n",
    "    for ln in lines:\n",
    "        if ln.startswith('%'):\n",
    "            continue\n",
    "        if ln.startswith('#'):\n",
    "            tline = ln.split(',')\n",
    "            tline[1] = str(int(tline[1]) + 200)\n",
    "            ds1 = inputs_ds[i]\n",
    "            ds2 = inputs_ds[i + 200]\n",
    "            i += 2\n",
    "            workload_str1 += ln\n",
    "            workload_str2 += ','.join(tline)\n",
    "        if ln.startswith('v'):\n",
    "            tline = ln.split(',')\n",
    "            tline[3] =  '%s_%s'%(ds1, tline[3].split('_')[1]) if len(tline[3]) else ''\n",
    "            workload_str1 += ','.join(tline)\n",
    "            tline = ln.split(',')\n",
    "            tline[3] =  '%s_%s'%(ds2, tline[3].split('_')[1]) if len(tline[3]) else ''\n",
    "            workload_str2 += ','.join(tline)\n",
    "        if ln.startswith('e'):\n",
    "            workload_str1 += ln\n",
    "            workload_str2 += ln\n",
    "        \n",
    "workload_file2 = '/local0/Kariz/expriments/simulator/multidag/config/zipf_sw_mdmc_spark_0p.g'\n",
    "with open(workload_file2, 'w') as fd:\n",
    "    fd.write(workload_str1)\n",
    "    fd.write(workload_str2)\n",
    "        \n",
    "\n",
    "workload_file = '/local0/Kariz/expriments/simulator/multidag/config/synthetic_worload_pig_0.g'\n",
    "with open(workload_file, 'r') as fd:\n",
    "    lines = fd.readlines()\n",
    "    workload_str3 = ''\n",
    "    workload_str4 = ''\n",
    "    i = 1\n",
    "    for ln in lines:\n",
    "        if ln.startswith('%'):\n",
    "            continue\n",
    "        if ln.startswith('#'):\n",
    "            tline = ln.split(',')\n",
    "            tline[1] = str(int(tline[1]) + 200)\n",
    "            ds1 = inputs_ds[i]\n",
    "            ds2 = inputs_ds[i+200]\n",
    "            i += 2\n",
    "            workload_str3 += ln\n",
    "            workload_str4 += ','.join(tline)\n",
    "        if ln.startswith('v'):\n",
    "            tline = ln.split(',')\n",
    "            tline[3] =  ':'.join(['%s_%s'%(ds1, t.split('_')[1]) for t in tline[3].split(':')]) if len(tline[3]) else ''\n",
    "            workload_str3 += ','.join(tline)\n",
    "            tline = ln.split(',')\n",
    "            tline[3] =  ':'.join(['%s_%s'%(ds2, t.split('_')[1]) for t in tline[3].split(':')]) if len(tline[3]) else ''\n",
    "            workload_str4 += ','.join(tline)\n",
    "        if ln.startswith('e'):\n",
    "            workload_str3 += ln\n",
    "            workload_str4 += ln\n",
    "        \n",
    "\n",
    "workload_file3 = '/local0/Kariz/expriments/simulator/multidag/config/zipf_sw_mdmc_pig_0p.g'\n",
    "with open(workload_file3, 'w') as fd:\n",
    "    fd.write(workload_str3)\n",
    "    #fd.write(workload_str4)\n",
    "\n"
   ]
  },
  {
   "cell_type": "code",
   "execution_count": 121,
   "metadata": {},
   "outputs": [
    {
     "data": {
      "text/plain": [
       "200"
      ]
     },
     "execution_count": 121,
     "metadata": {},
     "output_type": "execute_result"
    }
   ],
   "source": [
    "len(inputs_ds)"
   ]
  },
  {
   "cell_type": "code",
   "execution_count": null,
   "metadata": {},
   "outputs": [],
   "source": []
  }
 ],
 "metadata": {
  "kernelspec": {
   "display_name": "Python 3",
   "language": "python",
   "name": "python3"
  },
  "language_info": {
   "codemirror_mode": {
    "name": "ipython",
    "version": 3
   },
   "file_extension": ".py",
   "mimetype": "text/x-python",
   "name": "python",
   "nbconvert_exporter": "python",
   "pygments_lexer": "ipython3",
   "version": "3.6.9"
  }
 },
 "nbformat": 4,
 "nbformat_minor": 2
}
