{
 "cells": [
  {
   "cell_type": "code",
   "execution_count": 2,
   "metadata": {},
   "outputs": [],
   "source": [
    "import requests\n",
    "import json\n",
    "import pandas as pd \n",
    "import matplotlib.pyplot as plt\n",
    "import seaborn as sns; \n",
    "import matplotlib.pyplot as plt\n",
    "import matplotlib.ticker as ticker\n",
    "import math\n",
    "\n",
    "\n",
    "sns.set(color_codes=True)\n",
    "\n",
    "def format_xticks(x, pos=None):\n",
    "    max_cache_file=256\n",
    "    total_size = 32\n",
    "    return str(int(total_size*x/max_cache_file))\n",
    "\n",
    "\n",
    "def process_tasks(data):\n",
    "    tasks = get_executed_tasks(data['jobid']);\n",
    "    \n",
    "    stats = {\n",
    "    'max_runtime' : 0,\n",
    "    'min_runtime' : -1,\n",
    "    'sum_runtime' : 0,\n",
    "    'n_maps' : 0,\n",
    "    'avg_runtime': 0}\n",
    "    \n",
    "    for t in tasks:\n",
    "        if t['type'] == 'MAP':\n",
    "            stats['n_maps'] += 1\n",
    "            stats['sum_runtime'] += (t['elapsedTime']/1000)\n",
    "            if t['elapsedTime'] > stats['max_runtime']:\n",
    "                stats['max_runtime'] = t['elapsedTime']\n",
    "            elif t['elapsedTime'] < stats['min_runtime'] or stats['min_runtime'] == -1:\n",
    "                stats['min_runtime'] = t['elapsedTime']\n",
    "    data['map_avg'] = round(stats['sum_runtime']/stats['n_maps'], 3)            \n",
    "    data['map_min'] = stats['min_runtime']/1000\n",
    "    data['map_max'] = stats['max_runtime']/1000\n",
    "    \n",
    "    job_info = get_executed_job(data['jobid']);\n",
    "    data['runtime'] = (job_info['finishTime'] - job_info['startTime'])/1000\n",
    "    data['queuetime'] = (job_info['startTime'] - job_info['submitTime'])/1000\n",
    "    \n",
    "    return data\n",
    "\n",
    "def get_executed_job(job_id):\n",
    "    host_name='neu-3-1'\n",
    "    port=19888\n",
    "    url = 'http://%s:%d/ws/v1/history/mapreduce/jobs/%s'%(host_name, port, job_id)\n",
    "    r=requests.get(url)\n",
    "    return r.json()['job']\n",
    "\n",
    "def get_executed_tasks(job_id):\n",
    "    host_name='neu-5-1'\n",
    "    port=19888\n",
    "    url = 'http://%s:%d/ws/v1/history/mapreduce/jobs/%s/tasks'%(host_name, port, job_id)\n",
    "    r=requests.get(url)\n",
    "    return r.json()['tasks']['task']\n",
    "\n",
    "#job_id = 'job_1588104563002_0009'\n",
    "#job_stats = process_tasks(job_id)\n",
    "#jobid = 'job_1588104563002_0002'\n",
    "\n",
    "#get_job_execution(jobid\n",
    "\n"
   ]
  },
  {
   "cell_type": "code",
   "execution_count": 20,
   "metadata": {},
   "outputs": [
    {
     "name": "stdout",
     "output_type": "stream",
     "text": [
      "Index(['Job ID', 'rep', 'exec_id', 'j1', 'j2', 'j3', 'j4', 'j5', 'j6', 'j7',\n",
      "       'j8', 'j9', 'j10'],\n",
      "      dtype='object')\n",
      "1\n",
      "2\n",
      "3\n",
      "4\n",
      "5\n",
      "6\n",
      "7\n",
      "8\n",
      "9\n"
     ]
    }
   ],
   "source": [
    "#jobs = pd.read_csv('jobs.csv')\n",
    "jobs = pd.read_csv('/local0/Kariz/expriments/simulator/multidag_runtime/drawings/s3.40gbps.csv')\n",
    "#jobs = jobs.apply(process_tasks, axis=1)\n",
    "\n",
    "\n",
    "print(jobs.columns)\n",
    "\n",
    "for index, row in jobs.iterrows():\n",
    "    for i in range(1,11):\n",
    "        print(i)\n",
    "    break\n",
    "    #print(row['j1'], row['j2'])\n"
   ]
  },
  {
   "cell_type": "code",
   "execution_count": 17,
   "metadata": {},
   "outputs": [
    {
     "data": {
      "image/png": "[encoded data removed]",
      "text/plain": [
       "<Figure size 720x288 with 1 Axes>"
      ]
     },
     "metadata": {},
     "output_type": "display_data"
    }
   ],
   "source": [
    "sns.set_style(\"whitegrid\")\n",
    "\n",
    "#print(json.dumps(job_stats, indent=2))\n",
    "fig, ax = plt.subplots(figsize=(10,4))\n"
   ]
  },
  {
   "cell_type": "code",
   "execution_count": null,
   "metadata": {},
   "outputs": [],
   "source": []
  }
 ],
 "metadata": {
  "kernelspec": {
   "display_name": "Python 3",
   "language": "python",
   "name": "python3"
  },
  "language_info": {
   "codemirror_mode": {
    "name": "ipython",
    "version": 3
   },
   "file_extension": ".py",
   "mimetype": "text/x-python",
   "name": "python",
   "nbconvert_exporter": "python",
   "pygments_lexer": "ipython3",
   "version": "3.6.9"
  }
 },
 "nbformat": 4,
 "nbformat_minor": 2
}
