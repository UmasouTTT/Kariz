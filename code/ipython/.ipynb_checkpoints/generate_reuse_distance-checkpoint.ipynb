{
 "cells": [
  {
   "cell_type": "code",
   "execution_count": null,
   "metadata": {},
   "outputs": [],
   "source": []
  },
  {
   "cell_type": "code",
   "execution_count": 27,
   "metadata": {},
   "outputs": [
    {
     "data": {
      "image/png": "[encoded data removed]",
      "text/plain": [
       "<Figure size 432x288 with 1 Axes>"
      ]
     },
     "metadata": {
      "needs_background": "light"
     },
     "output_type": "display_data"
    }
   ],
   "source": [
    "import numpy as np\n",
    "import matplotlib.pyplot as plt\n",
    "from scipy import special \n",
    "\n",
    "a = 1.2 # parameter\n",
    "s = np.random.zipf(a, 1000)\n",
    "\n",
    "count, bins, ignored = plt.hist(s[s<50],\n",
    "        50, density=True)\n",
    "x = np.arange(1., 50.)\n",
    "y = x**(-a) / special.zetac(a)  \n",
    "plt.plot(x, y/max(y), linewidth=2, color='r')  \n",
    "plt.show()"
   ]
  },
  {
   "cell_type": "code",
   "execution_count": 67,
   "metadata": {},
   "outputs": [
    {
     "name": "stdout",
     "output_type": "stream",
     "text": [
      "(1, 45)\n",
      "(2, 22)\n",
      "(3, 19)\n",
      "(4, 11)\n",
      "(5, 11)\n",
      "(6, 3)\n",
      "(7, 8)\n",
      "(8, 3)\n",
      "(9, 4)\n",
      "(10, 5)\n",
      "(11, 2)\n",
      "(12, 1)\n",
      "(13, 4)\n",
      "(14, 1)\n",
      "(15, 2)\n",
      "(18, 1)\n",
      "(19, 1)\n",
      "(21, 1)\n",
      "(24, 1)\n",
      "(31, 1)\n",
      "(36, 2)\n",
      "(41, 3)\n",
      "(42, 1)\n",
      "(43, 1)\n",
      "(44, 1)\n",
      "(45, 1)\n",
      "(50, 1)\n",
      "(51, 1)\n",
      "(78, 1)\n",
      "(81, 1)\n",
      "(90, 1)\n",
      "(97, 1)\n",
      "(104, 1)\n",
      "(113, 1)\n",
      "(123, 1)\n",
      "(148, 1)\n",
      "(157, 1)\n",
      "(160, 1)\n",
      "(175, 1)\n",
      "(227, 1)\n",
      "(244, 1)\n",
      "(257, 1)\n",
      "(289, 1)\n",
      "(335, 2)\n",
      "(482, 1)\n",
      "(611, 1)\n",
      "(627, 1)\n",
      "(814, 1)\n",
      "(1217, 1)\n",
      "(1251, 1)\n",
      "(1662, 1)\n",
      "(1670, 1)\n",
      "(1698, 1)\n",
      "(1983, 1)\n",
      "(2015, 1)\n",
      "(5911, 1)\n",
      "(7746, 1)\n",
      "(14333, 1)\n",
      "(15859, 1)\n",
      "(24143, 1)\n",
      "(34697, 1)\n",
      "(126875, 1)\n",
      "(142995, 1)\n",
      "(288566, 1)\n",
      "(1068443, 1)\n",
      "(1187807, 1)\n",
      "(5177152, 1)\n",
      "(116092663, 1)\n",
      "(639470631, 1)\n",
      "(946537625, 1)\n"
     ]
    }
   ],
   "source": [
    "a = 1.3 # parameter\n",
    "s = np.random.zipf(a, 200)\n",
    "\n",
    "y = np.bincount(s)\n",
    "ii = np.nonzero(y)[0]\n",
    "\n",
    "for x in zip(ii,y[ii]): print(x) "
   ]
  },
  {
   "cell_type": "code",
   "execution_count": 78,
   "metadata": {},
   "outputs": [
    {
     "name": "stdout",
     "output_type": "stream",
     "text": [
      "['a0', 'a1', 'a2', 'a3', 'a4', 'a5', 'a6', 'a7', 'a8', 'a3', 'a2', 'a8', 'a9', 'a10', 'a11', 'a11', 'a12', 'a13', 'a14', 'a8', 'a15', 'a10', 'a13', 'a11', 'a16', 'a17', 'a18', 'a19', 'a2', 'a20', 'a21', 'a22', 'a23', 'a22', 'a2', 'a24', 'a10', 'a22', 'a9', 'a25', 'a26', 'a27', 'a8', 'a22', 'a19', 'a10', 'a28', 'a22', 'a29', 'a30', 'a31', 'a10', 'a5', 'a8', 'a8', 'a32', 'a8', 'a8', 'a10', 'a8', 'a9', 'a22', 'a33', 'a10', 'a10', 'a34', 'a35', 'a9', 'a36', 'a37', 'a8', 'a38', 'a8', 'a39', 'a10', 'a8', 'a40', 'a41', 'a10', 'a4', 'a42', 'a8', 'a8', 'a8', 'a10', 'a10', 'a43', 'a10', 'a8', 'a44', 'a45', 'a11', 'a46', 'a8', 'a8', 'a24', 'a8', 'a47', 'a48', 'a26', 'a8', 'a11', 'a49', 'a11', 'a50', 'a51', 'a8', 'a37', 'a5', 'a19', 'a22', 'a8', 'a8', 'a22', 'a8', 'a35', 'a22', 'a8', 'a9', 'a10', 'a2', 'a22', 'a24', 'a52', 'a8', 'a19', 'a8', 'a10', 'a9', 'a10', 'a22', 'a8', 'a37', 'a10', 'a10', 'a10', 'a53', 'a5', 'a40', 'a54', 'a55', 'a8', 'a22', 'a24', 'a8', 'a11', 'a8', 'a56', 'a10', 'a10', 'a57', 'a58', 'a35', 'a59', 'a48', 'a60', 'a22', 'a11', 'a10', 'a61', 'a11', 'a8', 'a10', 'a8', 'a62', 'a63', 'a10', 'a64', 'a8', 'a8', 'a65', 'a48', 'a8', 'a11', 'a6', 'a52', 'a8', 'a11', 'a66', 'a8', 'a67', 'a68', 'a69', 'a70', 'a8', 'a53', 'a8', 'a71', 'a8', 'a72', 'a73', 'a9', 'a10', 'a22', 'a74', 'a8', 'a10', 'a11', 'a75', 'a11', 'a76', 'a5', 'a8', 'a8', 'a10', 'a33', 'a8', 'a4', 'a4', 'a24', 'a11', 'a77', 'a53', 'a77', 'a8', 'a78', 'a8', 'a2', 'a79', 'a5', 'a80', 'a10', 'a8', 'a81', 'a8', 'a8', 'a19', 'a8', 'a8', 'a53', 'a8', 'a9', 'a5', 'a10', 'a8', 'a82', 'a83', 'a2', 'a8', 'a84', 'a85', 'a5', 'a10', 'a86', 'a8', 'a10', 'a8', 'a9', 'a72', 'a87', 'a10', 'a88', 'a5', 'a8', 'a89', 'a8', 'a90', 'a91', 'a92', 'a8', 'a10', 'a93', 'a94', 'a95', 'a50', 'a24', 'a8', 'a10', 'a8', 'a96', 'a2', 'a10', 'a22', 'a10', 'a11', 'a8', 'a9', 'a8', 'a10', 'a10', 'a22', 'a10', 'a8', 'a53', 'a22', 'a97', 'a5', 'a8', 'a33', 'a2', 'a53', 'a98', 'a99', 'a69', 'a11', 'a8', 'a10', 'a100', 'a101', 'a22', 'a102', 'a9', 'a11', 'a103', 'a8', 'a22', 'a8', 'a8', 'a10', 'a8', 'a8', 'a5', 'a41', 'a104', 'a105', 'a106', 'a10', 'a10', 'a10', 'a9', 'a11', 'a107', 'a8', 'a52', 'a22', 'a8', 'a8', 'a10', 'a108', 'a109', 'a2', 'a110', 'a9', 'a9', 'a8', 'a10', 'a10', 'a8', 'a8', 'a8', 'a10', 'a8', 'a5', 'a111', 'a112', 'a10', 'a24', 'a9', 'a113', 'a114', 'a115', 'a8', 'a116', 'a2', 'a117', 'a22', 'a57', 'a10', 'a8', 'a118', 'a12', 'a53', 'a105', 'a19', 'a119', 'a19', 'a8', 'a22', 'a120', 'a22', 'a10', 'a2', 'a8', 'a8', 'a8', 'a10', 'a19', 'a10', 'a121', 'a8', 'a122', 'a41', 'a123', 'a8', 'a10', 'a124', 'a8', 'a125', 'a24', 'a22', 'a24', 'a8', 'a22', 'a2', 'a126', 'a8', 'a127', 'a8', 'a128', 'a8', 'a11', 'a8', 'a10', 'a22', 'a8', 'a10', 'a8', 'a8', 'a53', 'a24', 'a3', 'a11', 'a8', 'a55', 'a24', 'a31', 'a129', 'a130', 'a10', 'a8', 'a9', 'a8', 'a90', 'a8', 'a131', 'a8', 'a132', 'a22', 'a3', 'a133', 'a9', 'a65', 'a134', 'a135', 'a136', 'a2', 'a137', 'a138', 'a22', 'a8', 'a139', 'a69', 'a22', 'a8', 'a140', 'a22', 'a141', 'a142', 'a112', 'a8', 'a60', 'a76', 'a22', 'a2', 'a22', 'a51', 'a22', 'a19', 'a143', 'a144', 'a10', 'a8', 'a31', 'a22', 'a8', 'a8', 'a145', 'a53', 'a5', 'a146', 'a24', 'a8', 'a5', 'a22', 'a147', 'a10', 'a148', 'a149', 'a150', 'a151', 'a152', 'a8', 'a5', 'a8', 'a22', 'a153', 'a10', 'a72', 'a22', 'a8', 'a10', 'a105', 'a154', 'a35', 'a10', 'a8', 'a90', 'a8', 'a8', 'a11', 'a72', 'a155', 'a10', 'a2', 'a156', 'a22', 'a78', 'a112', 'a10', 'a90', 'a112', 'a5', 'a89', 'a4', 'a9', 'a112', 'a33', 'a11', 'a8', 'a157', 'a158', 'a10', 'a8', 'a35', 'a159', 'a8', 'a160', 'a161', 'a10', 'a162', 'a163', 'a164', 'a12', 'a165', 'a166', 'a57', 'a167', 'a8', 'a5', 'a83', 'a10', 'a118', 'a57', 'a10', 'a76', 'a22', 'a168', 'a140', 'a2', 'a10', 'a11', 'a8', 'a22', 'a169', 'a8', 'a73', 'a5', 'a142', 'a10', 'a8', 'a10', 'a8', 'a8', 'a83', 'a11', 'a52', 'a10', 'a22', 'a53', 'a90', 'a170', 'a8', 'a171', 'a8', 'a83', 'a172', 'a48', 'a12', 'a173', 'a11', 'a8', 'a11', 'a8', 'a8', 'a22', 'a174', 'a2', 'a175', 'a8', 'a8', 'a8', 'a53', 'a22', 'a2', 'a127', 'a22', 'a40', 'a8', 'a38', 'a8', 'a8', 'a76', 'a8', 'a8', 'a8', 'a176', 'a177', 'a8', 'a178', 'a41', 'a9', 'a8', 'a8', 'a2', 'a10', 'a179', 'a11', 'a12', 'a180', 'a2', 'a8', 'a2', 'a181', 'a24', 'a182', 'a19', 'a2', 'a10', 'a10', 'a48', 'a183', 'a184', 'a8', 'a10', 'a72', 'a22', 'a8', 'a185', 'a186', 'a8', 'a10', 'a8', 'a187', 'a188', 'a4', 'a189', 'a190', 'a40', 'a8', 'a90', 'a2', 'a10', 'a22', 'a24', 'a184', 'a191', 'a8', 'a22', 'a10', 'a192', 'a12', 'a193', 'a194', 'a195', 'a196', 'a8', 'a31', 'a8', 'a24', 'a22', 'a4', 'a197', 'a133', 'a198', 'a3', 'a10', 'a12', 'a2', 'a22', 'a199', 'a8', 'a12', 'a118', 'a2', 'a8', 'a10', 'a190', 'a8', 'a8', 'a5', 'a8', 'a9', 'a8', 'a8', 'a200', 'a26', 'a8', 'a10', 'a201', 'a10', 'a10', 'a202', 'a8', 'a8', 'a19', 'a12', 'a22', 'a9', 'a10', 'a203', 'a204', 'a8', 'a205', 'a105', 'a10', 'a206', 'a8', 'a31', 'a207', 'a208', 'a209', 'a26', 'a210', 'a211', 'a8', 'a8', 'a8', 'a2', 'a8', 'a90', 'a212', 'a5', 'a8', 'a10', 'a83', 'a4', 'a22', 'a213', 'a22', 'a204', 'a214', 'a22', 'a19', 'a8', 'a11', 'a48', 'a8', 'a204', 'a2', 'a215', 'a22', 'a216', 'a22', 'a217', 'a218', 'a10', 'a8', 'a22', 'a147', 'a90', 'a19', 'a219', 'a10', 'a10', 'a170', 'a8', 'a5', 'a8', 'a220', 'a22', 'a221', 'a72', 'a52', 'a10', 'a8', 'a8', 'a11', 'a22', 'a145', 'a124', 'a8', 'a2', 'a26', 'a12', 'a8', 'a76', 'a9', 'a2', 'a222', 'a11', 'a223', 'a224', 'a8', 'a225', 'a226', 'a112', 'a72', 'a8', 'a8', 'a227', 'a228', 'a229', 'a230', 'a8', 'a54', 'a8', 'a10', 'a231', 'a232', 'a72', 'a7', 'a19', 'a8', 'a233', 'a2', 'a10', 'a8', 'a118', 'a53', 'a112', 'a72', 'a9', 'a234', 'a212', 'a26', 'a72', 'a8', 'a8', 'a8', 'a8', 'a235', 'a8', 'a2', 'a89', 'a236', 'a237', 'a8', 'a53', 'a8', 'a9', 'a8', 'a9', 'a238', 'a239', 'a240', 'a8', 'a241', 'a10', 'a8', 'a22', 'a22', 'a2', 'a242', 'a11', 'a19', 'a10', 'a243', 'a8', 'a244', 'a8', 'a10', 'a232', 'a22', 'a7', 'a11', 'a245', 'a12', 'a10', 'a8', 'a246', 'a5', 'a35', 'a247', 'a22', 'a8', 'a10', 'a8', 'a8', 'a8', 'a8', 'a8', 'a248', 'a11', 'a24', 'a118', 'a8', 'a22', 'a10', 'a19', 'a8', 'a249', 'a118', 'a250', 'a190', 'a10', 'a251', 'a8', 'a8', 'a252', 'a9', 'a22', 'a90', 'a8', 'a22', 'a253', 'a152', 'a51', 'a3', 'a254', 'a10', 'a255', 'a118', 'a10', 'a8', 'a8', 'a57', 'a8', 'a256', 'a24', 'a3', 'a8', 'a11', 'a257', 'a8', 'a258', 'a10', 'a11', 'a76', 'a9', 'a4', 'a33', 'a259', 'a8', 'a9', 'a22', 'a260', 'a8', 'a2', 'a57', 'a10', 'a9', 'a22', 'a8', 'a26', 'a261', 'a53', 'a3', 'a22', 'a262', 'a263', 'a142', 'a8', 'a264', 'a140', 'a10', 'a2', 'a176', 'a2', 'a8', 'a265', 'a8', 'a24', 'a10', 'a266', 'a267', 'a127', 'a8', 'a4', 'a48', 'a10', 'a91', 'a9', 'a94', 'a10', 'a8', 'a9', 'a202', 'a9', 'a183', 'a8', 'a142', 'a2', 'a8', 'a8', 'a11', 'a8', 'a268', 'a8', 'a8', 'a8', 'a10', 'a22', 'a142', 'a10', 'a269', 'a8', 'a8', 'a270', 'a2', 'a8']\n"
     ]
    }
   ],
   "source": [
    "map_to_names = {}\n",
    "name_to_counts = {}\n",
    "inputs_set = []\n",
    "\n",
    "s = np.random.zipf(a, 1000)\n",
    "\n",
    "\n",
    "for x in s:\n",
    "    if x not in map_to_names:\n",
    "        name = 'a%d'%(len(map_to_names))\n",
    "        map_to_names[x] = name\n",
    "        name_to_counts[name] = 0\n",
    "    name_to_counts[map_to_names[x]] +=1\n",
    "    inputs_set.append(map_to_names[x])\n",
    "\n",
    "print(inputs_set)"
   ]
  },
  {
   "cell_type": "code",
   "execution_count": 70,
   "metadata": {},
   "outputs": [],
   "source": [
    "import random\n",
    "\n",
    "# 0. select \n",
    "ds_sizes = [10, 20, 40, 32, 64, 128]\n",
    "queries = range(1, 23)\n",
    "\n",
    "n_queries = 200\n",
    "\n",
    "input_objects = {}\n",
    "\n"
   ]
  },
  {
   "cell_type": "code",
   "execution_count": 82,
   "metadata": {},
   "outputs": [
    {
     "data": {
      "text/plain": [
       "(64, 207)"
      ]
     },
     "execution_count": 82,
     "metadata": {},
     "output_type": "execute_result"
    }
   ],
   "source": [
    "reused_ds = [x for x in name_to_counts if name_to_counts[x] > 1]\n",
    "unique_ds = [x for x in name_to_counts if name_to_counts[x] == 1]\n",
    "len(reused_ds), len(unique_ds)"
   ]
  },
  {
   "cell_type": "code",
   "execution_count": null,
   "metadata": {},
   "outputs": [],
   "source": [
    "choise = random.sample(reused_ds, k=20)\n",
    "unique_ds = random.sample(reused_ds, k=160)"
   ]
  }
 ],
 "metadata": {
  "kernelspec": {
   "display_name": "Python 3",
   "language": "python",
   "name": "python3"
  }
 },
 "nbformat": 4,
 "nbformat_minor": 2
}
