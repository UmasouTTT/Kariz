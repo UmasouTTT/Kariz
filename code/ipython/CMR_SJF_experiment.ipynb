{
 "cells": [
  {
   "cell_type": "code",
   "execution_count": 1,
   "metadata": {},
   "outputs": [],
   "source": [
    "# 1. names \n",
    "# 2. size names to inputs \n",
    "\n",
    "names = ['orders', 'customer', 'nation', 'supplier', 'partsupp', 'lineitem', 'part', 'region']"
   ]
  },
  {
   "cell_type": "code",
   "execution_count": 2,
   "metadata": {},
   "outputs": [],
   "source": [
    "import random\n",
    "\n",
    "inputs = {}\n",
    "inputs['nation'] = random.randint(1, 10)\n",
    "inputs['region'] = random.randint(5, 15)\n",
    "inputs['customer'] = random.randint(20, 40)\n",
    "inputs['orders'] = random.randint(20, 40)\n",
    "inputs['supplier'] = random.randint(30, 60)\n",
    "inputs['partsupp']= random.randint(30, 60)\n",
    "inputs['part'] = random.randint(40, 80)\n",
    "inputs['lineitem']= random.randint(40, 80)"
   ]
  },
  {
   "cell_type": "code",
   "execution_count": 87,
   "metadata": {},
   "outputs": [
    {
     "data": {
      "text/plain": [
       "290"
      ]
     },
     "execution_count": 87,
     "metadata": {},
     "output_type": "execute_result"
    }
   ],
   "source": [
    "sum(inputs.values())"
   ]
  },
  {
   "cell_type": "code",
   "execution_count": 27,
   "metadata": {},
   "outputs": [],
   "source": [
    "# read the inputs \n",
    "input_file = '/local0/Kariz/expriments/simulator/multidag/config/synthetic_worload_md_0p.g'\n",
    "input_str = ''\n",
    "visited = {}\n",
    "with open(input_file, 'r') as fd:\n",
    "    for ds in fd.read().split(','):\n",
    "        if ds not in visited:\n",
    "            visited[ds] = 0 \n",
    "            for i in inputs:\n",
    "                input_str += '%s_%s,%d\\n'%(ds,i,inputs[i])\n",
    "            \n",
    "input_metadata_f = '/local0/Kariz/expriments/simulator/multidag/config/inputs.csv'\n",
    "with open(input_metadata_f, 'a') as fd:\n",
    "    fd.write(input_str)"
   ]
  },
  {
   "cell_type": "code",
   "execution_count": 29,
   "metadata": {},
   "outputs": [
    {
     "data": {
      "text/plain": [
       "7134"
      ]
     },
     "execution_count": 29,
     "metadata": {},
     "output_type": "execute_result"
    }
   ],
   "source": [
    "input_metadata_f = '/local0/Kariz/expriments/simulator/multidag/config/inputs.csv'\n",
    "metadata = {}\n",
    "with open(input_metadata_f, 'r') as fd:\n",
    "    for ln in fd.read().split('\\n')[1:][:-1]:\n",
    "        name, size = ln.split(',')\n",
    "        metadata[name] = int(size)\n",
    "        \n",
    "len(metadata)"
   ]
  },
  {
   "cell_type": "code",
   "execution_count": 86,
   "metadata": {},
   "outputs": [],
   "source": [
    "# read the inputs \n",
    "input_file = '/local0/Kariz/expriments/simulator/multidag/config/synthetic_worload_md_100p.g'\n",
    "with open(input_file, 'r') as fd:\n",
    "    inputs_ds = fd.read().split(',')\n",
    "\n",
    "\n",
    "workload_file = '/local0/Kariz/expriments/simulator/multidag/config/synthetic_worload_pig_0.g'\n",
    "with open(workload_file, 'r') as fd:\n",
    "    lines = fd.readlines()\n",
    "    workload_str1 = ''\n",
    "    workload_str2 = ''\n",
    "    i = 0\n",
    "    for ln in lines:\n",
    "        if ln.startswith('%'):\n",
    "            continue\n",
    "        if ln.startswith('#'):\n",
    "            tline = ln.split(',')\n",
    "            tline[1] = str(int(tline[1]) + 200)\n",
    "            ds = inputs_ds[i]\n",
    "            i += 1\n",
    "            workload_str1 += ln\n",
    "            workload_str2 += ','.join(tline)\n",
    "        if ln.startswith('v'):\n",
    "            tline = ln.split(',')\n",
    "            #print(tline[3])\n",
    "            tline[3] =  ':'.join(['%s_%s'%(ds, t.split('_')[1]) for t in tline[3].split(':')]) if len(tline[3]) else ''\n",
    "            workload_str1 += ','.join(tline)\n",
    "            workload_str2 += ','.join(tline)\n",
    "        if ln.startswith('e'):\n",
    "            workload_str1 += ln\n",
    "            workload_str2 += ln\n",
    "        \n",
    "\n",
    "workload_file2 = '/local0/Kariz/expriments/simulator/multidag/config/zipf_synthetic_worload_md_100p_pig.g'\n",
    "with open(workload_file2, 'w') as fd:\n",
    "    fd.write(workload_str1)\n",
    "    fd.write(workload_str2)"
   ]
  },
  {
   "cell_type": "code",
   "execution_count": null,
   "metadata": {},
   "outputs": [],
   "source": []
  }
 ],
 "metadata": {
  "kernelspec": {
   "display_name": "Python 3",
   "language": "python",
   "name": "python3"
  },
  "language_info": {
   "codemirror_mode": {
    "name": "ipython",
    "version": 3
   },
   "file_extension": ".py",
   "mimetype": "text/x-python",
   "name": "python",
   "nbconvert_exporter": "python",
   "pygments_lexer": "ipython3",
   "version": "3.6.9"
  }
 },
 "nbformat": 4,
 "nbformat_minor": 2
}
