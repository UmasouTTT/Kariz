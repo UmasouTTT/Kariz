{
 "cells": [
  {
   "cell_type": "code",
   "execution_count": 80,
   "metadata": {},
   "outputs": [],
   "source": [
    "import requests\n",
    "import json\n",
    "\n",
    "# api-endpoint \n",
    "\n",
    "URL = \"http://neu-3-1:18080/api/v1/applications\"\n",
    "\n",
    "\n",
    "# sending get request and saving the response as response object \n",
    "r = requests.get(url = URL) \n",
    "  \n",
    "# extracting data in json format \n",
    "applications = r.json() "
   ]
  },
  {
   "cell_type": "code",
   "execution_count": 83,
   "metadata": {},
   "outputs": [
    {
     "name": "stdout",
     "output_type": "stream",
     "text": [
      "671\n",
      "616814\n"
     ]
    },
    {
     "data": {
      "text/plain": [
       "<Response [200]>"
      ]
     },
     "execution_count": 83,
     "metadata": {},
     "output_type": "execute_result"
    }
   ],
   "source": [
    "import time \n",
    "import datetime \n",
    "\n",
    "def get_stages(app_id):\n",
    "    print(app_id)\n",
    "    URL = \"http://neu-3-1:18080/api/v1/applications/%s/stages\"%(app_id)\n",
    "    # sending get request and saving the response as response object \n",
    "    if URL == \"http://neu-3-1:18080/api/v1/applications/app-20200617160405-0036/stages\":\n",
    "        print(URL)\n",
    "        \n",
    "    URL=\"http://neu-3-1:18080/api/v1/applications/app-20200617160405-0036/stages\"\n",
    "        \n",
    "    r = requests.get(url = URL) \n",
    "    #print(r)\n",
    "    # extracting data in json format \n",
    "    stages = r.json() \n",
    "\n",
    "    for s in stages:\n",
    "        submit_time = time.mktime(datetime.datetime.strptime(s['submissionTime'], \n",
    "                                                     \"%Y-%m-%dT%H:%M:%S.%fGMT\").timetuple())        \n",
    "        start_time = time.mktime(datetime.datetime.strptime(s['firstTaskLaunchedTime'], \n",
    "                                                     \"%Y-%m-%dT%H:%M:%S.%fGMT\").timetuple())\n",
    "        completion_time = time.mktime(datetime.datetime.strptime(s['completionTime'], \n",
    "                                                     \"%Y-%m-%dT%H:%M:%S.%fGMT\").timetuple())\n",
    "        #print(s['stageId'], s['inputBytes'], s['outputBytes'], s['rddIds'],\n",
    "        #      s['numTasks'], completion_time - submit_time)\n",
    "        \n",
    "        #print(s.keys())\n",
    "        #break\n",
    "\n",
    "print(len(applications))\n",
    "for app in applications:\n",
    "    if app['id'] == 'app-20200619083519-0669':\n",
    "        print(app['attempts'][0]['duration'])\n",
    "        break\n",
    "    \n",
    "    \n",
    "r"
   ]
  },
  {
   "cell_type": "code",
   "execution_count": null,
   "metadata": {},
   "outputs": [],
   "source": [
    "import pandas as pd\n",
    "\n",
    "df = pd.read_csv('/local0/Kariz/expriments/runtime_prediction/micro/results/wordcount-spark.csv')\n",
    "df"
   ]
  },
  {
   "cell_type": "code",
   "execution_count": 63,
   "metadata": {},
   "outputs": [],
   "source": [
    "df[df['stage_id'] == 0][['dataset', 'bw', 'stride', 'runtime']]\n",
    "\n",
    "cache_block_size = 4*1024*1024\n",
    "one_gig = 1<<30\n",
    "df['dataset_size'] = df['dataset'].map(lambda x: (int(x.rstrip('G'))<<30))\n",
    "\n",
    "\n",
    "\n",
    "df2 = df[(df['bw']=='10Gbps') & (df['dataset']=='64G') & (df['stage_id']==0)]"
   ]
  },
  {
   "cell_type": "code",
   "execution_count": 64,
   "metadata": {},
   "outputs": [],
   "source": [
    "df2 = df[(df['bw']=='10Gbps') & (df['dataset']=='64G') & (df['stage_id']==0)]"
   ]
  },
  {
   "cell_type": "code",
   "execution_count": 71,
   "metadata": {},
   "outputs": [
    {
     "data": {
      "image/png": "[encoded data removed]",
      "text/plain": [
       "<Figure size 432x288 with 1 Axes>"
      ]
     },
     "metadata": {
      "needs_background": "light"
     },
     "output_type": "display_data"
    }
   ],
   "source": [
    "import seaborn as sns\n",
    "import matplotlib.pyplot as plt\n",
    "import matplotlib.ticker as ticker\n",
    "\n",
    "sns.regplot(x='stride', y='runtime', \n",
    "            data=df[(df['bw']=='1Gbps') & (df['dataset']=='64G') & (df['stage_id']==0)])\n",
    "\n",
    "\n",
    "#sns.regplot(x='stride', y='runtime', \n",
    "#            data=df[(df['bw']=='1Gbps') & (df['dataset']=='32G') & (df['stage_id']==0)])\n",
    "\n",
    "\n",
    "#sns.regplot(x='stride', y='runtime', \n",
    "#            data=df[(df['bw']=='1Gbps') & (df['dataset']=='16G') & (df['stage_id']==0)])\n",
    "\n",
    "#sns.regplot(x='stride', y='runtime', \n",
    "#            data=df[(df['bw']=='1Gbps') & (df['dataset']=='4G') & (df['stage_id']==0)])\n",
    "\n",
    "plt.show()"
   ]
  },
  {
   "cell_type": "code",
   "execution_count": 59,
   "metadata": {},
   "outputs": [
    {
     "data": {
      "text/plain": [
       "array(['1G', '4G', '16G', '32G', '64G'], dtype=object)"
      ]
     },
     "execution_count": 59,
     "metadata": {},
     "output_type": "execute_result"
    }
   ],
   "source": [
    "df[(df['bw']=='40Gbps') & (df['stage_id']==0)]['dataset'].unique()"
   ]
  },
  {
   "cell_type": "code",
   "execution_count": 79,
   "metadata": {},
   "outputs": [
    {
     "data": {
      "text/plain": [
       "'/HiBench/Wordcount/Input-64G'"
      ]
     },
     "execution_count": 79,
     "metadata": {},
     "output_type": "execute_result"
    }
   ],
   "source": [
    "path = 's3a://data/HiBench/Wordcount/Input-64G'\n",
    "\n",
    "path.split('data', 1)[1]"
   ]
  },
  {
   "cell_type": "code",
   "execution_count": null,
   "metadata": {},
   "outputs": [],
   "source": []
  }
 ],
 "metadata": {
  "kernelspec": {
   "display_name": "Python 3",
   "language": "python",
   "name": "python3"
  },
  "language_info": {
   "codemirror_mode": {
    "name": "ipython",
    "version": 3
   },
   "file_extension": ".py",
   "mimetype": "text/x-python",
   "name": "python",
   "nbconvert_exporter": "python",
   "pygments_lexer": "ipython3",
   "version": "3.6.9"
  }
 },
 "nbformat": 4,
 "nbformat_minor": 2
}
