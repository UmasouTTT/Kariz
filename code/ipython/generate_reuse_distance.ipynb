{
 "cells": [
  {
   "cell_type": "code",
   "execution_count": null,
   "metadata": {},
   "outputs": [],
   "source": [
    "import numpy as np\n",
    "import matplotlib.pyplot as plt\n",
    "from scipy import special "
   ]
  },
  {
   "cell_type": "code",
   "execution_count": 114,
   "metadata": {},
   "outputs": [
    {
     "name": "stdout",
     "output_type": "stream",
     "text": [
      "['a0', 'a1', 'a2', 'a3', 'a4', 'a5', 'a6', 'a7', 'a8', 'a9', 'a10', 'a11', 'a12', 'a13', 'a14', 'a15', 'a16', 'a17', 'a15', 'a18', 'a15', 'a19', 'a20', 'a21', 'a22', 'a23', 'a24', 'a25', 'a26', 'a27', 'a28', 'a22', 'a29', 'a30', 'a31', 'a32', 'a33', 'a34', 'a35', 'a36', 'a37', 'a38', 'a39', 'a40', 'a41', 'a42', 'a43', 'a44', 'a45', 'a46', 'a47', 'a22', 'a48', 'a49', 'a50', 'a51', 'a15', 'a52', 'a53', 'a46', 'a54', 'a55', 'a46', 'a56', 'a45', 'a45', 'a57', 'a58', 'a59', 'a60', 'a61', 'a62', 'a63', 'a64', 'a22', 'a65', 'a46', 'a66', 'a15', 'a67', 'a68', 'a69', 'a22', 'a70', 'a71', 'a72', 'a22', 'a15', 'a73', 'a19', 'a74', 'a75', 'a76', 'a77', 'a78', 'a79', 'a80', 'a81', 'a82', 'a46', 'a83', 'a84', 'a85', 'a86', 'a87', 'a45', 'a88', 'a89', 'a90', 'a91', 'a92', 'a93', 'a94', 'a95', 'a96', 'a97', 'a98', 'a99', 'a15', 'a100', 'a101', 'a102', 'a103', 'a104', 'a105', 'a106', 'a15', 'a107', 'a108', 'a109', 'a110', 'a111', 'a22', 'a15', 'a112', 'a113', 'a114', 'a115', 'a116', 'a43', 'a117', 'a118', 'a119', 'a120', 'a121', 'a122', 'a123', 'a124', 'a125', 'a126', 'a127', 'a126', 'a128', 'a15', 'a129', 'a130', 'a131', 'a132', 'a110', 'a133', 'a134', 'a135', 'a136', 'a137', 'a138', 'a139', 'a140', 'a141', 'a45', 'a142', 'a143', 'a144', 'a145', 'a146', 'a147', 'a148', 'a46', 'a149', 'a150', 'a19', 'a151', 'a152', 'a153', 'a154', 'a155', 'a156', 'a45', 'a157', 'a158', 'a159', 'a160', 'a161', 'a162', 'a163', 'a164', 'a165', 'a142', 'a15', 'a166', 'a167']\n"
     ]
    },
    {
     "data": {
      "text/plain": [
       "(41, 0.205)"
      ]
     },
     "execution_count": 114,
     "metadata": {},
     "output_type": "execute_result"
    }
   ],
   "source": [
    "# 20% workload\n",
    "\n",
    "map_to_names = {}\n",
    "name_to_counts = {}\n",
    "inputs_set = []\n",
    "\n",
    "a= 1.063\n",
    "s = np.random.zipf(a, 200)\n",
    "\n",
    "\n",
    "for x in s:\n",
    "    if x not in map_to_names:\n",
    "        name = 'a%d'%(len(map_to_names))\n",
    "        map_to_names[x] = name\n",
    "        name_to_counts[name] = 0\n",
    "    name_to_counts[map_to_names[x]] +=1\n",
    "    inputs_set.append(map_to_names[x])\n",
    "\n",
    "print(inputs_set)\n",
    "\n",
    "reused_ds = [x for x in name_to_counts if name_to_counts[x] > 1]\n",
    "unique_ds = [x for x in name_to_counts if name_to_counts[x] == 1]\n",
    "len(reused_ds), len(unique_ds)\n",
    "\n",
    "reuse = 0\n",
    "for x in name_to_counts:\n",
    "    if name_to_counts[x] > 1: reuse += name_to_counts[x]\n",
    "\n",
    "path = '/local0/Kariz/expriments/simulator/multidag/config/synthetic_worload_md_20p.g'\n",
    "with open(path, 'w') as fd:\n",
    "    fd.write(','.join(inputs_set))\n",
    "        \n",
    "reuse, reuse/len(inputs_set)"
   ]
  },
  {
   "cell_type": "code",
   "execution_count": 126,
   "metadata": {},
   "outputs": [
    {
     "name": "stdout",
     "output_type": "stream",
     "text": [
      "['b0', 'b1', 'b2', 'b3', 'b4', 'b5', 'b6', 'b7', 'b8', 'b9', 'b10', 'b11', 'b12', 'b13', 'b14', 'b15', 'b16', 'b6', 'b17', 'b18', 'b19', 'b20', 'b21', 'b22', 'b23', 'b24', 'b25', 'b26', 'b27', 'b28', 'b29', 'b30', 'b31', 'b32', 'b33', 'b23', 'b34', 'b35', 'b18', 'b36', 'b10', 'b37', 'b24', 'b38', 'b39', 'b23', 'b40', 'b18', 'b41', 'b3', 'b24', 'b18', 'b10', 'b42', 'b43', 'b18', 'b44', 'b45', 'b46', 'b47', 'b48', 'b49', 'b18', 'b50', 'b51', 'b10', 'b52', 'b48', 'b18', 'b18', 'b53', 'b54', 'b55', 'b18', 'b24', 'b56', 'b23', 'b18', 'b56', 'b24', 'b57', 'b58', 'b3', 'b58', 'b59', 'b60', 'b23', 'b61', 'b62', 'b63', 'b64', 'b65', 'b36', 'b24', 'b66', 'b10', 'b67', 'b24', 'b58', 'b68', 'b69', 'b70', 'b24', 'b71', 'b72', 'b73', 'b74', 'b75', 'b76', 'b77', 'b78', 'b79', 'b80', 'b81', 'b82', 'b24', 'b83', 'b24', 'b84', 'b85', 'b32', 'b86', 'b24', 'b18', 'b10', 'b87', 'b88', 'b89', 'b3', 'b90', 'b91', 'b92', 'b24', 'b93', 'b94', 'b95', 'b34', 'b96', 'b10', 'b97', 'b98', 'b99', 'b24', 'b23', 'b24', 'b100', 'b101', 'b102', 'b24', 'b23', 'b103', 'b104', 'b105', 'b106', 'b107', 'b24', 'b108', 'b23', 'b32', 'b109', 'b110', 'b111', 'b112', 'b24', 'b67', 'b113', 'b13', 'b114', 'b115', 'b116', 'b117', 'b118', 'b23', 'b119', 'b120', 'b121', 'b122', 'b123', 'b124', 'b125', 'b24', 'b126', 'b127', 'b16', 'b59', 'b128', 'b23', 'b129', 'b108', 'b130', 'b131', 'b132', 'b24', 'b133', 'b134', 'b135', 'b58', 'b136', 'b137', 'b23']\n"
     ]
    },
    {
     "data": {
      "text/plain": [
       "(79, 0.395)"
      ]
     },
     "execution_count": 126,
     "metadata": {},
     "output_type": "execute_result"
    }
   ],
   "source": [
    "# 40% workload\n",
    "map_to_names = {}\n",
    "name_to_counts = {}\n",
    "inputs_set = []\n",
    "\n",
    "a= 1.128\n",
    "s = np.random.zipf(a, 200)\n",
    "\n",
    "\n",
    "for index, x in enumerate(s):\n",
    "    if x not in map_to_names:\n",
    "        name = 'b%d'%(len(map_to_names))\n",
    "        map_to_names[x] = name\n",
    "        name_to_counts[name] = 0\n",
    "    name_to_counts[map_to_names[x]] +=1\n",
    "    inputs_set.append(map_to_names[x])\n",
    "\n",
    "print(inputs_set)\n",
    "\n",
    "reuse = 0\n",
    "for x in name_to_counts:\n",
    "    if name_to_counts[x] > 1: reuse += name_to_counts[x]\n",
    "\n",
    "path = '/local0/Kariz/expriments/simulator/multidag/config/synthetic_worload_md_40p.g'\n",
    "with open(path, 'w') as fd:\n",
    "    fd.write(','.join(inputs_set))\n",
    "        \n",
    "reuse, reuse/len(inputs_set)"
   ]
  },
  {
   "cell_type": "code",
   "execution_count": 136,
   "metadata": {},
   "outputs": [
    {
     "name": "stdout",
     "output_type": "stream",
     "text": [
      "['c0', 'c1', 'c2', 'c3', 'c4', 'c0', 'c5', 'c6', 'c7', 'c8', 'c9', 'c7', 'c10', 'c11', 'c12', 'c7', 'c13', 'c14', 'c14', 'c14', 'c14', 'c15', 'c16', 'c17', 'c18', 'c14', 'c14', 'c19', 'c20', 'c21', 'c14', 'c22', 'c14', 'c23', 'c14', 'c24', 'c14', 'c25', 'c26', 'c14', 'c27', 'c28', 'c14', 'c16', 'c29', 'c30', 'c31', 'c32', 'c14', 'c9', 'c33', 'c7', 'c34', 'c0', 'c35', 'c36', 'c37', 'c38', 'c39', 'c7', 'c40', 'c41', 'c0', 'c42', 'c14', 'c43', 'c0', 'c44', 'c45', 'c46', 'c47', 'c5', 'c48', 'c14', 'c14', 'c14', 'c49', 'c50', 'c51', 'c14', 'c52', 'c14', 'c53', 'c46', 'c42', 'c54', 'c14', 'c55', 'c56', 'c57', 'c7', 'c9', 'c58', 'c7', 'c27', 'c16', 'c59', 'c60', 'c61', 'c14', 'c14', 'c62', 'c63', 'c64', 'c14', 'c14', 'c65', 'c3', 'c66', 'c14', 'c14', 'c16', 'c3', 'c0', 'c3', 'c7', 'c14', 'c67', 'c16', 'c16', 'c68', 'c10', 'c7', 'c42', 'c14', 'c0', 'c14', 'c69', 'c33', 'c70', 'c71', 'c18', 'c26', 'c72', 'c73', 'c9', 'c67', 'c10', 'c14', 'c14', 'c7', 'c14', 'c74', 'c75', 'c14', 'c76', 'c14', 'c14', 'c7', 'c42', 'c7', 'c14', 'c14', 'c14', 'c77', 'c14', 'c78', 'c79', 'c80', 'c81', 'c82', 'c83', 'c84', 'c0', 'c14', 'c85', 'c25', 'c81', 'c82', 'c14', 'c86', 'c0', 'c87', 'c88', 'c7', 'c89', 'c90', 'c14', 'c3', 'c80', 'c91', 'c14', 'c92', 'c14', 'c93', 'c94', 'c95', 'c96', 'c14', 'c7', 'c14', 'c7', 'c0', 'c97', 'c98', 'c14', 'c99', 'c7', 'c100', 'c101']\n"
     ]
    },
    {
     "data": {
      "text/plain": [
       "(117, 0.585)"
      ]
     },
     "execution_count": 136,
     "metadata": {},
     "output_type": "execute_result"
    }
   ],
   "source": [
    "# 60% workload\n",
    "map_to_names = {}\n",
    "name_to_counts = {}\n",
    "inputs_set = []\n",
    "\n",
    "a= 1.23\n",
    "s = np.random.zipf(a, 200)\n",
    "\n",
    "\n",
    "for index, x in enumerate(s):\n",
    "    if x not in map_to_names:\n",
    "        name = 'c%d'%(len(map_to_names))\n",
    "        map_to_names[x] = name\n",
    "        name_to_counts[name] = 0\n",
    "    name_to_counts[map_to_names[x]] +=1\n",
    "    inputs_set.append(map_to_names[x])\n",
    "\n",
    "print(inputs_set)\n",
    "\n",
    "reuse = 0\n",
    "for x in name_to_counts:\n",
    "    if name_to_counts[x] > 1: reuse += name_to_counts[x]\n",
    "\n",
    "path = '/local0/Kariz/expriments/simulator/multidag/config/synthetic_worload_md_60p.g'\n",
    "with open(path, 'w') as fd:\n",
    "    fd.write(','.join(inputs_set))\n",
    "        \n",
    "reuse, reuse/len(inputs_set)"
   ]
  },
  {
   "cell_type": "code",
   "execution_count": 139,
   "metadata": {},
   "outputs": [
    {
     "name": "stdout",
     "output_type": "stream",
     "text": [
      "['d0', 'd1', 'd0', 'd2', 'd3', 'd4', 'd0', 'd5', 'd6', 'd0', 'd7', 'd8', 'd0', 'd0', 'd9', 'd0', 'd10', 'd11', 'd0', 'd0', 'd12', 'd13', 'd0', 'd14', 'd1', 'd0', 'd4', 'd0', 'd15', 'd0', 'd0', 'd16', 'd4', 'd0', 'd0', 'd0', 'd17', 'd4', 'd18', 'd17', 'd19', 'd0', 'd1', 'd4', 'd0', 'd20', 'd4', 'd0', 'd4', 'd1', 'd2', 'd0', 'd8', 'd21', 'd17', 'd0', 'd0', 'd22', 'd23', 'd6', 'd17', 'd0', 'd0', 'd0', 'd0', 'd0', 'd24', 'd0', 'd0', 'd25', 'd26', 'd27', 'd0', 'd23', 'd4', 'd0', 'd0', 'd0', 'd1', 'd24', 'd13', 'd0', 'd4', 'd1', 'd0', 'd0', 'd28', 'd0', 'd4', 'd29', 'd26', 'd4', 'd30', 'd0', 'd30', 'd0', 'd0', 'd0', 'd4', 'd0', 'd31', 'd32', 'd33', 'd30', 'd28', 'd1', 'd0', 'd34', 'd0', 'd0', 'd35', 'd7', 'd4', 'd1', 'd0', 'd0', 'd6', 'd0', 'd17', 'd36', 'd4', 'd37', 'd0', 'd7', 'd14', 'd38', 'd4', 'd0', 'd23', 'd39', 'd0', 'd40', 'd41', 'd1', 'd42', 'd2', 'd3', 'd43', 'd30', 'd0', 'd44', 'd30', 'd7', 'd8', 'd17', 'd45', 'd0', 'd7', 'd4', 'd1', 'd4', 'd4', 'd0', 'd0', 'd2', 'd0', 'd0', 'd0', 'd1', 'd4', 'd0', 'd0', 'd46', 'd14', 'd0', 'd26', 'd0', 'd0', 'd47', 'd48', 'd49', 'd0', 'd50', 'd0', 'd0', 'd26', 'd51', 'd0', 'd52', 'd0', 'd53', 'd0', 'd54', 'd55', 'd0', 'd0', 'd56', 'd0', 'd1', 'd0', 'd0', 'd57', 'd17', 'd58', 'd59', 'd0', 'd7', 'd0', 'd1', 'd0']\n"
     ]
    },
    {
     "data": {
      "text/plain": [
       "(156, 0.78)"
      ]
     },
     "execution_count": 139,
     "metadata": {},
     "output_type": "execute_result"
    }
   ],
   "source": [
    "# 80% workload\n",
    "map_to_names = {}\n",
    "name_to_counts = {}\n",
    "inputs_set = []\n",
    "\n",
    "a= 1.38\n",
    "s = np.random.zipf(a, 200)\n",
    "\n",
    "\n",
    "for index, x in enumerate(s):\n",
    "    if x not in map_to_names:\n",
    "        name = 'd%d'%(len(map_to_names))\n",
    "        map_to_names[x] = name\n",
    "        name_to_counts[name] = 0\n",
    "    name_to_counts[map_to_names[x]] +=1\n",
    "    inputs_set.append(map_to_names[x])\n",
    "\n",
    "print(inputs_set)\n",
    "\n",
    "reuse = 0\n",
    "for x in name_to_counts:\n",
    "    if name_to_counts[x] > 1: reuse += name_to_counts[x]\n",
    "\n",
    "path = '/local0/Kariz/expriments/simulator/multidag/config/synthetic_worload_md_80p.g'\n",
    "with open(path, 'w') as fd:\n",
    "    fd.write(','.join(inputs_set))\n",
    "        \n",
    "reuse, reuse/len(inputs_set)"
   ]
  },
  {
   "cell_type": "code",
   "execution_count": 153,
   "metadata": {},
   "outputs": [
    {
     "name": "stdout",
     "output_type": "stream",
     "text": [
      "['e0', 'e1', 'e2', 'e0', 'e1', 'e3', 'e1', 'e1', 'e1', 'e1', 'e1', 'e4', 'e5', 'e1', 'e1', 'e1', 'e1', 'e1', 'e1', 'e1', 'e1', 'e1', 'e1', 'e1', 'e1', 'e1', 'e6', 'e1', 'e1', 'e1', 'e1', 'e6', 'e1', 'e2', 'e1', 'e1', 'e1', 'e7', 'e1', 'e1', 'e2', 'e1', 'e1', 'e1', 'e5', 'e1', 'e1', 'e1', 'e2', 'e6', 'e5', 'e8', 'e1', 'e3', 'e2', 'e1', 'e1', 'e1', 'e1', 'e1', 'e1', 'e1', 'e1', 'e3', 'e1', 'e1', 'e1', 'e1', 'e1', 'e1', 'e1', 'e1', 'e1', 'e1', 'e1', 'e9', 'e1', 'e1', 'e1', 'e1', 'e1', 'e1', 'e1', 'e1', 'e7', 'e1', 'e1', 'e1', 'e1', 'e3', 'e5', 'e1', 'e1', 'e1', 'e3', 'e3', 'e1', 'e1', 'e1', 'e1', 'e1', 'e1', 'e1', 'e1', 'e1', 'e1', 'e1', 'e3', 'e3', 'e1', 'e1', 'e1', 'e1', 'e1', 'e1', 'e3', 'e1', 'e1', 'e2', 'e1', 'e1', 'e10', 'e1', 'e3', 'e1', 'e1', 'e1', 'e1', 'e1', 'e3', 'e6', 'e1', 'e1', 'e1', 'e2', 'e3', 'e1', 'e1', 'e1', 'e1', 'e1', 'e1', 'e1', 'e3', 'e2', 'e1', 'e1', 'e1', 'e1', 'e3', 'e1', 'e1', 'e1', 'e1', 'e1', 'e1', 'e1', 'e1', 'e3', 'e1', 'e1', 'e3', 'e1', 'e3', 'e1', 'e1', 'e1', 'e1', 'e1', 'e1', 'e2', 'e1', 'e1', 'e1', 'e3', 'e1', 'e1', 'e1', 'e2', 'e1', 'e1', 'e2', 'e1', 'e1', 'e1', 'e1', 'e1', 'e11', 'e1', 'e6', 'e12', 'e3', 'e1', 'e3', 'e1', 'e1', 'e6', 'e3', 'e2', 'e1']\n"
     ]
    },
    {
     "data": {
      "text/plain": [
       "(194, 0.97)"
      ]
     },
     "execution_count": 153,
     "metadata": {},
     "output_type": "execute_result"
    }
   ],
   "source": [
    "# 100% workload\n",
    "map_to_names = {}\n",
    "name_to_counts = {}\n",
    "inputs_set = []\n",
    "\n",
    "a= 2.4\n",
    "s = np.random.zipf(a, 200)\n",
    "\n",
    "\n",
    "for index, x in enumerate(s):\n",
    "    if x not in map_to_names:\n",
    "        name = 'e%d'%(len(map_to_names))\n",
    "        map_to_names[x] = name\n",
    "        name_to_counts[name] = 0\n",
    "    name_to_counts[map_to_names[x]] +=1\n",
    "    inputs_set.append(map_to_names[x])\n",
    "\n",
    "print(inputs_set)\n",
    "\n",
    "reuse = 0\n",
    "for x in name_to_counts:\n",
    "    if name_to_counts[x] > 1: reuse += name_to_counts[x]\n",
    "\n",
    "path = '/local0/Kariz/expriments/simulator/multidag/config/synthetic_worload_md_100p.g'\n",
    "with open(path, 'w') as fd:\n",
    "    fd.write(','.join(inputs_set))\n",
    "        \n",
    "reuse, reuse/len(inputs_set)"
   ]
  },
  {
   "cell_type": "code",
   "execution_count": 147,
   "metadata": {},
   "outputs": [
    {
     "name": "stdout",
     "output_type": "stream",
     "text": [
      "['f0', 'f1', 'f2', 'f3', 'f4', 'f5', 'f6', 'f7', 'f8', 'f9', 'f10', 'f11', 'f12', 'f13', 'f14', 'f15', 'f16', 'f17', 'f18', 'f19', 'f20', 'f21', 'f22', 'f23', 'f24', 'f25', 'f26', 'f27', 'f28', 'f29', 'f30', 'f31', 'f32', 'f33', 'f34', 'f35', 'f36', 'f37', 'f38', 'f39', 'f40', 'f41', 'f42', 'f43', 'f44', 'f45', 'f46', 'f47', 'f48', 'f49', 'f50', 'f51', 'f52', 'f53', 'f54', 'f55', 'f56', 'f57', 'f58', 'f59', 'f60', 'f61', 'f62', 'f63', 'f64', 'f65', 'f66', 'f67', 'f68', 'f69', 'f70', 'f71', 'f72', 'f73', 'f74', 'f75', 'f76', 'f77', 'f78', 'f79', 'f80', 'f81', 'f82', 'f83', 'f84', 'f85', 'f86', 'f87', 'f88', 'f89', 'f90', 'f91', 'f92', 'f93', 'f94', 'f95', 'f96', 'f97', 'f98', 'f99', 'f100', 'f101', 'f102', 'f103', 'f104', 'f96', 'f105', 'f106', 'f107', 'f108', 'f109', 'f110', 'f111', 'f112', 'f113', 'f114', 'f115', 'f116', 'f117', 'f118', 'f119', 'f120', 'f121', 'f122', 'f123', 'f124', 'f125', 'f126', 'f127', 'f128', 'f129', 'f96', 'f130', 'f131', 'f132', 'f133', 'f134', 'f135', 'f136', 'f137', 'f138', 'f139', 'f140', 'f141', 'f142', 'f143', 'f144', 'f145', 'f146', 'f147', 'f148', 'f149', 'f150', 'f151', 'f152', 'f153', 'f154', 'f155', 'f156', 'f157', 'f158', 'f159', 'f160', 'f161', 'f162', 'f163', 'f164', 'f165', 'f166', 'f167', 'f168', 'f169', 'f170', 'f171', 'f172', 'f173', 'f174', 'f175', 'f176', 'f177', 'f178', 'f179', 'f180', 'f181', 'f182', 'f183', 'f184', 'f185', 'f186', 'f187', 'f188', 'f189', 'f190', 'f191', 'f192', 'f193', 'f194', 'f195', 'f196', 'f197']\n"
     ]
    },
    {
     "data": {
      "text/plain": [
       "(3, 0.015)"
      ]
     },
     "execution_count": 147,
     "metadata": {},
     "output_type": "execute_result"
    }
   ],
   "source": [
    "# 0% workload\n",
    "\n",
    "map_to_names = {}\n",
    "name_to_counts = {}\n",
    "inputs_set = []\n",
    "\n",
    "a= 1.001\n",
    "s = np.random.zipf(a, 200)\n",
    "\n",
    "\n",
    "for x in s:\n",
    "    if x not in map_to_names:\n",
    "        name = 'f%d'%(len(map_to_names))\n",
    "        map_to_names[x] = name\n",
    "        name_to_counts[name] = 0\n",
    "    name_to_counts[map_to_names[x]] +=1\n",
    "    inputs_set.append(map_to_names[x])\n",
    "\n",
    "print(inputs_set)\n",
    "\n",
    "reused_ds = [x for x in name_to_counts if name_to_counts[x] > 1]\n",
    "unique_ds = [x for x in name_to_counts if name_to_counts[x] == 1]\n",
    "len(reused_ds), len(unique_ds)\n",
    "\n",
    "reuse = 0\n",
    "for x in name_to_counts:\n",
    "    if name_to_counts[x] > 1: reuse += name_to_counts[x]\n",
    "\n",
    "path = '/local0/Kariz/expriments/simulator/multidag/config/synthetic_worload_md_0p.g'\n",
    "with open(path, 'w') as fd:\n",
    "    fd.write(','.join(inputs_set))\n",
    "        \n",
    "reuse, reuse/len(inputs_set)"
   ]
  },
  {
   "cell_type": "code",
   "execution_count": 161,
   "metadata": {},
   "outputs": [
    {
     "name": "stdout",
     "output_type": "stream",
     "text": [
      "['a0', 'a1', 'a2', 'a3', 'a3', 'a4', 'a5', 'a6', 'a7', 'a8', 'a3', 'a9', 'a10', 'a11', 'a9', 'a12', 'a13', 'a3', 'a14', 'a3', 'a15', 'a11', 'a16', 'a17', 'a18', 'a19', 'a20', 'a3', 'a21', 'a22', 'a23', 'a24', 'a25', 'a26', 'a27', 'a28', 'a29', 'a30', 'a9', 'a3', 'a31', 'a32', 'a33', 'a34', 'a35', 'a36', 'a3', 'a37', 'a38', 'a18', 'a3', 'a39', 'a40', 'a26', 'a41', 'a3', 'a42', 'a18', 'a18', 'a9', 'a43', 'a44', 'a45', 'a3', 'a17', 'a46', 'a47', 'a3', 'a48', 'a49', 'a50', 'a3', 'a9', 'a15', 'a51', 'a52', 'a41', 'a53', 'a54', 'a55', 'a49', 'a56', 'a57', 'a3', 'a58', 'a59', 'a18', 'a17', 'a60', 'a3', 'a61', 'a29', 'a53', 'a62', 'a63', 'a64', 'a65', 'a66', 'a67', 'a3', 'a68', 'a15', 'a69', 'a70', 'a71', 'a72', 'a73', 'a74', 'a3', 'a15', 'a3', 'a18', 'a75', 'a76', 'a77', 'a78', 'a79', 'a0', 'a3', 'a80', 'a3', 'a3', 'a81', 'a17', 'a82', 'a83', 'a49', 'a6', 'a18', 'a84', 'a85', 'a86', 'a87', 'a88', 'a89', 'a18', 'a90', 'a43', 'a91', 'a55', 'a92', 'a93', 'a3', 'a94', 'a92', 'a95', 'a96', 'a29', 'a97', 'a98', 'a99', 'a3', 'a3', 'a100', 'a53', 'a101', 'a102', 'a103', 'a104', 'a92', 'a105', 'a3', 'a106', 'a107', 'a108', 'a109', 'a3', 'a3', 'a110', 'a111', 'a3', 'a36', 'a15', 'a112', 'a46', 'a113', 'a114', 'a115', 'a116', 'a9', 'a9', 'a3', 'a3', 'a49', 'a117', 'a17', 'a9', 'a118', 'a119', 'a3', 'a120', 'a121', 'a9', 'a17', 'a122', 'a123', 'a124', 'a125', 'a126', 'a127']\n"
     ]
    },
    {
     "data": {
      "text/plain": [
       "(90, 0.45)"
      ]
     },
     "execution_count": 161,
     "metadata": {},
     "output_type": "execute_result"
    }
   ],
   "source": [
    "# 20% workload\n",
    "\n",
    "map_to_names = {}\n",
    "name_to_counts = {}\n",
    "inputs_set = []\n",
    "\n",
    "a= 1.125\n",
    "s = np.random.zipf(a, 200)\n",
    "\n",
    "\n",
    "for x in s:\n",
    "    if x not in map_to_names:\n",
    "        name = 'a%d'%(len(map_to_names))\n",
    "        map_to_names[x] = name\n",
    "        name_to_counts[name] = 0\n",
    "    name_to_counts[map_to_names[x]] +=1\n",
    "    inputs_set.append(map_to_names[x])\n",
    "\n",
    "print(inputs_set)\n",
    "\n",
    "reused_ds = [x for x in name_to_counts if name_to_counts[x] > 1]\n",
    "unique_ds = [x for x in name_to_counts if name_to_counts[x] == 1]\n",
    "len(reused_ds), len(unique_ds)\n",
    "\n",
    "reuse = 0\n",
    "for x in name_to_counts:\n",
    "    if name_to_counts[x] > 1: reuse += name_to_counts[x]\n",
    "\n",
    "        \n",
    "reuse, reuse/len(inputs_set)"
   ]
  },
  {
   "cell_type": "code",
   "execution_count": null,
   "metadata": {},
   "outputs": [],
   "source": []
  },
  {
   "cell_type": "code",
   "execution_count": null,
   "metadata": {},
   "outputs": [],
   "source": []
  },
  {
   "cell_type": "code",
   "execution_count": null,
   "metadata": {},
   "outputs": [],
   "source": []
  }
 ],
 "metadata": {
  "kernelspec": {
   "display_name": "Python 3",
   "language": "python",
   "name": "python3"
  },
  "language_info": {
   "codemirror_mode": {
    "name": "ipython",
    "version": 3
   },
   "file_extension": ".py",
   "mimetype": "text/x-python",
   "name": "python",
   "nbconvert_exporter": "python",
   "pygments_lexer": "ipython3",
   "version": "3.6.9"
  }
 },
 "nbformat": 4,
 "nbformat_minor": 2
}
