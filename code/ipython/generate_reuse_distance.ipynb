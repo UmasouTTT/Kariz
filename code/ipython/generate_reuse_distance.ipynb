{
 "cells": [
  {
   "cell_type": "code",
   "execution_count": null,
   "metadata": {},
   "outputs": [],
   "source": [
    "import numpy as np\n",
    "import matplotlib.pyplot as plt\n",
    "from scipy import special "
   ]
  },
  {
   "cell_type": "code",
   "execution_count": 174,
   "metadata": {},
   "outputs": [
    {
     "name": "stdout",
     "output_type": "stream",
     "text": [
      "['aa0', 'aa1', 'aa2', 'aa3', 'aa4', 'aa5', 'aa6', 'aa7', 'aa8', 'aa9', 'aa10', 'aa11', 'aa12', 'aa13', 'aa14', 'aa15', 'aa16', 'aa17', 'aa18', 'aa19', 'aa20', 'aa21', 'aa22', 'aa23', 'aa24', 'aa25', 'aa26', 'aa27', 'aa28', 'aa29', 'aa30', 'aa31', 'aa32', 'aa33', 'aa34', 'aa35', 'aa36', 'aa37', 'aa38', 'aa39', 'aa40', 'aa41', 'aa42', 'aa43', 'aa44', 'aa45', 'aa46', 'aa47', 'aa48', 'aa49', 'aa50', 'aa51', 'aa52', 'aa53', 'aa54', 'aa55', 'aa56', 'aa57', 'aa58', 'aa59', 'aa60', 'aa61', 'aa62', 'aa63', 'aa24', 'aa64', 'aa65', 'aa66', 'aa67', 'aa68', 'aa69', 'aa70', 'aa71', 'aa72', 'aa73', 'aa74', 'aa75', 'aa76', 'aa77', 'aa78', 'aa79', 'aa80', 'aa81', 'aa82', 'aa83', 'aa84', 'aa85', 'aa86', 'aa87', 'aa88', 'aa89', 'aa90', 'aa91', 'aa92', 'aa93', 'aa94', 'aa95', 'aa96', 'aa97', 'aa98', 'aa99', 'aa100', 'aa101', 'aa102', 'aa103', 'aa104', 'aa105', 'aa106', 'aa107', 'aa108', 'aa109', 'aa110', 'aa111', 'aa112', 'aa113', 'aa114', 'aa115', 'aa116', 'aa13', 'aa117', 'aa118', 'aa119', 'aa120', 'aa121', 'aa122', 'aa123', 'aa124', 'aa125', 'aa126', 'aa127', 'aa128', 'aa129', 'aa130', 'aa131', 'aa132', 'aa133', 'aa134', 'aa135', 'aa136', 'aa137', 'aa138', 'aa13', 'aa139', 'aa140', 'aa141', 'aa142', 'aa143', 'aa144', 'aa145', 'aa146', 'aa147', 'aa148', 'aa149', 'aa150', 'aa151', 'aa152', 'aa153', 'aa154', 'aa155', 'aa156', 'aa157', 'aa158', 'aa140', 'aa159', 'aa160', 'aa161', 'aa162', 'aa145', 'aa163', 'aa164', 'aa165', 'aa166', 'aa167', 'aa168', 'aa169', 'aa170', 'aa171', 'aa172', 'aa173', 'aa174', 'aa175', 'aa176', 'aa140', 'aa177', 'aa178', 'aa179', 'aa180', 'aa181', 'aa182', 'aa183', 'aa184', 'aa185', 'aa186', 'aa187', 'aa188', 'aa24', 'aa189', 'aa190', 'aa191', 'aa192', 'aa193', 'aa194', 'aa195', 'aa196', 'aa197', 'aa198', 'aa22', 'aa199', 'aa200', 'aa201', 'aa202', 'aa203', 'aa204', 'aa205', 'aa206', 'aa207', 'aa208', 'aa209', 'aa210', 'aa24', 'aa211', 'aa212', 'aa213', 'aa214', 'aa215', 'aa216', 'aa217', 'aa218', 'aa219', 'aa220', 'aa221', 'aa222', 'aa223', 'aa224', 'aa225', 'aa226', 'aa227', 'aa228', 'aa229', 'aa230', 'aa231', 'aa232', 'aa233', 'aa234', 'aa235', 'aa236', 'aa237', 'aa238', 'aa239', 'aa240', 'aa241', 'aa242', 'aa243', 'aa244', 'aa245', 'aa246', 'aa247', 'aa248', 'aa249', 'aa250', 'aa251', 'aa252', 'aa253', 'aa254', 'aa255', 'aa256', 'aa257', 'aa258', 'aa259', 'aa260', 'aa261', 'aa262', 'aa263', 'aa140', 'aa264', 'aa265', 'aa266', 'aa267', 'aa268', 'aa269', 'aa270', 'aa271', 'aa272', 'aa273', 'aa274', 'aa275', 'aa276', 'aa277', 'aa278', 'aa279', 'aa24', 'aa280', 'aa281', 'aa282', 'aa283', 'aa284', 'aa144', 'aa285', 'aa286', 'aa287', 'aa13', 'aa288', 'aa289', 'aa290', 'aa291', 'aa292', 'aa293', 'aa294', 'aa295', 'aa296', 'aa297', 'aa298', 'aa299', 'aa300', 'aa301', 'aa302', 'aa303', 'aa304', 'aa305', 'aa306', 'aa307', 'aa308', 'aa309', 'aa310', 'aa311', 'aa312', 'aa313', 'aa314', 'aa315', 'aa316', 'aa317', 'aa318', 'aa319', 'aa320', 'aa321', 'aa322', 'aa323', 'aa324', 'aa325', 'aa326', 'aa327', 'aa328', 'aa329', 'aa330', 'aa331', 'aa332', 'aa333', 'aa334', 'aa335', 'aa336', 'aa337', 'aa338', 'aa339', 'aa340', 'aa341', 'aa342', 'aa343', 'aa344', 'aa345', 'aa346', 'aa347', 'aa348', 'aa209', 'aa349', 'aa350', 'aa351', 'aa189', 'aa352', 'aa353', 'aa354', 'aa355', 'aa356', 'aa357', 'aa358', 'aa359', 'aa360', 'aa361', 'aa24', 'aa362', 'aa363', 'aa364', 'aa365', 'aa366', 'aa367', 'aa368', 'aa369', 'aa370', 'aa371', 'aa372', 'aa373', 'aa374', 'aa375', 'aa376', 'aa377', 'aa378', 'aa379', 'aa380', 'aa381', 'aa382', 'aa383']\n"
     ]
    },
    {
     "data": {
      "text/plain": [
       "(24, 0.06)"
      ]
     },
     "execution_count": 174,
     "metadata": {},
     "output_type": "execute_result"
    }
   ],
   "source": [
    "# 0% workload\n",
    "\n",
    "map_to_names = {}\n",
    "name_to_counts = {}\n",
    "inputs_set = []\n",
    "\n",
    "a= 1.001\n",
    "s = np.random.zipf(a, 400)\n",
    "\n",
    "\n",
    "for x in s:\n",
    "    if x not in map_to_names:\n",
    "        name = 'aa%d'%(len(map_to_names))\n",
    "        map_to_names[x] = name\n",
    "        name_to_counts[name] = 0\n",
    "    name_to_counts[map_to_names[x]] +=1\n",
    "    inputs_set.append(map_to_names[x])\n",
    "\n",
    "print(inputs_set)\n",
    "\n",
    "reused_ds = [x for x in name_to_counts if name_to_counts[x] > 1]\n",
    "unique_ds = [x for x in name_to_counts if name_to_counts[x] == 1]\n",
    "len(reused_ds), len(unique_ds)\n",
    "\n",
    "reuse = 0\n",
    "for x in name_to_counts:\n",
    "    if name_to_counts[x] > 1: reuse += name_to_counts[x]\n",
    "        \n",
    "path = '/local0/Kariz/expriments/simulator/multidag/config/synthetic_worload_mdmc_0p.g'\n",
    "with open(path, 'w') as fd:\n",
    "    fd.write(','.join(inputs_set))\n",
    "        \n",
    "reuse, reuse/len(inputs_set)"
   ]
  },
  {
   "cell_type": "code",
   "execution_count": 175,
   "metadata": {},
   "outputs": [
    {
     "name": "stdout",
     "output_type": "stream",
     "text": [
      "['ba0', 'ba1', 'ba2', 'ba3', 'ba4', 'ba5', 'ba6', 'ba7', 'ba8', 'ba9', 'ba10', 'ba11', 'ba12', 'ba13', 'ba14', 'ba15', 'ba16', 'ba17', 'ba18', 'ba19', 'ba20', 'ba21', 'ba22', 'ba23', 'ba24', 'ba25', 'ba26', 'ba27', 'ba28', 'ba29', 'ba30', 'ba31', 'ba11', 'ba32', 'ba33', 'ba34', 'ba35', 'ba36', 'ba23', 'ba37', 'ba38', 'ba39', 'ba40', 'ba41', 'ba42', 'ba23', 'ba43', 'ba44', 'ba45', 'ba46', 'ba47', 'ba48', 'ba49', 'ba50', 'ba51', 'ba23', 'ba52', 'ba53', 'ba54', 'ba55', 'ba56', 'ba57', 'ba26', 'ba58', 'ba59', 'ba60', 'ba61', 'ba25', 'ba62', 'ba63', 'ba64', 'ba11', 'ba23', 'ba65', 'ba66', 'ba67', 'ba68', 'ba23', 'ba11', 'ba69', 'ba70', 'ba71', 'ba72', 'ba73', 'ba74', 'ba75', 'ba76', 'ba77', 'ba23', 'ba51', 'ba78', 'ba79', 'ba80', 'ba81', 'ba82', 'ba83', 'ba84', 'ba85', 'ba86', 'ba87', 'ba88', 'ba89', 'ba90', 'ba91', 'ba92', 'ba93', 'ba23', 'ba94', 'ba95', 'ba96', 'ba97', 'ba98', 'ba53', 'ba25', 'ba99', 'ba100', 'ba101', 'ba102', 'ba23', 'ba103', 'ba104', 'ba105', 'ba106', 'ba107', 'ba108', 'ba109', 'ba110', 'ba111', 'ba112', 'ba42', 'ba62', 'ba113', 'ba114', 'ba115', 'ba12', 'ba116', 'ba117', 'ba23', 'ba118', 'ba119', 'ba25', 'ba120', 'ba121', 'ba110', 'ba122', 'ba123', 'ba124', 'ba125', 'ba126', 'ba127', 'ba128', 'ba129', 'ba130', 'ba131', 'ba132', 'ba133', 'ba134', 'ba135', 'ba136', 'ba137', 'ba138', 'ba139', 'ba140', 'ba141', 'ba142', 'ba143', 'ba144', 'ba145', 'ba67', 'ba25', 'ba146', 'ba147', 'ba148', 'ba149', 'ba150', 'ba151', 'ba23', 'ba152', 'ba153', 'ba154', 'ba25', 'ba110', 'ba155', 'ba156', 'ba157', 'ba158', 'ba37', 'ba159', 'ba160', 'ba161', 'ba162', 'ba163', 'ba164', 'ba165', 'ba166', 'ba167', 'ba168', 'ba169', 'ba170', 'ba171', 'ba172', 'ba173', 'ba174', 'ba25', 'ba175', 'ba176', 'ba177', 'ba178', 'ba179', 'ba180', 'ba181', 'ba51', 'ba182', 'ba183', 'ba184', 'ba58', 'ba25', 'ba185', 'ba51', 'ba186', 'ba187', 'ba25', 'ba188', 'ba26', 'ba189', 'ba190', 'ba191', 'ba42', 'ba192', 'ba193', 'ba51', 'ba110', 'ba194', 'ba195', 'ba196', 'ba197', 'ba198', 'ba199', 'ba51', 'ba200', 'ba201', 'ba202', 'ba203', 'ba204', 'ba205', 'ba206', 'ba207', 'ba208', 'ba209', 'ba210', 'ba211', 'ba212', 'ba213', 'ba214', 'ba215', 'ba216', 'ba217', 'ba37', 'ba218', 'ba219', 'ba220', 'ba221', 'ba222', 'ba223', 'ba224', 'ba58', 'ba225', 'ba226', 'ba227', 'ba228', 'ba229', 'ba230', 'ba231', 'ba232', 'ba233', 'ba234', 'ba235', 'ba25', 'ba236', 'ba172', 'ba26', 'ba237', 'ba238', 'ba239', 'ba240', 'ba241', 'ba242', 'ba243', 'ba244', 'ba245', 'ba246', 'ba247', 'ba51', 'ba248', 'ba23', 'ba23', 'ba249', 'ba250', 'ba251', 'ba252', 'ba253', 'ba254', 'ba110', 'ba23', 'ba255', 'ba256', 'ba257', 'ba258', 'ba259', 'ba51', 'ba146', 'ba260', 'ba261', 'ba262', 'ba263', 'ba264', 'ba265', 'ba266', 'ba89', 'ba267', 'ba25', 'ba268', 'ba168', 'ba269', 'ba270', 'ba23', 'ba271', 'ba272', 'ba273', 'ba274', 'ba275', 'ba276', 'ba277', 'ba278', 'ba279', 'ba280', 'ba281', 'ba282', 'ba157', 'ba283', 'ba284', 'ba23', 'ba285', 'ba286', 'ba287', 'ba288', 'ba289', 'ba290', 'ba291', 'ba292', 'ba293', 'ba294', 'ba295', 'ba296', 'ba297', 'ba298', 'ba299', 'ba300', 'ba181', 'ba301', 'ba295', 'ba302', 'ba25', 'ba303', 'ba304', 'ba305', 'ba23', 'ba306', 'ba12', 'ba307', 'ba12', 'ba12', 'ba308', 'ba309', 'ba310', 'ba311', 'ba25', 'ba12', 'ba312', 'ba25', 'ba313', 'ba314', 'ba315', 'ba316', 'ba317', 'ba318', 'ba319', 'ba320', 'ba321', 'ba322', 'ba323', 'ba324', 'ba325', 'ba326', 'ba11', 'ba327', 'ba328', 'ba329', 'ba330', 'ba37']\n"
     ]
    },
    {
     "data": {
      "text/plain": [
       "(89, 0.2225)"
      ]
     },
     "execution_count": 175,
     "metadata": {},
     "output_type": "execute_result"
    }
   ],
   "source": [
    "# 20% workload\n",
    "\n",
    "map_to_names = {}\n",
    "name_to_counts = {}\n",
    "inputs_set = []\n",
    "\n",
    "a= 1.063\n",
    "s = np.random.zipf(a, 400)\n",
    "\n",
    "\n",
    "for x in s:\n",
    "    if x not in map_to_names:\n",
    "        name = 'ba%d'%(len(map_to_names))\n",
    "        map_to_names[x] = name\n",
    "        name_to_counts[name] = 0\n",
    "    name_to_counts[map_to_names[x]] +=1\n",
    "    inputs_set.append(map_to_names[x])\n",
    "\n",
    "print(inputs_set)\n",
    "\n",
    "reused_ds = [x for x in name_to_counts if name_to_counts[x] > 1]\n",
    "unique_ds = [x for x in name_to_counts if name_to_counts[x] == 1]\n",
    "len(reused_ds), len(unique_ds)\n",
    "\n",
    "reuse = 0\n",
    "for x in name_to_counts:\n",
    "    if name_to_counts[x] > 1: reuse += name_to_counts[x]\n",
    "        \n",
    "path = '/local0/Kariz/expriments/simulator/multidag/config/synthetic_worload_mdmc_20p.g'\n",
    "with open(path, 'w') as fd:\n",
    "    fd.write(','.join(inputs_set))\n",
    "        \n",
    "reuse, reuse/len(inputs_set)"
   ]
  },
  {
   "cell_type": "code",
   "execution_count": 179,
   "metadata": {},
   "outputs": [
    {
     "name": "stdout",
     "output_type": "stream",
     "text": [
      "['ca0', 'ca1', 'ca2', 'ca3', 'ca4', 'ca5', 'ca6', 'ca7', 'ca8', 'ca9', 'ca10', 'ca0', 'ca11', 'ca12', 'ca13', 'ca14', 'ca15', 'ca16', 'ca0', 'ca17', 'ca18', 'ca19', 'ca20', 'ca7', 'ca21', 'ca7', 'ca22', 'ca0', 'ca23', 'ca10', 'ca24', 'ca0', 'ca13', 'ca25', 'ca0', 'ca0', 'ca26', 'ca27', 'ca28', 'ca29', 'ca30', 'ca31', 'ca32', 'ca0', 'ca33', 'ca34', 'ca35', 'ca36', 'ca37', 'ca38', 'ca39', 'ca40', 'ca41', 'ca0', 'ca0', 'ca42', 'ca0', 'ca43', 'ca10', 'ca44', 'ca45', 'ca46', 'ca47', 'ca48', 'ca49', 'ca50', 'ca51', 'ca39', 'ca52', 'ca53', 'ca17', 'ca54', 'ca55', 'ca56', 'ca57', 'ca3', 'ca58', 'ca59', 'ca60', 'ca61', 'ca62', 'ca63', 'ca64', 'ca65', 'ca66', 'ca67', 'ca68', 'ca44', 'ca44', 'ca0', 'ca47', 'ca69', 'ca70', 'ca71', 'ca72', 'ca73', 'ca74', 'ca75', 'ca76', 'ca77', 'ca78', 'ca0', 'ca17', 'ca0', 'ca61', 'ca39', 'ca79', 'ca0', 'ca80', 'ca81', 'ca7', 'ca82', 'ca10', 'ca83', 'ca84', 'ca85', 'ca10', 'ca3', 'ca86', 'ca87', 'ca88', 'ca39', 'ca89', 'ca90', 'ca7', 'ca91', 'ca92', 'ca0', 'ca93', 'ca94', 'ca95', 'ca96', 'ca97', 'ca98', 'ca0', 'ca99', 'ca100', 'ca101', 'ca102', 'ca0', 'ca17', 'ca103', 'ca0', 'ca104', 'ca105', 'ca7', 'ca106', 'ca107', 'ca108', 'ca0', 'ca109', 'ca0', 'ca110', 'ca111', 'ca112', 'ca113', 'ca86', 'ca114', 'ca44', 'ca115', 'ca116', 'ca0', 'ca117', 'ca74', 'ca118', 'ca0', 'ca119', 'ca120', 'ca105', 'ca45', 'ca121', 'ca122', 'ca45', 'ca7', 'ca123', 'ca124', 'ca125', 'ca126', 'ca127', 'ca0', 'ca128', 'ca129', 'ca47', 'ca130', 'ca131', 'ca132', 'ca133', 'ca134', 'ca3', 'ca135', 'ca136', 'ca137', 'ca138', 'ca0', 'ca139', 'ca140', 'ca43', 'ca0', 'ca0', 'ca0', 'ca141', 'ca142', 'ca143', 'ca144', 'ca145', 'ca146', 'ca147', 'ca148', 'ca149', 'ca150', 'ca151', 'ca20', 'ca152', 'ca153', 'ca154', 'ca39', 'ca155', 'ca156', 'ca0', 'ca7', 'ca157', 'ca0', 'ca158', 'ca134', 'ca0', 'ca0', 'ca74', 'ca7', 'ca159', 'ca0', 'ca20', 'ca7', 'ca160', 'ca161', 'ca162', 'ca20', 'ca163', 'ca164', 'ca0', 'ca134', 'ca44', 'ca165', 'ca61', 'ca44', 'ca7', 'ca166', 'ca3', 'ca167', 'ca0', 'ca168', 'ca169', 'ca170', 'ca171', 'ca39', 'ca172', 'ca173', 'ca174', 'ca175', 'ca176', 'ca177', 'ca178', 'ca93', 'ca179', 'ca0', 'ca180', 'ca181', 'ca182', 'ca183', 'ca104', 'ca0', 'ca7', 'ca184', 'ca185', 'ca186', 'ca74', 'ca0', 'ca187', 'ca188', 'ca189', 'ca190', 'ca0', 'ca0', 'ca191', 'ca0', 'ca192', 'ca0', 'ca193', 'ca194', 'ca43', 'ca195', 'ca196', 'ca0', 'ca0', 'ca197', 'ca7', 'ca198', 'ca44', 'ca44', 'ca7', 'ca199', 'ca200', 'ca201', 'ca202', 'ca203', 'ca204', 'ca205', 'ca206', 'ca0', 'ca0', 'ca207', 'ca0', 'ca105', 'ca208', 'ca43', 'ca209', 'ca210', 'ca211', 'ca17', 'ca212', 'ca213', 'ca214', 'ca47', 'ca164', 'ca215', 'ca216', 'ca217', 'ca218', 'ca0', 'ca219', 'ca220', 'ca104', 'ca221', 'ca222', 'ca223', 'ca224', 'ca225', 'ca226', 'ca227', 'ca75', 'ca228', 'ca229', 'ca43', 'ca7', 'ca230', 'ca231', 'ca232', 'ca233', 'ca234', 'ca235', 'ca0', 'ca0', 'ca0', 'ca0', 'ca0', 'ca43', 'ca0', 'ca44', 'ca236', 'ca237', 'ca238', 'ca3', 'ca0', 'ca17', 'ca239', 'ca240', 'ca241', 'ca0', 'ca124', 'ca242', 'ca243', 'ca244', 'ca245', 'ca246', 'ca7', 'ca247', 'ca7', 'ca63', 'ca248', 'ca249', 'ca39', 'ca250', 'ca251', 'ca252', 'ca253', 'ca254', 'ca105', 'ca255', 'ca256', 'ca257', 'ca258', 'ca0', 'ca259', 'ca260', 'ca261', 'ca262', 'ca263', 'ca264', 'ca44', 'ca0', 'ca265']\n"
     ]
    },
    {
     "data": {
      "text/plain": [
       "(157, 0.3925)"
      ]
     },
     "execution_count": 179,
     "metadata": {},
     "output_type": "execute_result"
    }
   ],
   "source": [
    "# 40% workload\n",
    "\n",
    "map_to_names = {}\n",
    "name_to_counts = {}\n",
    "inputs_set = []\n",
    "\n",
    "a= 1.128\n",
    "s = np.random.zipf(a, 400)\n",
    "\n",
    "\n",
    "for x in s:\n",
    "    if x not in map_to_names:\n",
    "        name = 'ca%d'%(len(map_to_names))\n",
    "        map_to_names[x] = name\n",
    "        name_to_counts[name] = 0\n",
    "    name_to_counts[map_to_names[x]] +=1\n",
    "    inputs_set.append(map_to_names[x])\n",
    "\n",
    "print(inputs_set)\n",
    "\n",
    "reused_ds = [x for x in name_to_counts if name_to_counts[x] > 1]\n",
    "unique_ds = [x for x in name_to_counts if name_to_counts[x] == 1]\n",
    "len(reused_ds), len(unique_ds)\n",
    "\n",
    "reuse = 0\n",
    "for x in name_to_counts:\n",
    "    if name_to_counts[x] > 1: reuse += name_to_counts[x]\n",
    "        \n",
    "path = '/local0/Kariz/expriments/simulator/multidag/config/synthetic_worload_mdmc_40p.g'\n",
    "with open(path, 'w') as fd:\n",
    "    fd.write(','.join(inputs_set))\n",
    "        \n",
    "reuse, reuse/len(inputs_set)"
   ]
  },
  {
   "cell_type": "code",
   "execution_count": 182,
   "metadata": {},
   "outputs": [
    {
     "name": "stdout",
     "output_type": "stream",
     "text": [
      "['da0', 'da1', 'da2', 'da3', 'da4', 'da3', 'da3', 'da3', 'da5', 'da6', 'da7', 'da8', 'da3', 'da9', 'da8', 'da10', 'da11', 'da12', 'da13', 'da14', 'da15', 'da3', 'da16', 'da17', 'da3', 'da9', 'da18', 'da3', 'da19', 'da17', 'da20', 'da21', 'da22', 'da3', 'da23', 'da24', 'da25', 'da26', 'da27', 'da22', 'da3', 'da8', 'da8', 'da28', 'da29', 'da30', 'da21', 'da31', 'da32', 'da33', 'da3', 'da34', 'da35', 'da19', 'da36', 'da37', 'da38', 'da3', 'da39', 'da3', 'da3', 'da40', 'da41', 'da3', 'da3', 'da8', 'da19', 'da42', 'da43', 'da16', 'da44', 'da45', 'da46', 'da47', 'da48', 'da8', 'da49', 'da3', 'da42', 'da50', 'da51', 'da52', 'da53', 'da17', 'da3', 'da8', 'da54', 'da8', 'da55', 'da3', 'da21', 'da56', 'da3', 'da57', 'da58', 'da59', 'da60', 'da61', 'da8', 'da3', 'da62', 'da63', 'da64', 'da65', 'da66', 'da67', 'da3', 'da68', 'da69', 'da70', 'da71', 'da72', 'da73', 'da73', 'da74', 'da75', 'da16', 'da3', 'da76', 'da77', 'da78', 'da79', 'da38', 'da3', 'da11', 'da80', 'da81', 'da19', 'da3', 'da82', 'da83', 'da73', 'da73', 'da3', 'da84', 'da85', 'da86', 'da16', 'da21', 'da17', 'da17', 'da87', 'da88', 'da8', 'da57', 'da8', 'da89', 'da9', 'da3', 'da22', 'da90', 'da73', 'da91', 'da8', 'da73', 'da92', 'da93', 'da35', 'da94', 'da3', 'da38', 'da95', 'da3', 'da96', 'da8', 'da97', 'da98', 'da9', 'da99', 'da8', 'da100', 'da101', 'da102', 'da103', 'da104', 'da105', 'da69', 'da38', 'da57', 'da8', 'da106', 'da3', 'da107', 'da108', 'da3', 'da73', 'da19', 'da109', 'da75', 'da110', 'da111', 'da112', 'da113', 'da114', 'da8', 'da17', 'da31', 'da73', 'da77', 'da19', 'da112', 'da115', 'da116', 'da117', 'da118', 'da8', 'da3', 'da3', 'da119', 'da120', 'da121', 'da122', 'da123', 'da19', 'da57', 'da8', 'da124', 'da125', 'da126', 'da42', 'da3', 'da127', 'da3', 'da38', 'da3', 'da128', 'da8', 'da129', 'da130', 'da131', 'da19', 'da132', 'da133', 'da8', 'da21', 'da3', 'da38', 'da9', 'da134', 'da135', 'da105', 'da136', 'da9', 'da3', 'da137', 'da8', 'da138', 'da29', 'da139', 'da9', 'da140', 'da141', 'da142', 'da143', 'da3', 'da144', 'da145', 'da146', 'da147', 'da19', 'da148', 'da149', 'da150', 'da3', 'da38', 'da3', 'da17', 'da8', 'da151', 'da152', 'da134', 'da3', 'da8', 'da112', 'da153', 'da22', 'da154', 'da17', 'da155', 'da19', 'da156', 'da57', 'da157', 'da158', 'da159', 'da112', 'da160', 'da3', 'da3', 'da73', 'da161', 'da162', 'da8', 'da146', 'da163', 'da108', 'da108', 'da164', 'da73', 'da3', 'da95', 'da165', 'da73', 'da133', 'da109', 'da78', 'da80', 'da3', 'da166', 'da167', 'da168', 'da3', 'da8', 'da3', 'da3', 'da78', 'da19', 'da3', 'da3', 'da73', 'da3', 'da3', 'da141', 'da73', 'da169', 'da3', 'da137', 'da3', 'da105', 'da19', 'da170', 'da8', 'da171', 'da172', 'da173', 'da8', 'da174', 'da8', 'da175', 'da3', 'da73', 'da57', 'da78', 'da176', 'da177', 'da8', 'da178', 'da25', 'da179', 'da180', 'da181', 'da113', 'da3', 'da3', 'da182', 'da30', 'da183', 'da184', 'da185', 'da186', 'da8', 'da8', 'da187', 'da8', 'da3', 'da188', 'da3', 'da57', 'da189', 'da190', 'da191', 'da3', 'da192', 'da47', 'da31', 'da19', 'da3', 'da193', 'da95', 'da194', 'da195', 'da73', 'da196', 'da3', 'da3', 'da3', 'da197', 'da3', 'da19', 'da8', 'da3', 'da73', 'da23', 'da73', 'da198', 'da17', 'da8', 'da199', 'da21', 'da3']\n"
     ]
    },
    {
     "data": {
      "text/plain": [
       "(236, 0.59)"
      ]
     },
     "execution_count": 182,
     "metadata": {},
     "output_type": "execute_result"
    }
   ],
   "source": [
    "# 60% workload\n",
    "\n",
    "map_to_names = {}\n",
    "name_to_counts = {}\n",
    "inputs_set = []\n",
    "\n",
    "a= 1.23\n",
    "s = np.random.zipf(a, 400)\n",
    "\n",
    "\n",
    "for x in s:\n",
    "    if x not in map_to_names:\n",
    "        name = 'da%d'%(len(map_to_names))\n",
    "        map_to_names[x] = name\n",
    "        name_to_counts[name] = 0\n",
    "    name_to_counts[map_to_names[x]] +=1\n",
    "    inputs_set.append(map_to_names[x])\n",
    "\n",
    "print(inputs_set)\n",
    "\n",
    "reused_ds = [x for x in name_to_counts if name_to_counts[x] > 1]\n",
    "unique_ds = [x for x in name_to_counts if name_to_counts[x] == 1]\n",
    "len(reused_ds), len(unique_ds)\n",
    "\n",
    "reuse = 0\n",
    "for x in name_to_counts:\n",
    "    if name_to_counts[x] > 1: reuse += name_to_counts[x]\n",
    "        \n",
    "path = '/local0/Kariz/expriments/simulator/multidag/config/synthetic_worload_mdmc_60p.g'\n",
    "with open(path, 'w') as fd:\n",
    "    fd.write(','.join(inputs_set))\n",
    "        \n",
    "reuse, reuse/len(inputs_set)"
   ]
  },
  {
   "cell_type": "code",
   "execution_count": 186,
   "metadata": {},
   "outputs": [
    {
     "name": "stdout",
     "output_type": "stream",
     "text": [
      "['ea0', 'ea1', 'ea2', 'ea3', 'ea4', 'ea1', 'ea5', 'ea6', 'ea1', 'ea7', 'ea8', 'ea9', 'ea10', 'ea1', 'ea11', 'ea12', 'ea1', 'ea9', 'ea13', 'ea1', 'ea1', 'ea9', 'ea9', 'ea9', 'ea9', 'ea14', 'ea9', 'ea9', 'ea15', 'ea4', 'ea16', 'ea17', 'ea18', 'ea19', 'ea20', 'ea1', 'ea9', 'ea4', 'ea21', 'ea22', 'ea9', 'ea23', 'ea9', 'ea9', 'ea24', 'ea9', 'ea25', 'ea21', 'ea26', 'ea9', 'ea21', 'ea27', 'ea7', 'ea21', 'ea28', 'ea29', 'ea1', 'ea9', 'ea9', 'ea21', 'ea1', 'ea9', 'ea4', 'ea9', 'ea30', 'ea31', 'ea32', 'ea33', 'ea16', 'ea9', 'ea9', 'ea1', 'ea9', 'ea34', 'ea9', 'ea35', 'ea2', 'ea29', 'ea9', 'ea36', 'ea9', 'ea1', 'ea9', 'ea9', 'ea22', 'ea37', 'ea38', 'ea4', 'ea29', 'ea29', 'ea21', 'ea9', 'ea29', 'ea39', 'ea29', 'ea40', 'ea41', 'ea9', 'ea9', 'ea26', 'ea4', 'ea42', 'ea9', 'ea2', 'ea43', 'ea44', 'ea1', 'ea4', 'ea45', 'ea29', 'ea9', 'ea9', 'ea7', 'ea7', 'ea34', 'ea46', 'ea9', 'ea1', 'ea9', 'ea7', 'ea9', 'ea47', 'ea9', 'ea48', 'ea1', 'ea1', 'ea29', 'ea2', 'ea49', 'ea29', 'ea9', 'ea9', 'ea50', 'ea1', 'ea29', 'ea1', 'ea7', 'ea51', 'ea1', 'ea52', 'ea53', 'ea26', 'ea1', 'ea54', 'ea21', 'ea14', 'ea9', 'ea9', 'ea29', 'ea9', 'ea55', 'ea56', 'ea9', 'ea21', 'ea9', 'ea57', 'ea58', 'ea9', 'ea46', 'ea9', 'ea9', 'ea9', 'ea21', 'ea59', 'ea9', 'ea46', 'ea49', 'ea9', 'ea9', 'ea9', 'ea60', 'ea9', 'ea2', 'ea29', 'ea60', 'ea1', 'ea4', 'ea9', 'ea7', 'ea21', 'ea9', 'ea17', 'ea1', 'ea61', 'ea9', 'ea62', 'ea63', 'ea9', 'ea1', 'ea44', 'ea29', 'ea9', 'ea9', 'ea9', 'ea4', 'ea64', 'ea24', 'ea24', 'ea9', 'ea49', 'ea9', 'ea9', 'ea1', 'ea29', 'ea9', 'ea21', 'ea9', 'ea46', 'ea9', 'ea1', 'ea9', 'ea0', 'ea46', 'ea7', 'ea9', 'ea65', 'ea1', 'ea9', 'ea9', 'ea27', 'ea21', 'ea66', 'ea9', 'ea4', 'ea9', 'ea9', 'ea1', 'ea67', 'ea68', 'ea49', 'ea56', 'ea9', 'ea69', 'ea2', 'ea9', 'ea1', 'ea1', 'ea29', 'ea70', 'ea1', 'ea71', 'ea9', 'ea9', 'ea72', 'ea9', 'ea9', 'ea9', 'ea73', 'ea21', 'ea47', 'ea46', 'ea1', 'ea9', 'ea39', 'ea74', 'ea9', 'ea49', 'ea75', 'ea1', 'ea1', 'ea7', 'ea9', 'ea76', 'ea9', 'ea4', 'ea9', 'ea1', 'ea1', 'ea9', 'ea9', 'ea77', 'ea1', 'ea49', 'ea9', 'ea78', 'ea22', 'ea1', 'ea9', 'ea10', 'ea1', 'ea49', 'ea79', 'ea80', 'ea44', 'ea9', 'ea81', 'ea9', 'ea82', 'ea9', 'ea4', 'ea1', 'ea1', 'ea49', 'ea1', 'ea9', 'ea1', 'ea1', 'ea9', 'ea83', 'ea4', 'ea84', 'ea21', 'ea9', 'ea49', 'ea9', 'ea9', 'ea4', 'ea9', 'ea7', 'ea9', 'ea62', 'ea9', 'ea21', 'ea9', 'ea29', 'ea29', 'ea60', 'ea85', 'ea86', 'ea87', 'ea49', 'ea88', 'ea9', 'ea2', 'ea9', 'ea9', 'ea29', 'ea1', 'ea9', 'ea9', 'ea1', 'ea4', 'ea61', 'ea64', 'ea9', 'ea9', 'ea9', 'ea89', 'ea90', 'ea1', 'ea1', 'ea4', 'ea9', 'ea91', 'ea92', 'ea93', 'ea13', 'ea94', 'ea5', 'ea46', 'ea21', 'ea1', 'ea95', 'ea2', 'ea29', 'ea1', 'ea26', 'ea9', 'ea1', 'ea29', 'ea9', 'ea27', 'ea9', 'ea9', 'ea4', 'ea96', 'ea97', 'ea9', 'ea9', 'ea9', 'ea98', 'ea9', 'ea9', 'ea49', 'ea9', 'ea29', 'ea9', 'ea2', 'ea1', 'ea29', 'ea27', 'ea1', 'ea1', 'ea7', 'ea9', 'ea39', 'ea9', 'ea0', 'ea99', 'ea100', 'ea16', 'ea9', 'ea9', 'ea4', 'ea9', 'ea1', 'ea101', 'ea1', 'ea9', 'ea102']\n"
     ]
    },
    {
     "data": {
      "text/plain": [
       "(326, 0.815)"
      ]
     },
     "execution_count": 186,
     "metadata": {},
     "output_type": "execute_result"
    }
   ],
   "source": [
    "# 80% workload\n",
    "\n",
    "map_to_names = {}\n",
    "name_to_counts = {}\n",
    "inputs_set = []\n",
    "\n",
    "a= 1.38\n",
    "s = np.random.zipf(a, 400)\n",
    "\n",
    "\n",
    "for x in s:\n",
    "    if x not in map_to_names:\n",
    "        name = 'ea%d'%(len(map_to_names))\n",
    "        map_to_names[x] = name\n",
    "        name_to_counts[name] = 0\n",
    "    name_to_counts[map_to_names[x]] +=1\n",
    "    inputs_set.append(map_to_names[x])\n",
    "\n",
    "print(inputs_set)\n",
    "\n",
    "reused_ds = [x for x in name_to_counts if name_to_counts[x] > 1]\n",
    "unique_ds = [x for x in name_to_counts if name_to_counts[x] == 1]\n",
    "len(reused_ds), len(unique_ds)\n",
    "\n",
    "reuse = 0\n",
    "for x in name_to_counts:\n",
    "    if name_to_counts[x] > 1: reuse += name_to_counts[x]\n",
    "        \n",
    "path = '/local0/Kariz/expriments/simulator/multidag/config/synthetic_worload_mdmc_80p.g'\n",
    "with open(path, 'w') as fd:\n",
    "    fd.write(','.join(inputs_set))\n",
    "        \n",
    "reuse, reuse/len(inputs_set)"
   ]
  },
  {
   "cell_type": "code",
   "execution_count": 185,
   "metadata": {},
   "outputs": [
    {
     "name": "stdout",
     "output_type": "stream",
     "text": [
      "['ea0', 'ea1', 'ea1', 'ea1', 'ea1', 'ea1', 'ea1', 'ea1', 'ea1', 'ea1', 'ea1', 'ea1', 'ea1', 'ea2', 'ea1', 'ea1', 'ea1', 'ea1', 'ea1', 'ea1', 'ea1', 'ea1', 'ea3', 'ea1', 'ea2', 'ea3', 'ea1', 'ea2', 'ea1', 'ea1', 'ea4', 'ea1', 'ea1', 'ea1', 'ea1', 'ea3', 'ea1', 'ea1', 'ea1', 'ea1', 'ea1', 'ea5', 'ea3', 'ea1', 'ea1', 'ea1', 'ea1', 'ea3', 'ea1', 'ea1', 'ea1', 'ea6', 'ea1', 'ea3', 'ea3', 'ea1', 'ea1', 'ea1', 'ea1', 'ea1', 'ea4', 'ea3', 'ea5', 'ea1', 'ea1', 'ea1', 'ea1', 'ea1', 'ea1', 'ea1', 'ea7', 'ea1', 'ea3', 'ea4', 'ea1', 'ea1', 'ea1', 'ea1', 'ea1', 'ea1', 'ea3', 'ea3', 'ea1', 'ea1', 'ea3', 'ea5', 'ea1', 'ea1', 'ea1', 'ea1', 'ea1', 'ea8', 'ea1', 'ea1', 'ea1', 'ea3', 'ea1', 'ea3', 'ea1', 'ea1', 'ea1', 'ea1', 'ea3', 'ea1', 'ea1', 'ea1', 'ea3', 'ea1', 'ea1', 'ea1', 'ea7', 'ea1', 'ea1', 'ea1', 'ea1', 'ea1', 'ea1', 'ea3', 'ea1', 'ea1', 'ea1', 'ea3', 'ea1', 'ea1', 'ea1', 'ea5', 'ea1', 'ea1', 'ea9', 'ea1', 'ea1', 'ea1', 'ea3', 'ea1', 'ea7', 'ea3', 'ea1', 'ea3', 'ea1', 'ea1', 'ea1', 'ea5', 'ea1', 'ea1', 'ea3', 'ea1', 'ea1', 'ea1', 'ea1', 'ea1', 'ea1', 'ea1', 'ea3', 'ea1', 'ea1', 'ea1', 'ea4', 'ea1', 'ea1', 'ea1', 'ea1', 'ea1', 'ea3', 'ea1', 'ea1', 'ea9', 'ea1', 'ea1', 'ea1', 'ea1', 'ea1', 'ea3', 'ea1', 'ea1', 'ea1', 'ea1', 'ea7', 'ea5', 'ea1', 'ea1', 'ea1', 'ea1', 'ea1', 'ea3', 'ea3', 'ea3', 'ea10', 'ea3', 'ea1', 'ea4', 'ea5', 'ea5', 'ea1', 'ea1', 'ea1', 'ea1', 'ea3', 'ea1', 'ea1', 'ea3', 'ea1', 'ea0', 'ea1', 'ea1', 'ea3', 'ea1', 'ea1', 'ea1', 'ea1', 'ea1', 'ea1', 'ea1', 'ea3', 'ea4', 'ea1', 'ea2', 'ea3', 'ea1', 'ea1', 'ea3', 'ea1', 'ea1', 'ea1', 'ea1', 'ea0', 'ea1', 'ea3', 'ea1', 'ea4', 'ea1', 'ea3', 'ea1', 'ea1', 'ea1', 'ea3', 'ea1', 'ea1', 'ea0', 'ea3', 'ea5', 'ea1', 'ea5', 'ea0', 'ea1', 'ea1', 'ea4', 'ea1', 'ea1', 'ea1', 'ea4', 'ea1', 'ea1', 'ea1', 'ea1', 'ea1', 'ea1', 'ea1', 'ea1', 'ea4', 'ea1', 'ea4', 'ea1', 'ea3', 'ea3', 'ea1', 'ea1', 'ea1', 'ea1', 'ea1', 'ea1', 'ea1', 'ea1', 'ea1', 'ea1', 'ea5', 'ea1', 'ea1', 'ea1', 'ea1', 'ea11', 'ea1', 'ea1', 'ea1', 'ea1', 'ea10', 'ea1', 'ea1', 'ea1', 'ea3', 'ea1', 'ea1', 'ea0', 'ea1', 'ea5', 'ea12', 'ea5', 'ea1', 'ea13', 'ea1', 'ea1', 'ea1', 'ea1', 'ea3', 'ea1', 'ea3', 'ea1', 'ea1', 'ea4', 'ea1', 'ea1', 'ea3', 'ea3', 'ea5', 'ea1', 'ea1', 'ea1', 'ea5', 'ea3', 'ea1', 'ea1', 'ea1', 'ea4', 'ea1', 'ea3', 'ea5', 'ea1', 'ea1', 'ea1', 'ea1', 'ea1', 'ea1', 'ea3', 'ea1', 'ea1', 'ea3', 'ea5', 'ea1', 'ea3', 'ea1', 'ea3', 'ea3', 'ea1', 'ea1', 'ea12', 'ea1', 'ea1', 'ea1', 'ea3', 'ea1', 'ea1', 'ea1', 'ea1', 'ea1', 'ea3', 'ea1', 'ea1', 'ea12', 'ea3', 'ea4', 'ea1', 'ea1', 'ea1', 'ea1', 'ea1', 'ea1', 'ea3', 'ea10', 'ea1', 'ea1', 'ea5', 'ea1', 'ea1', 'ea1', 'ea1', 'ea1', 'ea1', 'ea1', 'ea3', 'ea1', 'ea1', 'ea1', 'ea1', 'ea1', 'ea1', 'ea1', 'ea1', 'ea1', 'ea3', 'ea0', 'ea5', 'ea1', 'ea1', 'ea1', 'ea5', 'ea1', 'ea1', 'ea1', 'ea1', 'ea1', 'ea1']\n"
     ]
    },
    {
     "data": {
      "text/plain": [
       "(396, 0.99)"
      ]
     },
     "execution_count": 185,
     "metadata": {},
     "output_type": "execute_result"
    }
   ],
   "source": [
    "# 100% workload\n",
    "\n",
    "map_to_names = {}\n",
    "name_to_counts = {}\n",
    "inputs_set = []\n",
    "\n",
    "a= 2.4\n",
    "s = np.random.zipf(a, 400)\n",
    "\n",
    "\n",
    "for x in s:\n",
    "    if x not in map_to_names:\n",
    "        name = 'ea%d'%(len(map_to_names))\n",
    "        map_to_names[x] = name\n",
    "        name_to_counts[name] = 0\n",
    "    name_to_counts[map_to_names[x]] +=1\n",
    "    inputs_set.append(map_to_names[x])\n",
    "\n",
    "print(inputs_set)\n",
    "\n",
    "reused_ds = [x for x in name_to_counts if name_to_counts[x] > 1]\n",
    "unique_ds = [x for x in name_to_counts if name_to_counts[x] == 1]\n",
    "len(reused_ds), len(unique_ds)\n",
    "\n",
    "reuse = 0\n",
    "for x in name_to_counts:\n",
    "    if name_to_counts[x] > 1: reuse += name_to_counts[x]\n",
    "        \n",
    "path = '/local0/Kariz/expriments/simulator/multidag/config/synthetic_worload_mdmc_100p.g'\n",
    "with open(path, 'w') as fd:\n",
    "    fd.write(','.join(inputs_set))\n",
    "        \n",
    "reuse, reuse/len(inputs_set)"
   ]
  },
  {
   "cell_type": "code",
   "execution_count": null,
   "metadata": {},
   "outputs": [],
   "source": []
  },
  {
   "cell_type": "code",
   "execution_count": null,
   "metadata": {},
   "outputs": [],
   "source": []
  },
  {
   "cell_type": "code",
   "execution_count": null,
   "metadata": {},
   "outputs": [],
   "source": []
  },
  {
   "cell_type": "code",
   "execution_count": null,
   "metadata": {},
   "outputs": [],
   "source": []
  },
  {
   "cell_type": "code",
   "execution_count": 171,
   "metadata": {},
   "outputs": [
    {
     "name": "stdout",
     "output_type": "stream",
     "text": [
      "['a0', 'a1', 'a2', 'a3', 'a4', 'a5', 'a6', 'a7', 'a8', 'a9', 'a10', 'a11', 'a12', 'a13', 'a14', 'a15', 'a16', 'a17', 'a18', 'a19', 'a20', 'a21', 'a22', 'a23', 'a24', 'a25', 'a26', 'a27', 'a21', 'a21', 'a28', 'a29', 'a21', 'a30', 'a31', 'a32', 'a33', 'a34', 'a35', 'a36', 'a37', 'a38', 'a39', 'a40', 'a41', 'a42', 'a33', 'a43', 'a44', 'a45', 'a46', 'a39', 'a47', 'a48', 'a49', 'a21', 'a50', 'a51', 'a52', 'a53', 'a54', 'a55', 'a56', 'a13', 'a57', 'a58', 'a59', 'a21', 'a60', 'a61', 'a62', 'a21', 'a63', 'a64', 'a65', 'a66', 'a67', 'a68', 'a69', 'a70', 'a71', 'a72', 'a73', 'a74', 'a75', 'a76', 'a77', 'a78', 'a79', 'a80', 'a81', 'a82', 'a83', 'a84', 'a85', 'a86', 'a87', 'a88', 'a89', 'a90', 'a91', 'a92', 'a21', 'a93', 'a94', 'a95', 'a96', 'a97', 'a98', 'a99', 'a100', 'a101', 'a82', 'a102', 'a103', 'a104', 'a105', 'a106', 'a107', 'a18', 'a108', 'a109', 'a8', 'a110', 'a111', 'a112', 'a113', 'a114', 'a115', 'a116', 'a117', 'a118', 'a119', 'a120', 'a39', 'a121', 'a122', 'a123', 'a124', 'a125', 'a126', 'a7', 'a127', 'a21', 'a128', 'a129', 'a130', 'a131', 'a132', 'a133', 'a134', 'a135', 'a136', 'a137', 'a138', 'a139', 'a140', 'a141', 'a142', 'a143', 'a144', 'a145', 'a146', 'a21', 'a147', 'a148', 'a149', 'a150', 'a107', 'a151', 'a152', 'a7', 'a21', 'a153', 'a154', 'a21', 'a33', 'a155', 'a39', 'a156', 'a157', 'a158', 'a159', 'a160', 'a21', 'a161', 'a162', 'a163', 'a164', 'a33', 'a165', 'a166', 'a62', 'a167', 'a85', 'a168', 'a169', 'a170', 'a171', 'a172']\n"
     ]
    },
    {
     "data": {
      "text/plain": [
       "(38, 0.19)"
      ]
     },
     "execution_count": 171,
     "metadata": {},
     "output_type": "execute_result"
    }
   ],
   "source": [
    "# 20% workload\n",
    "\n",
    "map_to_names = {}\n",
    "name_to_counts = {}\n",
    "inputs_set = []\n",
    "\n",
    "a= 1.063\n",
    "s = np.random.zipf(a, 200)\n",
    "\n",
    "\n",
    "for x in s:\n",
    "    if x not in map_to_names:\n",
    "        name = 'a%d'%(len(map_to_names))\n",
    "        map_to_names[x] = name\n",
    "        name_to_counts[name] = 0\n",
    "    name_to_counts[map_to_names[x]] +=1\n",
    "    inputs_set.append(map_to_names[x])\n",
    "\n",
    "print(inputs_set)\n",
    "\n",
    "reused_ds = [x for x in name_to_counts if name_to_counts[x] > 1]\n",
    "unique_ds = [x for x in name_to_counts if name_to_counts[x] == 1]\n",
    "len(reused_ds), len(unique_ds)\n",
    "\n",
    "reuse = 0\n",
    "for x in name_to_counts:\n",
    "    if name_to_counts[x] > 1: reuse += name_to_counts[x]\n",
    "\n",
    "path = '/local0/Kariz/expriments/simulator/multidag/config/synthetic_worload_md_20p.g'\n",
    "with open(path, 'w') as fd:\n",
    "    fd.write(','.join(inputs_set))\n",
    "        \n",
    "reuse, reuse/len(inputs_set)"
   ]
  },
  {
   "cell_type": "code",
   "execution_count": 126,
   "metadata": {},
   "outputs": [
    {
     "name": "stdout",
     "output_type": "stream",
     "text": [
      "['b0', 'b1', 'b2', 'b3', 'b4', 'b5', 'b6', 'b7', 'b8', 'b9', 'b10', 'b11', 'b12', 'b13', 'b14', 'b15', 'b16', 'b6', 'b17', 'b18', 'b19', 'b20', 'b21', 'b22', 'b23', 'b24', 'b25', 'b26', 'b27', 'b28', 'b29', 'b30', 'b31', 'b32', 'b33', 'b23', 'b34', 'b35', 'b18', 'b36', 'b10', 'b37', 'b24', 'b38', 'b39', 'b23', 'b40', 'b18', 'b41', 'b3', 'b24', 'b18', 'b10', 'b42', 'b43', 'b18', 'b44', 'b45', 'b46', 'b47', 'b48', 'b49', 'b18', 'b50', 'b51', 'b10', 'b52', 'b48', 'b18', 'b18', 'b53', 'b54', 'b55', 'b18', 'b24', 'b56', 'b23', 'b18', 'b56', 'b24', 'b57', 'b58', 'b3', 'b58', 'b59', 'b60', 'b23', 'b61', 'b62', 'b63', 'b64', 'b65', 'b36', 'b24', 'b66', 'b10', 'b67', 'b24', 'b58', 'b68', 'b69', 'b70', 'b24', 'b71', 'b72', 'b73', 'b74', 'b75', 'b76', 'b77', 'b78', 'b79', 'b80', 'b81', 'b82', 'b24', 'b83', 'b24', 'b84', 'b85', 'b32', 'b86', 'b24', 'b18', 'b10', 'b87', 'b88', 'b89', 'b3', 'b90', 'b91', 'b92', 'b24', 'b93', 'b94', 'b95', 'b34', 'b96', 'b10', 'b97', 'b98', 'b99', 'b24', 'b23', 'b24', 'b100', 'b101', 'b102', 'b24', 'b23', 'b103', 'b104', 'b105', 'b106', 'b107', 'b24', 'b108', 'b23', 'b32', 'b109', 'b110', 'b111', 'b112', 'b24', 'b67', 'b113', 'b13', 'b114', 'b115', 'b116', 'b117', 'b118', 'b23', 'b119', 'b120', 'b121', 'b122', 'b123', 'b124', 'b125', 'b24', 'b126', 'b127', 'b16', 'b59', 'b128', 'b23', 'b129', 'b108', 'b130', 'b131', 'b132', 'b24', 'b133', 'b134', 'b135', 'b58', 'b136', 'b137', 'b23']\n"
     ]
    },
    {
     "data": {
      "text/plain": [
       "(79, 0.395)"
      ]
     },
     "execution_count": 126,
     "metadata": {},
     "output_type": "execute_result"
    }
   ],
   "source": [
    "# 40% workload\n",
    "map_to_names = {}\n",
    "name_to_counts = {}\n",
    "inputs_set = []\n",
    "\n",
    "a= 1.128\n",
    "s = np.random.zipf(a, 200)\n",
    "\n",
    "\n",
    "for index, x in enumerate(s):\n",
    "    if x not in map_to_names:\n",
    "        name = 'b%d'%(len(map_to_names))\n",
    "        map_to_names[x] = name\n",
    "        name_to_counts[name] = 0\n",
    "    name_to_counts[map_to_names[x]] +=1\n",
    "    inputs_set.append(map_to_names[x])\n",
    "\n",
    "print(inputs_set)\n",
    "\n",
    "reuse = 0\n",
    "for x in name_to_counts:\n",
    "    if name_to_counts[x] > 1: reuse += name_to_counts[x]\n",
    "\n",
    "path = '/local0/Kariz/expriments/simulator/multidag/config/synthetic_worload_md_40p.g'\n",
    "with open(path, 'w') as fd:\n",
    "    fd.write(','.join(inputs_set))\n",
    "        \n",
    "reuse, reuse/len(inputs_set)"
   ]
  },
  {
   "cell_type": "code",
   "execution_count": 136,
   "metadata": {},
   "outputs": [
    {
     "name": "stdout",
     "output_type": "stream",
     "text": [
      "['c0', 'c1', 'c2', 'c3', 'c4', 'c0', 'c5', 'c6', 'c7', 'c8', 'c9', 'c7', 'c10', 'c11', 'c12', 'c7', 'c13', 'c14', 'c14', 'c14', 'c14', 'c15', 'c16', 'c17', 'c18', 'c14', 'c14', 'c19', 'c20', 'c21', 'c14', 'c22', 'c14', 'c23', 'c14', 'c24', 'c14', 'c25', 'c26', 'c14', 'c27', 'c28', 'c14', 'c16', 'c29', 'c30', 'c31', 'c32', 'c14', 'c9', 'c33', 'c7', 'c34', 'c0', 'c35', 'c36', 'c37', 'c38', 'c39', 'c7', 'c40', 'c41', 'c0', 'c42', 'c14', 'c43', 'c0', 'c44', 'c45', 'c46', 'c47', 'c5', 'c48', 'c14', 'c14', 'c14', 'c49', 'c50', 'c51', 'c14', 'c52', 'c14', 'c53', 'c46', 'c42', 'c54', 'c14', 'c55', 'c56', 'c57', 'c7', 'c9', 'c58', 'c7', 'c27', 'c16', 'c59', 'c60', 'c61', 'c14', 'c14', 'c62', 'c63', 'c64', 'c14', 'c14', 'c65', 'c3', 'c66', 'c14', 'c14', 'c16', 'c3', 'c0', 'c3', 'c7', 'c14', 'c67', 'c16', 'c16', 'c68', 'c10', 'c7', 'c42', 'c14', 'c0', 'c14', 'c69', 'c33', 'c70', 'c71', 'c18', 'c26', 'c72', 'c73', 'c9', 'c67', 'c10', 'c14', 'c14', 'c7', 'c14', 'c74', 'c75', 'c14', 'c76', 'c14', 'c14', 'c7', 'c42', 'c7', 'c14', 'c14', 'c14', 'c77', 'c14', 'c78', 'c79', 'c80', 'c81', 'c82', 'c83', 'c84', 'c0', 'c14', 'c85', 'c25', 'c81', 'c82', 'c14', 'c86', 'c0', 'c87', 'c88', 'c7', 'c89', 'c90', 'c14', 'c3', 'c80', 'c91', 'c14', 'c92', 'c14', 'c93', 'c94', 'c95', 'c96', 'c14', 'c7', 'c14', 'c7', 'c0', 'c97', 'c98', 'c14', 'c99', 'c7', 'c100', 'c101']\n"
     ]
    },
    {
     "data": {
      "text/plain": [
       "(117, 0.585)"
      ]
     },
     "execution_count": 136,
     "metadata": {},
     "output_type": "execute_result"
    }
   ],
   "source": [
    "# 60% workload\n",
    "map_to_names = {}\n",
    "name_to_counts = {}\n",
    "inputs_set = []\n",
    "\n",
    "a= 1.23\n",
    "s = np.random.zipf(a, 200)\n",
    "\n",
    "\n",
    "for index, x in enumerate(s):\n",
    "    if x not in map_to_names:\n",
    "        name = 'c%d'%(len(map_to_names))\n",
    "        map_to_names[x] = name\n",
    "        name_to_counts[name] = 0\n",
    "    name_to_counts[map_to_names[x]] +=1\n",
    "    inputs_set.append(map_to_names[x])\n",
    "\n",
    "print(inputs_set)\n",
    "\n",
    "reuse = 0\n",
    "for x in name_to_counts:\n",
    "    if name_to_counts[x] > 1: reuse += name_to_counts[x]\n",
    "\n",
    "path = '/local0/Kariz/expriments/simulator/multidag/config/synthetic_worload_md_60p.g'\n",
    "with open(path, 'w') as fd:\n",
    "    fd.write(','.join(inputs_set))\n",
    "        \n",
    "reuse, reuse/len(inputs_set)"
   ]
  },
  {
   "cell_type": "code",
   "execution_count": 139,
   "metadata": {},
   "outputs": [
    {
     "name": "stdout",
     "output_type": "stream",
     "text": [
      "['d0', 'd1', 'd0', 'd2', 'd3', 'd4', 'd0', 'd5', 'd6', 'd0', 'd7', 'd8', 'd0', 'd0', 'd9', 'd0', 'd10', 'd11', 'd0', 'd0', 'd12', 'd13', 'd0', 'd14', 'd1', 'd0', 'd4', 'd0', 'd15', 'd0', 'd0', 'd16', 'd4', 'd0', 'd0', 'd0', 'd17', 'd4', 'd18', 'd17', 'd19', 'd0', 'd1', 'd4', 'd0', 'd20', 'd4', 'd0', 'd4', 'd1', 'd2', 'd0', 'd8', 'd21', 'd17', 'd0', 'd0', 'd22', 'd23', 'd6', 'd17', 'd0', 'd0', 'd0', 'd0', 'd0', 'd24', 'd0', 'd0', 'd25', 'd26', 'd27', 'd0', 'd23', 'd4', 'd0', 'd0', 'd0', 'd1', 'd24', 'd13', 'd0', 'd4', 'd1', 'd0', 'd0', 'd28', 'd0', 'd4', 'd29', 'd26', 'd4', 'd30', 'd0', 'd30', 'd0', 'd0', 'd0', 'd4', 'd0', 'd31', 'd32', 'd33', 'd30', 'd28', 'd1', 'd0', 'd34', 'd0', 'd0', 'd35', 'd7', 'd4', 'd1', 'd0', 'd0', 'd6', 'd0', 'd17', 'd36', 'd4', 'd37', 'd0', 'd7', 'd14', 'd38', 'd4', 'd0', 'd23', 'd39', 'd0', 'd40', 'd41', 'd1', 'd42', 'd2', 'd3', 'd43', 'd30', 'd0', 'd44', 'd30', 'd7', 'd8', 'd17', 'd45', 'd0', 'd7', 'd4', 'd1', 'd4', 'd4', 'd0', 'd0', 'd2', 'd0', 'd0', 'd0', 'd1', 'd4', 'd0', 'd0', 'd46', 'd14', 'd0', 'd26', 'd0', 'd0', 'd47', 'd48', 'd49', 'd0', 'd50', 'd0', 'd0', 'd26', 'd51', 'd0', 'd52', 'd0', 'd53', 'd0', 'd54', 'd55', 'd0', 'd0', 'd56', 'd0', 'd1', 'd0', 'd0', 'd57', 'd17', 'd58', 'd59', 'd0', 'd7', 'd0', 'd1', 'd0']\n"
     ]
    },
    {
     "data": {
      "text/plain": [
       "(156, 0.78)"
      ]
     },
     "execution_count": 139,
     "metadata": {},
     "output_type": "execute_result"
    }
   ],
   "source": [
    "# 80% workload\n",
    "map_to_names = {}\n",
    "name_to_counts = {}\n",
    "inputs_set = []\n",
    "\n",
    "a= 1.38\n",
    "s = np.random.zipf(a, 200)\n",
    "\n",
    "\n",
    "for index, x in enumerate(s):\n",
    "    if x not in map_to_names:\n",
    "        name = 'd%d'%(len(map_to_names))\n",
    "        map_to_names[x] = name\n",
    "        name_to_counts[name] = 0\n",
    "    name_to_counts[map_to_names[x]] +=1\n",
    "    inputs_set.append(map_to_names[x])\n",
    "\n",
    "print(inputs_set)\n",
    "\n",
    "reuse = 0\n",
    "for x in name_to_counts:\n",
    "    if name_to_counts[x] > 1: reuse += name_to_counts[x]\n",
    "\n",
    "path = '/local0/Kariz/expriments/simulator/multidag/config/synthetic_worload_md_80p.g'\n",
    "with open(path, 'w') as fd:\n",
    "    fd.write(','.join(inputs_set))\n",
    "        \n",
    "reuse, reuse/len(inputs_set)"
   ]
  },
  {
   "cell_type": "code",
   "execution_count": 153,
   "metadata": {},
   "outputs": [
    {
     "name": "stdout",
     "output_type": "stream",
     "text": [
      "['e0', 'e1', 'e2', 'e0', 'e1', 'e3', 'e1', 'e1', 'e1', 'e1', 'e1', 'e4', 'e5', 'e1', 'e1', 'e1', 'e1', 'e1', 'e1', 'e1', 'e1', 'e1', 'e1', 'e1', 'e1', 'e1', 'e6', 'e1', 'e1', 'e1', 'e1', 'e6', 'e1', 'e2', 'e1', 'e1', 'e1', 'e7', 'e1', 'e1', 'e2', 'e1', 'e1', 'e1', 'e5', 'e1', 'e1', 'e1', 'e2', 'e6', 'e5', 'e8', 'e1', 'e3', 'e2', 'e1', 'e1', 'e1', 'e1', 'e1', 'e1', 'e1', 'e1', 'e3', 'e1', 'e1', 'e1', 'e1', 'e1', 'e1', 'e1', 'e1', 'e1', 'e1', 'e1', 'e9', 'e1', 'e1', 'e1', 'e1', 'e1', 'e1', 'e1', 'e1', 'e7', 'e1', 'e1', 'e1', 'e1', 'e3', 'e5', 'e1', 'e1', 'e1', 'e3', 'e3', 'e1', 'e1', 'e1', 'e1', 'e1', 'e1', 'e1', 'e1', 'e1', 'e1', 'e1', 'e3', 'e3', 'e1', 'e1', 'e1', 'e1', 'e1', 'e1', 'e3', 'e1', 'e1', 'e2', 'e1', 'e1', 'e10', 'e1', 'e3', 'e1', 'e1', 'e1', 'e1', 'e1', 'e3', 'e6', 'e1', 'e1', 'e1', 'e2', 'e3', 'e1', 'e1', 'e1', 'e1', 'e1', 'e1', 'e1', 'e3', 'e2', 'e1', 'e1', 'e1', 'e1', 'e3', 'e1', 'e1', 'e1', 'e1', 'e1', 'e1', 'e1', 'e1', 'e3', 'e1', 'e1', 'e3', 'e1', 'e3', 'e1', 'e1', 'e1', 'e1', 'e1', 'e1', 'e2', 'e1', 'e1', 'e1', 'e3', 'e1', 'e1', 'e1', 'e2', 'e1', 'e1', 'e2', 'e1', 'e1', 'e1', 'e1', 'e1', 'e11', 'e1', 'e6', 'e12', 'e3', 'e1', 'e3', 'e1', 'e1', 'e6', 'e3', 'e2', 'e1']\n"
     ]
    },
    {
     "data": {
      "text/plain": [
       "(194, 0.97)"
      ]
     },
     "execution_count": 153,
     "metadata": {},
     "output_type": "execute_result"
    }
   ],
   "source": [
    "# 100% workload\n",
    "map_to_names = {}\n",
    "name_to_counts = {}\n",
    "inputs_set = []\n",
    "\n",
    "a= 2.4\n",
    "s = np.random.zipf(a, 200)\n",
    "\n",
    "\n",
    "for index, x in enumerate(s):\n",
    "    if x not in map_to_names:\n",
    "        name = 'e%d'%(len(map_to_names))\n",
    "        map_to_names[x] = name\n",
    "        name_to_counts[name] = 0\n",
    "    name_to_counts[map_to_names[x]] +=1\n",
    "    inputs_set.append(map_to_names[x])\n",
    "\n",
    "print(inputs_set)\n",
    "\n",
    "reuse = 0\n",
    "for x in name_to_counts:\n",
    "    if name_to_counts[x] > 1: reuse += name_to_counts[x]\n",
    "\n",
    "path = '/local0/Kariz/expriments/simulator/multidag/config/synthetic_worload_md_100p.g'\n",
    "with open(path, 'w') as fd:\n",
    "    fd.write(','.join(inputs_set))\n",
    "        \n",
    "reuse, reuse/len(inputs_set)"
   ]
  },
  {
   "cell_type": "code",
   "execution_count": 147,
   "metadata": {},
   "outputs": [
    {
     "name": "stdout",
     "output_type": "stream",
     "text": [
      "['f0', 'f1', 'f2', 'f3', 'f4', 'f5', 'f6', 'f7', 'f8', 'f9', 'f10', 'f11', 'f12', 'f13', 'f14', 'f15', 'f16', 'f17', 'f18', 'f19', 'f20', 'f21', 'f22', 'f23', 'f24', 'f25', 'f26', 'f27', 'f28', 'f29', 'f30', 'f31', 'f32', 'f33', 'f34', 'f35', 'f36', 'f37', 'f38', 'f39', 'f40', 'f41', 'f42', 'f43', 'f44', 'f45', 'f46', 'f47', 'f48', 'f49', 'f50', 'f51', 'f52', 'f53', 'f54', 'f55', 'f56', 'f57', 'f58', 'f59', 'f60', 'f61', 'f62', 'f63', 'f64', 'f65', 'f66', 'f67', 'f68', 'f69', 'f70', 'f71', 'f72', 'f73', 'f74', 'f75', 'f76', 'f77', 'f78', 'f79', 'f80', 'f81', 'f82', 'f83', 'f84', 'f85', 'f86', 'f87', 'f88', 'f89', 'f90', 'f91', 'f92', 'f93', 'f94', 'f95', 'f96', 'f97', 'f98', 'f99', 'f100', 'f101', 'f102', 'f103', 'f104', 'f96', 'f105', 'f106', 'f107', 'f108', 'f109', 'f110', 'f111', 'f112', 'f113', 'f114', 'f115', 'f116', 'f117', 'f118', 'f119', 'f120', 'f121', 'f122', 'f123', 'f124', 'f125', 'f126', 'f127', 'f128', 'f129', 'f96', 'f130', 'f131', 'f132', 'f133', 'f134', 'f135', 'f136', 'f137', 'f138', 'f139', 'f140', 'f141', 'f142', 'f143', 'f144', 'f145', 'f146', 'f147', 'f148', 'f149', 'f150', 'f151', 'f152', 'f153', 'f154', 'f155', 'f156', 'f157', 'f158', 'f159', 'f160', 'f161', 'f162', 'f163', 'f164', 'f165', 'f166', 'f167', 'f168', 'f169', 'f170', 'f171', 'f172', 'f173', 'f174', 'f175', 'f176', 'f177', 'f178', 'f179', 'f180', 'f181', 'f182', 'f183', 'f184', 'f185', 'f186', 'f187', 'f188', 'f189', 'f190', 'f191', 'f192', 'f193', 'f194', 'f195', 'f196', 'f197']\n"
     ]
    },
    {
     "data": {
      "text/plain": [
       "(3, 0.015)"
      ]
     },
     "execution_count": 147,
     "metadata": {},
     "output_type": "execute_result"
    }
   ],
   "source": [
    "# 0% workload\n",
    "\n",
    "map_to_names = {}\n",
    "name_to_counts = {}\n",
    "inputs_set = []\n",
    "\n",
    "a= 1.001\n",
    "s = np.random.zipf(a, 200)\n",
    "\n",
    "\n",
    "for x in s:\n",
    "    if x not in map_to_names:\n",
    "        name = 'f%d'%(len(map_to_names))\n",
    "        map_to_names[x] = name\n",
    "        name_to_counts[name] = 0\n",
    "    name_to_counts[map_to_names[x]] +=1\n",
    "    inputs_set.append(map_to_names[x])\n",
    "\n",
    "print(inputs_set)\n",
    "\n",
    "reused_ds = [x for x in name_to_counts if name_to_counts[x] > 1]\n",
    "unique_ds = [x for x in name_to_counts if name_to_counts[x] == 1]\n",
    "len(reused_ds), len(unique_ds)\n",
    "\n",
    "reuse = 0\n",
    "for x in name_to_counts:\n",
    "    if name_to_counts[x] > 1: reuse += name_to_counts[x]\n",
    "\n",
    "path = '/local0/Kariz/expriments/simulator/multidag/config/synthetic_worload_md_0p.g'\n",
    "with open(path, 'w') as fd:\n",
    "    fd.write(','.join(inputs_set))\n",
    "        \n",
    "reuse, reuse/len(inputs_set)"
   ]
  },
  {
   "cell_type": "code",
   "execution_count": null,
   "metadata": {},
   "outputs": [],
   "source": []
  },
  {
   "cell_type": "code",
   "execution_count": null,
   "metadata": {},
   "outputs": [],
   "source": []
  },
  {
   "cell_type": "code",
   "execution_count": null,
   "metadata": {},
   "outputs": [],
   "source": []
  }
 ],
 "metadata": {
  "kernelspec": {
   "display_name": "Python 3",
   "language": "python",
   "name": "python3"
  },
  "language_info": {
   "codemirror_mode": {
    "name": "ipython",
    "version": 3
   },
   "file_extension": ".py",
   "mimetype": "text/x-python",
   "name": "python",
   "nbconvert_exporter": "python",
   "pygments_lexer": "ipython3",
   "version": "3.6.9"
  }
 },
 "nbformat": 4,
 "nbformat_minor": 2
}
