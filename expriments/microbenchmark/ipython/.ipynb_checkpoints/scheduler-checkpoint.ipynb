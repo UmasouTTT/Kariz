{
 "cells": [
  {
   "cell_type": "code",
   "execution_count": 22,
   "metadata": {},
   "outputs": [
    {
     "name": "stdout",
     "output_type": "stream",
     "text": [
      "...................\n",
      "t,1\n",
      "v,0,wordcount,32G\n",
      "v,1,wordcount,32G\n",
      "v,2,wordcount,32G\n",
      "e,0,2\n",
      "e,1,2\n",
      "\n"
     ]
    },
    {
     "ename": "ValueError",
     "evalue": "not enough values to unpack (expected 2, got 1)",
     "output_type": "error",
     "traceback": [
      "\u001b[0;31m---------------------------------------------------------------------------\u001b[0m",
      "\u001b[0;31mValueError\u001b[0m                                Traceback (most recent call last)",
      "\u001b[0;32m<ipython-input-22-674669ea3b2a>\u001b[0m in \u001b[0;36m<module>\u001b[0;34m\u001b[0m\n\u001b[1;32m     11\u001b[0m         \u001b[0;32mfor\u001b[0m \u001b[0mg_e\u001b[0m \u001b[0;32min\u001b[0m \u001b[0mg_elements\u001b[0m\u001b[0;34m:\u001b[0m\u001b[0;34m\u001b[0m\u001b[0;34m\u001b[0m\u001b[0m\n\u001b[1;32m     12\u001b[0m             \u001b[0mprint\u001b[0m\u001b[0;34m(\u001b[0m\u001b[0mg_e\u001b[0m\u001b[0;34m)\u001b[0m\u001b[0;34m\u001b[0m\u001b[0;34m\u001b[0m\u001b[0m\n\u001b[0;32m---> 13\u001b[0;31m             \u001b[0mcommand\u001b[0m\u001b[0;34m,\u001b[0m \u001b[0mparams\u001b[0m \u001b[0;34m=\u001b[0m \u001b[0mg_e\u001b[0m\u001b[0;34m.\u001b[0m\u001b[0msplit\u001b[0m\u001b[0;34m(\u001b[0m\u001b[0;34m','\u001b[0m\u001b[0;34m,\u001b[0m \u001b[0;36m1\u001b[0m\u001b[0;34m)\u001b[0m\u001b[0;34m\u001b[0m\u001b[0;34m\u001b[0m\u001b[0m\n\u001b[0m\u001b[1;32m     14\u001b[0m \u001b[0;34m\u001b[0m\u001b[0m\n\u001b[1;32m     15\u001b[0m             \u001b[0;32mif\u001b[0m \u001b[0mcommand\u001b[0m \u001b[0;34m==\u001b[0m \u001b[0;34m'v'\u001b[0m\u001b[0;34m:\u001b[0m\u001b[0;34m\u001b[0m\u001b[0;34m\u001b[0m\u001b[0m\n",
      "\u001b[0;31mValueError\u001b[0m: not enough values to unpack (expected 2, got 1)"
     ]
    }
   ],
   "source": [
    "import graph_tool.all as gt\n",
    "\n",
    "with open('graphs.g', 'r') as fd:\n",
    "    graph_strs = fd.read().split('#')[1:]\n",
    "    \n",
    "    for g_str in graph_strs:\n",
    "        g_elements=g_str.split('\\n')[:-1]\n",
    "        g = gt.Graph(directed=True)\n",
    "        status = g.new_vertex_property(\"int\")\n",
    "        print('...................')\n",
    "        for g_e in g_elements:\n",
    "            print(g_e)\n",
    "            command, params = g_e.split(',', 1)\n",
    "\n",
    "            if command == 'v':\n",
    "                vid,operaion, size = params.split(',')\n",
    "                v = g.add_vertex()\n",
    "                status[v] = 0\n",
    "            elif command == 'e':\n",
    "                src, dest = params.split(',')\n",
    "                g.add_edge(src, dest)\n",
    "    \n",
    "        sort = gt.topological_sort(g)\n",
    "        print('topological sort', sort)\n",
    "        schedule = 1;\n",
    "        to_be_executed = []\n",
    "        for v in sort:\n",
    "            # get in-degree neighbors\n",
    "            schedule = 1; \n",
    "            in_neight_vrtx = g.get_in_neighbors(v)\n",
    "            for nv in in_neight_vrtx:\n",
    "                if status[nv] == 0:\n",
    "                    schedule = 0;\n",
    "            if schedule:\n",
    "                to_be_executed.append(v) \n",
    "        print(to_be_executed)"
   ]
  },
  {
   "cell_type": "code",
   "execution_count": null,
   "metadata": {},
   "outputs": [],
   "source": []
  },
  {
   "cell_type": "code",
   "execution_count": null,
   "metadata": {},
   "outputs": [],
   "source": []
  },
  {
   "cell_type": "code",
   "execution_count": null,
   "metadata": {},
   "outputs": [],
   "source": []
  }
 ],
 "metadata": {
  "kernelspec": {
   "display_name": "Python 3",
   "language": "python",
   "name": "python3"
  },
  "language_info": {
   "codemirror_mode": {
    "name": "ipython",
    "version": 3
   },
   "file_extension": ".py",
   "mimetype": "text/x-python",
   "name": "python",
   "nbconvert_exporter": "python",
   "pygments_lexer": "ipython3",
   "version": "3.6.9"
  }
 },
 "nbformat": 4,
 "nbformat_minor": 2
}
