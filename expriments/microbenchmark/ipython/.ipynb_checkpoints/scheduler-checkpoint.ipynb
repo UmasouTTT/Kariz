{
 "cells": [
  {
   "cell_type": "code",
   "execution_count": 4,
   "metadata": {},
   "outputs": [
    {
     "name": "stdout",
     "output_type": "stream",
     "text": [
      "[1, 0]\n",
      "bin/workloads/micro/wordcount/hadoop/run2.sh s3a://data/HiBench/Wordcount/Input-1G-1\n",
      "bin/workloads/micro/wordcount/hadoop/run2.sh s3a://data/HiBench/Wordcount/Input-1G\n",
      "[3, 1, 0]\n",
      "bin/workloads/micro/wordcount/hadoop/run2.sh 32G\n",
      "bin/workloads/micro/wordcount/hadoop/run2.sh 32G\n",
      "bin/workloads/micro/wordcount/hadoop/run2.sh 32G\n"
     ]
    }
   ],
   "source": [
    "import graph_tool.all as gt\n",
    "import os\n",
    "\n",
    "def build_dag_from_str(g_str):\n",
    "    g_elements=g_str.split('\\n')[:-1]\n",
    "    g = gt.Graph(directed=True)\n",
    "    status = g.new_vertex_property(\"int\")\n",
    "    ops = g.new_vertex_property(\"string\")\n",
    "    inputs = g.new_vertex_property(\"string\")\n",
    "    \n",
    "    for g_e in g_elements:\n",
    "        command, params = g_e.split(',', 1)\n",
    "\n",
    "        if command == 'v':\n",
    "            vid,operation, inputdir = params.split(',')\n",
    "            v = g.add_vertex()\n",
    "            status[v] = 0\n",
    "            ops[v] = operation\n",
    "            inputs[v] = inputdir\n",
    "        elif command == 'e':\n",
    "            src, dest = params.split(',')\n",
    "            g.add_edge(src, dest)\n",
    "    g.vp['status'] = status;\n",
    "    g.vp['ops'] = ops;\n",
    "    g.vp['inputdir'] = inputs\n",
    "    return g;\n",
    "\n",
    "\n",
    "def submit(g, ready=[]):\n",
    "    print(ready)\n",
    "    process = []\n",
    "    for v in ready:\n",
    "        program = g.vp['ops'][v]\n",
    "        inputdir = g.vp['inputdir'][v]\n",
    "        \n",
    "        cur_dir = os.getcwd()\n",
    "        cfg_hibench_root='/local0/HiBench'\n",
    "        \n",
    "        cfg_executable = 'bin/workloads/micro/%s/hadoop/run2.sh'%(program)\n",
    "        \n",
    "        process.append(subprocess.Popen([cfg.hibench_command, inputdir], \n",
    "                                        stdout=subprocess.PIPE, shell=True, executable=\"/bin/bash\"))\n",
    "\n",
    "    print('Wait for ', cfg.grace_time)\n",
    "    time.sleep(cfg.grace_time)\n",
    "\n",
    "    # get app name\n",
    "    app = yarn.get_appname();\n",
    "\n",
    "    exit_codes = [p.wait() for p in process]\n",
    "    \n",
    "    print(exit_codes)\n",
    "    \n",
    "    os.chdir(cfg_hibench_root)\n",
    "        \n",
    "    os.chdir(cur_dir)\n",
    "    \n",
    "\n",
    "\n",
    "def schedule(g):\n",
    "    sort = gt.topological_sort(g)\n",
    "    schedule = 1;\n",
    "    to_be_executed = []\n",
    "    for v in sort:\n",
    "        # get in-degree neighbors\n",
    "        schedule = 1; \n",
    "        in_neight_vrtx = g.get_in_neighbors(v)\n",
    "        for nv in in_neight_vrtx:\n",
    "            if g.vp.status[nv] == 0:\n",
    "                schedule = 0;\n",
    "        if schedule:\n",
    "            to_be_executed.append(v) \n",
    "    return to_be_executed\n",
    "\n",
    "with open('graphs.g', 'r') as fd:\n",
    "    graph_strs = fd.read().split('#')[1:]\n",
    "    \n",
    "    for g_str in graph_strs:\n",
    "        g = build_dag_from_str(g_str)\n",
    "        \n",
    "        to_be_executed = schedule(g)\n",
    "        \n",
    "        submit(g, to_be_executed)"
   ]
  },
  {
   "cell_type": "code",
   "execution_count": 5,
   "metadata": {},
   "outputs": [
    {
     "ename": "TypeError",
     "evalue": "apply() missing 1 required positional argument: 'func'",
     "output_type": "error",
     "traceback": [
      "\u001b[0;31m---------------------------------------------------------------------------\u001b[0m",
      "\u001b[0;31mTypeError\u001b[0m                                 Traceback (most recent call last)",
      "\u001b[0;32m<ipython-input-5-29585432672c>\u001b[0m in \u001b[0;36m<module>\u001b[0;34m\u001b[0m\n\u001b[1;32m      5\u001b[0m \u001b[0;34m\u001b[0m\u001b[0m\n\u001b[1;32m      6\u001b[0m \u001b[0mdf\u001b[0m \u001b[0;34m=\u001b[0m \u001b[0mpd\u001b[0m\u001b[0;34m.\u001b[0m\u001b[0mread_csv\u001b[0m\u001b[0;34m(\u001b[0m\u001b[0;34m'../aon_vs_partial.csv'\u001b[0m\u001b[0;34m)\u001b[0m\u001b[0;34m\u001b[0m\u001b[0;34m\u001b[0m\u001b[0m\n\u001b[0;32m----> 7\u001b[0;31m \u001b[0mdf\u001b[0m \u001b[0;34m=\u001b[0m \u001b[0mdf\u001b[0m\u001b[0;34m.\u001b[0m\u001b[0mapply\u001b[0m\u001b[0;34m(\u001b[0m\u001b[0;34m)\u001b[0m\u001b[0;34m\u001b[0m\u001b[0;34m\u001b[0m\u001b[0m\n\u001b[0m\u001b[1;32m      8\u001b[0m \u001b[0;34m\u001b[0m\u001b[0m\n\u001b[1;32m      9\u001b[0m \u001b[0msns\u001b[0m\u001b[0;34m.\u001b[0m\u001b[0mset\u001b[0m\u001b[0;34m(\u001b[0m\u001b[0mcolor_codes\u001b[0m\u001b[0;34m=\u001b[0m\u001b[0;32mTrue\u001b[0m\u001b[0;34m)\u001b[0m\u001b[0;34m\u001b[0m\u001b[0;34m\u001b[0m\u001b[0m\n",
      "\u001b[0;31mTypeError\u001b[0m: apply() missing 1 required positional argument: 'func'"
     ]
    }
   ],
   "source": [
    "import pandas as pd \n",
    "import seaborn as sns; \n",
    "import matplotlib.pyplot as plt\n",
    "import matplotlib.ticker as ticker\n",
    "\n",
    "def assign_experiment_id(row):\n",
    "    map_name_to_id = {'remote': 0, 'allnothing': 1, 'partial': 2, 'allcached': 3}\n",
    "    row['experiemnt_id'] = map_name_to_id[row['experiment']]\n",
    "    return row\n",
    "\n",
    "df = pd.read_csv('../aon_vs_partial.csv')\n",
    "df = df.apply(assign_experiment_id, axis=1)\n",
    "\n",
    "sns.set(color_codes=True)\n",
    "\n",
    "def format_xticks(x, pos=None):\n",
    "    decoder = {0: 'Remote', 1: 'All-or-Nothing', 2: 'Partial Cache', 3: 'Infinite cache'}\n",
    "    return decoder[x]\n",
    "\n",
    "\n",
    "\n",
    "fig, ax = plt.subplots(figsize=(6,3))\n",
    "sns.scatterplot(ax=ax, x='experiment', y = 'runtime' , data=df,\n",
    "                s=200, color=\"#008837\")\n",
    "\n",
    "ax.set_xticks([0, 1, 2, 3])\n",
    "ax.set_yticks(range(df['runtime'].min(), df['runtime'].max(), 100))\n",
    "ax.tick_params(axis='both', which='major', labelsize=12)\n",
    "ax.xaxis.set_major_formatter(ticker.FuncFormatter(format_xticks))\n",
    "ax.set_xlabel('')\n",
    "ax.set_ylabel(\"Run time (sec)\") \n",
    "\n",
    "plt.show()"
   ]
  },
  {
   "cell_type": "code",
   "execution_count": 4,
   "metadata": {},
   "outputs": [
    {
     "data": {
      "image/png": "[encoded data removed]",
      "text/plain": [
       "<Figure size 432x216 with 1 Axes>"
      ]
     },
     "metadata": {},
     "output_type": "display_data"
    }
   ],
   "source": [
    "sns.set_style(\"whitegrid\")\n",
    "sns.set_context(rc = {'patch.linewidth': 1.5, 'patch.color': 'black'})\n",
    "\n",
    "fig, ax = plt.subplots(figsize=(6,3))\n",
    "sns.barplot(ax=ax, y='experiment', x = 'runtime', data=df,\n",
    "            capsize=.2, palette=['#fdb462', '#fb8072', '#8dd3c7' , '#bebada'], \n",
    "            orient = 'h', edgecolor=['#fdb462', '#fb8072', '#8dd3c7', '#bebada'])\n",
    "\n",
    "ax.set_yticks([0, 1, 2, 3])\n",
    "#ax.set_yticks(range(df['runtime'].min(), df['runtime'].max(), 100))\n",
    "ax.tick_params(axis='both', which='major', labelsize=12)\n",
    "ax.yaxis.set_major_formatter(ticker.FuncFormatter(format_xticks))\n",
    "ax.set_ylabel('')\n",
    "ax.set_xlabel(\"Run time (sec)\") \n",
    "\n",
    "label = ax.yaxis.get_ticklabels()[1]\n",
    "label.set_bbox(dict(facecolor='none', edgecolor='red'))\n",
    "\n",
    "label = ax.yaxis.get_ticklabels()[2]\n",
    "label.set_bbox(dict(facecolor='none', edgecolor='red'))\n",
    "\n",
    "plt.subplots_adjust(left=0.1, bottom=0.13, right=0.98, top=0.97)\n",
    "plt.savefig('/local0/papers/KARIZ/OSDI20/Figures/fig_partial_vs_allnothing.pdf', format='pdf', dpi=200)\n",
    "plt.savefig('/local0/papers/KARIZ/OSDI20/Figures/fig_partial_vs_allnothing.png', format='png', dpi=200)\n",
    "\n",
    "\n",
    "plt.show()"
   ]
  },
  {
   "cell_type": "code",
   "execution_count": null,
   "metadata": {},
   "outputs": [],
   "source": []
  }
 ],
 "metadata": {
  "kernelspec": {
   "display_name": "Python 3",
   "language": "python",
   "name": "python3"
  },
  "language_info": {
   "codemirror_mode": {
    "name": "ipython",
    "version": 3
   },
   "file_extension": ".py",
   "mimetype": "text/x-python",
   "name": "python",
   "nbconvert_exporter": "python",
   "pygments_lexer": "ipython3",
   "version": "3.6.9"
  }
 },
 "nbformat": 4,
 "nbformat_minor": 2
}
