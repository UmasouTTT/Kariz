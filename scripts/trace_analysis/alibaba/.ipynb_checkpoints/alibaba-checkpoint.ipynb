{
 "cells": [
  {
   "cell_type": "code",
   "execution_count": 11,
   "metadata": {},
   "outputs": [
    {
     "name": "stdout",
     "output_type": "stream",
     "text": [
      "['Terminated' 'Failed' 'Running' 'Interrupted' 'Ready']\n",
      "Number of failed or interuppted tasks: 579\n",
      "88527\n",
      "1\n"
     ]
    }
   ],
   "source": [
    "#!/usr/bin/python3\n",
    "\n",
    "import sys\n",
    "import pandas as pd\n",
    "import matplotlib.pyplot as plt\n",
    "import numpy as np\n",
    "import json\n",
    "\n",
    "# Read Batch Data, hint: Job and Type column should swap\n",
    "batch_tasks = pd.read_csv(\"/local0/m_68_usage.csv\", names=['Instance', 'Task', 'Job', 'Type', 'Status', 'Start Time', 'End Time', 'Machine_id', 'seq_no', 'total_seq_no', 'cpu_avg', 'cpu_max', 'mem_avg','mem_max'])\n",
    "\n",
    "\n",
    "print(batch_tasks[\"Status\"].unique())\n",
    "\n",
    "# Filter jobs without dependency, dataset has two types of batch jobs, w/wo DAG info and \n",
    "failed_tasks = batch_tasks[(batch_tasks['Status'] == \"Failed\") | (batch_tasks['Status'] == \"Interrupted\")]\n",
    "print(\"Number of failed or interuppted tasks: \" + str(len(failed_tasks)))\n",
    "\n",
    "batch_tasks_done = batch_tasks[(batch_tasks['Status'] == 'Terminated') & (batch_tasks['End Time'] != 0)].dropna()\n",
    "\n",
    "\n",
    "# group jobs by their ID\n",
    "batch_tasks_done[\"run time\"] = batch_tasks_done['End Time'] - batch_tasks_done['Start Time'] + 1;\n",
    "\n",
    "\n",
    "\n",
    "\n"
   ]
  },
  {
   "cell_type": "code",
   "execution_count": 22,
   "metadata": {},
   "outputs": [
    {
     "data": {
      "text/plain": [
       "array([[<matplotlib.axes._subplots.AxesSubplot object at 0x7f3b821d0c18>]],\n",
       "      dtype=object)"
      ]
     },
     "execution_count": 22,
     "metadata": {},
     "output_type": "execute_result"
    },
    {
     "data": {
      "image/png": "[encoded data removed]",
      "text/plain": [
       "<Figure size 432x288 with 1 Axes>"
      ]
     },
     "metadata": {
      "needs_background": "light"
     },
     "output_type": "display_data"
    }
   ],
   "source": [
    "batch_tasks_done[batch_tasks_done['run time'] < 20].hist(column='run time')"
   ]
  },
  {
   "cell_type": "code",
   "execution_count": 28,
   "metadata": {},
   "outputs": [
    {
     "name": "stdout",
     "output_type": "stream",
     "text": [
      "170591\n",
      "377431\n"
     ]
    }
   ],
   "source": [
    "print(len(np.unique(batch_tasks[['Task','Job']].values)))\n",
    "print(len(batch_tasks))"
   ]
  },
  {
   "cell_type": "code",
   "execution_count": 29,
   "metadata": {},
   "outputs": [
    {
     "name": "stdout",
     "output_type": "stream",
     "text": [
      "0.45197930217708665\n"
     ]
    }
   ],
   "source": [
    "print(len(np.unique(batch_tasks[['Task','Job']].values))/len(batch_tasks))"
   ]
  },
  {
   "cell_type": "code",
   "execution_count": 43,
   "metadata": {},
   "outputs": [
    {
     "name": "stdout",
     "output_type": "stream",
     "text": [
      "0\n",
      "583886\n",
      "{'30 sec': 10139369, '1 min': 1234683, '5 min': 1829109, '30 min': 955402, '1 hour': 36227, '< 1 day ': 22219, '> 1 day': 411}\n"
     ]
    },
    {
     "ename": "TypeError",
     "evalue": "unsupported operand type(s) for +: 'int' and 'dict'",
     "output_type": "error",
     "traceback": [
      "\u001b[0;31m---------------------------------------------------------------------------\u001b[0m",
      "\u001b[0;31mTypeError\u001b[0m                                 Traceback (most recent call last)",
      "\u001b[0;32m<ipython-input-43-ba4a80a01872>\u001b[0m in \u001b[0;36m<module>\u001b[0;34m\u001b[0m\n\u001b[1;32m     37\u001b[0m \u001b[0;34m\u001b[0m\u001b[0m\n\u001b[1;32m     38\u001b[0m \u001b[0mprint\u001b[0m\u001b[0;34m(\u001b[0m\u001b[0mrun_time_his_dist\u001b[0m\u001b[0;34m)\u001b[0m\u001b[0;34m\u001b[0m\u001b[0;34m\u001b[0m\u001b[0m\n\u001b[0;32m---> 39\u001b[0;31m \u001b[0mplt\u001b[0m\u001b[0;34m.\u001b[0m\u001b[0mbar\u001b[0m\u001b[0;34m(\u001b[0m\u001b[0my_pos\u001b[0m\u001b[0;34m,\u001b[0m \u001b[0mrun_time_his_dist\u001b[0m\u001b[0;34m,\u001b[0m \u001b[0malign\u001b[0m\u001b[0;34m=\u001b[0m\u001b[0;34m'center'\u001b[0m\u001b[0;34m,\u001b[0m \u001b[0malpha\u001b[0m\u001b[0;34m=\u001b[0m\u001b[0;36m0.5\u001b[0m\u001b[0;34m)\u001b[0m\u001b[0;34m\u001b[0m\u001b[0;34m\u001b[0m\u001b[0m\n\u001b[0m",
      "\u001b[0;32m/usr/local/lib/python3.6/dist-packages/matplotlib/pyplot.py\u001b[0m in \u001b[0;36mbar\u001b[0;34m(x, height, width, bottom, align, data, **kwargs)\u001b[0m\n\u001b[1;32m   2457\u001b[0m     return gca().bar(\n\u001b[1;32m   2458\u001b[0m         \u001b[0mx\u001b[0m\u001b[0;34m,\u001b[0m \u001b[0mheight\u001b[0m\u001b[0;34m,\u001b[0m \u001b[0mwidth\u001b[0m\u001b[0;34m=\u001b[0m\u001b[0mwidth\u001b[0m\u001b[0;34m,\u001b[0m \u001b[0mbottom\u001b[0m\u001b[0;34m=\u001b[0m\u001b[0mbottom\u001b[0m\u001b[0;34m,\u001b[0m \u001b[0malign\u001b[0m\u001b[0;34m=\u001b[0m\u001b[0malign\u001b[0m\u001b[0;34m,\u001b[0m\u001b[0;34m\u001b[0m\u001b[0;34m\u001b[0m\u001b[0m\n\u001b[0;32m-> 2459\u001b[0;31m         **({\"data\": data} if data is not None else {}), **kwargs)\n\u001b[0m\u001b[1;32m   2460\u001b[0m \u001b[0;34m\u001b[0m\u001b[0m\n\u001b[1;32m   2461\u001b[0m \u001b[0;34m\u001b[0m\u001b[0m\n",
      "\u001b[0;32m/usr/local/lib/python3.6/dist-packages/matplotlib/__init__.py\u001b[0m in \u001b[0;36minner\u001b[0;34m(ax, data, *args, **kwargs)\u001b[0m\n\u001b[1;32m   1808\u001b[0m                         \u001b[0;34m\"the Matplotlib list!)\"\u001b[0m \u001b[0;34m%\u001b[0m \u001b[0;34m(\u001b[0m\u001b[0mlabel_namer\u001b[0m\u001b[0;34m,\u001b[0m \u001b[0mfunc\u001b[0m\u001b[0;34m.\u001b[0m\u001b[0m__name__\u001b[0m\u001b[0;34m)\u001b[0m\u001b[0;34m,\u001b[0m\u001b[0;34m\u001b[0m\u001b[0;34m\u001b[0m\u001b[0m\n\u001b[1;32m   1809\u001b[0m                         RuntimeWarning, stacklevel=2)\n\u001b[0;32m-> 1810\u001b[0;31m             \u001b[0;32mreturn\u001b[0m \u001b[0mfunc\u001b[0m\u001b[0;34m(\u001b[0m\u001b[0max\u001b[0m\u001b[0;34m,\u001b[0m \u001b[0;34m*\u001b[0m\u001b[0margs\u001b[0m\u001b[0;34m,\u001b[0m \u001b[0;34m**\u001b[0m\u001b[0mkwargs\u001b[0m\u001b[0;34m)\u001b[0m\u001b[0;34m\u001b[0m\u001b[0;34m\u001b[0m\u001b[0m\n\u001b[0m\u001b[1;32m   1811\u001b[0m \u001b[0;34m\u001b[0m\u001b[0m\n\u001b[1;32m   1812\u001b[0m         inner.__doc__ = _add_data_doc(inner.__doc__,\n",
      "\u001b[0;32m/usr/local/lib/python3.6/dist-packages/matplotlib/axes/_axes.py\u001b[0m in \u001b[0;36mbar\u001b[0;34m(self, x, height, width, bottom, align, **kwargs)\u001b[0m\n\u001b[1;32m   2294\u001b[0m                 \u001b[0medgecolor\u001b[0m\u001b[0;34m=\u001b[0m\u001b[0me\u001b[0m\u001b[0;34m,\u001b[0m\u001b[0;34m\u001b[0m\u001b[0;34m\u001b[0m\u001b[0m\n\u001b[1;32m   2295\u001b[0m                 \u001b[0mlinewidth\u001b[0m\u001b[0;34m=\u001b[0m\u001b[0mlw\u001b[0m\u001b[0;34m,\u001b[0m\u001b[0;34m\u001b[0m\u001b[0;34m\u001b[0m\u001b[0m\n\u001b[0;32m-> 2296\u001b[0;31m                 \u001b[0mlabel\u001b[0m\u001b[0;34m=\u001b[0m\u001b[0;34m'_nolegend_'\u001b[0m\u001b[0;34m,\u001b[0m\u001b[0;34m\u001b[0m\u001b[0;34m\u001b[0m\u001b[0m\n\u001b[0m\u001b[1;32m   2297\u001b[0m                 )\n\u001b[1;32m   2298\u001b[0m             \u001b[0mr\u001b[0m\u001b[0;34m.\u001b[0m\u001b[0mupdate\u001b[0m\u001b[0;34m(\u001b[0m\u001b[0mkwargs\u001b[0m\u001b[0;34m)\u001b[0m\u001b[0;34m\u001b[0m\u001b[0;34m\u001b[0m\u001b[0m\n",
      "\u001b[0;32m/usr/local/lib/python3.6/dist-packages/matplotlib/patches.py\u001b[0m in \u001b[0;36m__init__\u001b[0;34m(self, xy, width, height, angle, **kwargs)\u001b[0m\n\u001b[1;32m    665\u001b[0m \u001b[0;34m\u001b[0m\u001b[0m\n\u001b[1;32m    666\u001b[0m         \u001b[0mself\u001b[0m\u001b[0;34m.\u001b[0m\u001b[0m_x1\u001b[0m \u001b[0;34m=\u001b[0m \u001b[0mself\u001b[0m\u001b[0;34m.\u001b[0m\u001b[0m_x0\u001b[0m \u001b[0;34m+\u001b[0m \u001b[0mself\u001b[0m\u001b[0;34m.\u001b[0m\u001b[0m_width\u001b[0m\u001b[0;34m\u001b[0m\u001b[0;34m\u001b[0m\u001b[0m\n\u001b[0;32m--> 667\u001b[0;31m         \u001b[0mself\u001b[0m\u001b[0;34m.\u001b[0m\u001b[0m_y1\u001b[0m \u001b[0;34m=\u001b[0m \u001b[0mself\u001b[0m\u001b[0;34m.\u001b[0m\u001b[0m_y0\u001b[0m \u001b[0;34m+\u001b[0m \u001b[0mself\u001b[0m\u001b[0;34m.\u001b[0m\u001b[0m_height\u001b[0m\u001b[0;34m\u001b[0m\u001b[0;34m\u001b[0m\u001b[0m\n\u001b[0m\u001b[1;32m    668\u001b[0m \u001b[0;34m\u001b[0m\u001b[0m\n\u001b[1;32m    669\u001b[0m         \u001b[0mself\u001b[0m\u001b[0;34m.\u001b[0m\u001b[0mangle\u001b[0m \u001b[0;34m=\u001b[0m \u001b[0mfloat\u001b[0m\u001b[0;34m(\u001b[0m\u001b[0mangle\u001b[0m\u001b[0;34m)\u001b[0m\u001b[0;34m\u001b[0m\u001b[0;34m\u001b[0m\u001b[0m\n",
      "\u001b[0;31mTypeError\u001b[0m: unsupported operand type(s) for +: 'int' and 'dict'"
     ]
    },
    {
     "data": {
      "image/png": "[encoded data removed]",
      "text/plain": [
       "<Figure size 432x288 with 1 Axes>"
      ]
     },
     "metadata": {
      "needs_background": "light"
     },
     "output_type": "display_data"
    }
   ],
   "source": [
    "# draw runtime of tasks\n",
    "batch_tasks = pd.read_csv(\"/local0/batch_task.csv\", names=['Name', '# Inst', 'Job', 'Type', 'Status', 'Start Time', 'End Time', 'CPU', 'Mem'])\n",
    "batch_tasks.dropna()\n",
    "\n",
    "batch_tasks = batch_tasks[batch_tasks['End Time'] != 0]\n",
    "\n",
    "batch_tasks[\"run time\"] = pd.Series(batch_tasks['End Time'] - batch_tasks['Start Time']).abs();\n",
    "\n",
    "print(min(batch_tasks[\"run time\"]))\n",
    "print(max(batch_tasks[\"run time\"]))\n",
    "\n",
    "\n",
    "run_time_his_dist = {\n",
    "    '30 sec' : len(batch_tasks[batch_tasks[\"run time\"] < 30]),\n",
    "    '1 min' : len(batch_tasks[(batch_tasks[\"run time\"] >= 30) & (batch_tasks[\"run time\"] < 60)]), \n",
    "    '5 min' : len(batch_tasks[(batch_tasks[\"run time\"] >= 60) & (batch_tasks[\"run time\"] < 300)]), \n",
    "    '30 min' : len(batch_tasks[(batch_tasks[\"run time\"] >= 300) & (batch_tasks[\"run time\"] < 1800)]), \n",
    "    '1 hour' : len(batch_tasks[(batch_tasks[\"run time\"] >= 1800) & (batch_tasks[\"run time\"] < 3600)]),\n",
    "    '< 1 day ' : len(batch_tasks[(batch_tasks[\"run time\"] >= 3600) & (batch_tasks[\"run time\"] < 86400)]),\n",
    "    '> 1 day' : len(batch_tasks[batch_tasks[\"run time\"] >= 86400]) \n",
    "} \n",
    "\n",
    "run_time_labels = ('< 30 sec', '< 1 min', '< 5 min', '< 30 min', \n",
    "                   '< 1 hour', '< 1 day', '> 1 day')\n",
    "\n",
    "\n",
    "run_time_list = [\n",
    "    len(batch_tasks[batch_tasks[\"run time\"] < 30]),\n",
    "    len(batch_tasks[(batch_tasks[\"run time\"] >= 30) & (batch_tasks[\"run time\"] < 60)]), \n",
    "    len(batch_tasks[(batch_tasks[\"run time\"] >= 60) & (batch_tasks[\"run time\"] < 300)]), \n",
    "    len(batch_tasks[(batch_tasks[\"run time\"] >= 300) & (batch_tasks[\"run time\"] < 1800)]), \n",
    "    len(batch_tasks[(batch_tasks[\"run time\"] >= 1800) & (batch_tasks[\"run time\"] < 3600)]),\n",
    "    len(batch_tasks[(batch_tasks[\"run time\"] >= 3600) & (batch_tasks[\"run time\"] < 86400)]),\n",
    "    len(batch_tasks[batch_tasks[\"run time\"] >= 86400]) \n",
    "] \n",
    "y_pos = np.arange(len(run_time_labels))\n",
    "\n",
    "print(run_time_dist)\n",
    "\n"
   ]
  },
  {
   "cell_type": "code",
   "execution_count": 60,
   "metadata": {},
   "outputs": [
    {
     "data": {
      "image/png": "[encoded data removed]",
      "text/plain": [
       "<Figure size 432x288 with 1 Axes>"
      ]
     },
     "metadata": {
      "needs_background": "light"
     },
     "output_type": "display_data"
    }
   ],
   "source": [
    "total_number_of_jobs = sum(run_time_list)\n",
    "run_time_list = [100*x / total_number_of_jobs for x in run_time_list]\n",
    "plt.bar(y_pos, run_time_list, align='center', color='blue', alpha=0.5)\n",
    "plt.xticks(y_pos, run_time_labels)\n",
    "plt.ylabel('Percentage of jobs')\n",
    "plt.xlabel('Task runtime')\n",
    "xlocs, xlabs = plt.xticks()\n",
    "\n",
    "for i, v in enumerate(run_time_list):\n",
    "    plt.text(xlocs[i] - 0.25, v + 0.01, str(round(v, 3)))\n",
    "\n"
   ]
  },
  {
   "cell_type": "markdown",
   "metadata": {},
   "source": [
    "This is the part to draw the smooth graph of job submission "
   ]
  },
  {
   "cell_type": "code",
   "execution_count": 2,
   "metadata": {},
   "outputs": [
    {
     "name": "stdout",
     "output_type": "stream",
     "text": [
      "# of timestamps: 596037\n",
      "\t # of DAG submitted per timestamp:[3764    1    1 ...    1    1    1]\n",
      "\t # of DAG submitted per timestamp:[7665    6    3 ...    1    1    1]\n"
     ]
    }
   ],
   "source": [
    "#!/usr/bin/python3\n",
    "import sys\n",
    "import pandas as pd\n",
    "import matplotlib.pyplot as plt\n",
    "import numpy as np\n",
    "import json\n",
    "import seaborn as sns;\n",
    "\n",
    "def format_func(value, tick_number):\n",
    "    return int(round(value/3600))\n",
    "\n",
    "np.random.seed(0)\n",
    "sns.set()\n",
    "\n",
    "input_file = \"/local0/batch_task.csv\"\n",
    "#input_file = \"./batch_task.csv\"\n",
    "#input_file = \"./10kbatches.csv\"\n",
    "\n",
    "# Read Batch Data, hint: Job and Type column should swap\n",
    "data = pd.read_csv(input_file, names=['Name', '# Instances', 'Job', 'Type', 'Status', 'Start Time', 'End Time', 'CPU', 'Mem'])\n",
    "\n",
    "# Filter jobs with dependency, dataset has two types of batch jobs, w/wo DAG info and \n",
    "data_dag = data.loc[~data['Name'].str.startswith('task_', na=False)]\n",
    "\n",
    "# group jobs by their start time\n",
    "job_groups_by_timestamp = data_dag.groupby(['Start Time'], as_index=True);\n",
    "print(\"# of timestamps: \" + str(len(job_groups_by_timestamp)))\n",
    "\n",
    "# at each timestamp count # of submitted DAGS\n",
    "dag_submitted_per_timestamp = job_groups_by_timestamp['Job'].nunique();\n",
    "print(\"\\t # of DAG submitted per timestamp:\" + str(dag_submitted_per_timestamp.values))\n",
    "\n",
    "# at each timestamp count # of submitted tasks\n",
    "task_submitted_per_timestamp = job_groups_by_timestamp.size();\n",
    "print(\"\\t # of DAG submitted per timestamp:\" + str(task_submitted_per_timestamp.values))\n",
    "\n",
    "ser1 = pd.Series(index = job_groups_by_timestamp.groups, data=dag_submitted_per_timestamp)\n",
    "ser1 = ser1.drop(ser1.index[ser1.idxmax()])\n",
    "ser1 = ser1.drop(ser1.index[ser1.idxmax()])\n",
    "cdf1 = ser1.value_counts().sort_index().cumsum()\n",
    "cdf1 = cdf1/max(cdf1)\n",
    "\n",
    "ser2 = pd.Series(index = job_groups_by_timestamp.groups, data=task_submitted_per_timestamp)\n",
    "ser2 = ser2.drop(ser2.index[ser2.idxmax()])\n",
    "ser2 = ser2.drop(ser2.index[ser2.idxmax()])\n",
    "cdf2 = ser2.value_counts().sort_index().cumsum()\n",
    "cdf2 = cdf2/max(cdf2)"
   ]
  },
  {
   "cell_type": "code",
   "execution_count": 5,
   "metadata": {},
   "outputs": [
    {
     "data": {
      "image/png": "[encoded data removed]",
      "text/plain": [
       "<Figure size 432x288 with 1 Axes>"
      ]
     },
     "metadata": {},
     "output_type": "display_data"
    }
   ],
   "source": [
    "df1 = ser1.to_frame()\n",
    "df1.reset_index(inplace=True)\n",
    "df1.columns = ['timestamp','dag_count']\n",
    "with plt.style.context(\"seaborn-white\"):\n",
    "    plt.rcParams[\"axes.grid\"] = False\n",
    "    fig, ax = plt.subplots()\n",
    "    df1.plot(kind='scatter', ax=ax, x='timestamp', y='dag_count', color='blue')\n",
    "    ax.xaxis.set_major_formatter(plt.FuncFormatter(format_func))\n",
    "    ax.set_facecolor('white')\n",
    "\n",
    "plt.xlabel('Time (hour)', fontsize=16)\n",
    "plt.ylabel('# of DAGs submitted', fontsize=16)\n",
    "plt.rcParams[\"axes.edgecolor\"] = \"black\"\n",
    "plt.rcParams[\"axes.linewidth\"] = 1\n",
    "plt.tight_layout()"
   ]
  },
  {
   "cell_type": "code",
   "execution_count": 6,
   "metadata": {},
   "outputs": [
    {
     "name": "stdout",
     "output_type": "stream",
     "text": [
      "        timestamp  dag_count\n",
      "0            3297          1\n",
      "1            3301          1\n",
      "2            3305          1\n",
      "3            3307          1\n",
      "4           14063          1\n",
      "5           14066          1\n",
      "6           14069          1\n",
      "7           14072          1\n",
      "8           15191          1\n",
      "9           18098          1\n",
      "10          18099          1\n",
      "11          18177          1\n",
      "12          18463          1\n",
      "13          24419          1\n",
      "14          24420          1\n",
      "15          29171          1\n",
      "16          31266          1\n",
      "17          31624          1\n",
      "18          33992          1\n",
      "19          34096          1\n",
      "20          55160          1\n",
      "21          56140          1\n",
      "22          56141          1\n",
      "23          56145          1\n",
      "24          56149          1\n",
      "25          56178          1\n",
      "26          56211          1\n",
      "27          68281          1\n",
      "28          68282          1\n",
      "29          68286          1\n",
      "...           ...        ...\n",
      "596005     692120          1\n",
      "596006     692154          1\n",
      "596007     692250          1\n",
      "596008     692251          1\n",
      "596009     692333          1\n",
      "596010     692696          1\n",
      "596011     692923          1\n",
      "596012     692929          1\n",
      "596013     693038          1\n",
      "596014     693181          1\n",
      "596015     693252          1\n",
      "596016     693424          1\n",
      "596017     693571          1\n",
      "596018     693623          1\n",
      "596019     696967          1\n",
      "596020     697043          1\n",
      "596021     697272          1\n",
      "596022     698959          1\n",
      "596023     699669          1\n",
      "596024     699776          1\n",
      "596025     705105          1\n",
      "596026     707317          1\n",
      "596027     711014          1\n",
      "596028     715520          1\n",
      "596029     719159          1\n",
      "596030     721951          1\n",
      "596031     722459          1\n",
      "596032     724468          1\n",
      "596033     756438          1\n",
      "596034     765880          1\n",
      "\n",
      "[596035 rows x 2 columns]\n"
     ]
    }
   ],
   "source": [
    "def smooth(y, box_pts):\n",
    "    box = np.ones(box_pts)/box_pts\n",
    "    y_smooth = np.convolve(y, box, mode='same')\n",
    "    return y_smooth\n",
    "\n",
    "print(df1)"
   ]
  },
  {
   "cell_type": "code",
   "execution_count": 9,
   "metadata": {},
   "outputs": [],
   "source": [
    "x_data = [i+1 for i in range(len(df1['dag_count'].values))]\n",
    "data = smooth(df1['dag_count'].values, 12)"
   ]
  },
  {
   "cell_type": "code",
   "execution_count": 10,
   "metadata": {},
   "outputs": [
    {
     "data": {
      "text/plain": [
       "[<matplotlib.lines.Line2D at 0x7f01dc45d780>]"
      ]
     },
     "execution_count": 10,
     "metadata": {},
     "output_type": "execute_result"
    }
   ],
   "source": [
    "ax.plot(x_data, data, linewidth=1, color = 'b')"
   ]
  },
  {
   "cell_type": "code",
   "execution_count": 13,
   "metadata": {},
   "outputs": [
    {
     "data": {
      "text/plain": [
       "[<matplotlib.lines.Line2D at 0x7f0158a110b8>]"
      ]
     },
     "execution_count": 13,
     "metadata": {},
     "output_type": "execute_result"
    },
    {
     "data": {
      "image/png": "[encoded data removed]",
      "text/plain": [
       "<Figure size 432x288 with 1 Axes>"
      ]
     },
     "metadata": {},
     "output_type": "display_data"
    }
   ],
   "source": [
    "fig, ax = plt.subplots()\n",
    "ax.plot(x_data[0:60], df1['dag_count'].values[0:60], linewidth=1, color = 'b')"
   ]
  },
  {
   "cell_type": "code",
   "execution_count": 15,
   "metadata": {},
   "outputs": [
    {
     "name": "stdout",
     "output_type": "stream",
     "text": [
      "[1 1 1 1 1 1 1 1 1 1 1 1 1 1 1 1 1 1 1 1 1 1 1 1 1 1 1 1 1 1 2 1 1 1 1 1 1\n",
      " 1 1 1 1 1 1 1 1 1 1 1 1 1 1 1 1 1 1 1 1 1 1 1]\n"
     ]
    }
   ],
   "source": [
    "print(df1['dag_count'].values[60:120])"
   ]
  },
  {
   "cell_type": "code",
   "execution_count": 17,
   "metadata": {},
   "outputs": [
    {
     "name": "stdout",
     "output_type": "stream",
     "text": [
      "[ 7  4 11 11  5  3  6  6  4  4  6 10  5  3  5  6  2  4  3  3  5  6  3 13\n",
      "  7  5  6  5  6  7 11 10  6  5  3  7  7  8  5  5  8  5  6  6  6 12  2  4\n",
      "  5  9  5  2  7  7  9  6  3  8  9  8  3  7 10  6  7  7  3  8  6  9  5  4\n",
      "  3  6  7  4  7  8  6  6  9  5  4  5 14  6  7 11  8  4 12  2  7  9 10  6\n",
      "  5  8  6  7  5  7  8  7  9  5  6  9  2  7 10  6 10  6  6 14 16 10  6  7\n",
      "  8  8 14  2  6  4  7 10  3  6  7 15 10 10 13  8  7 15 10  5  3 20 11  7\n",
      "  4 22 14 10  6  6 14 10  6 10 10  8  7  8  9  6 11 12  6  9  8 11  8  4\n",
      " 14 13  8  6  7  6 12  9  3 10  4  9  6  9  3 10 11 11 11 13 12  6  6 11\n",
      "  6  8  6  8  9 11  5  8]\n"
     ]
    }
   ],
   "source": [
    "print(df1['dag_count'].values[1000:1200])"
   ]
  },
  {
   "cell_type": "code",
   "execution_count": 34,
   "metadata": {
    "scrolled": true
   },
   "outputs": [
    {
     "data": {
      "text/plain": [
       "[<matplotlib.lines.Line2D at 0x7f0158365fd0>]"
      ]
     },
     "execution_count": 34,
     "metadata": {},
     "output_type": "execute_result"
    },
    {
     "data": {
      "image/png": "[encoded data removed]",
      "text/plain": [
       "<Figure size 432x288 with 1 Axes>"
      ]
     },
     "metadata": {},
     "output_type": "display_data"
    }
   ],
   "source": [
    "count = 500000\n",
    "fig, ax = plt.subplots()\n",
    "ax.scatter(x_data[0:count], df1['dag_count'].values[0:count], linewidth=1, color = 'b')\n",
    "data = smooth(df1['dag_count'].values[0:count], 1500)\n",
    "ax.plot(x_data[0:count], data, linewidth=1, color = 'red')"
   ]
  },
  {
   "cell_type": "code",
   "execution_count": 20,
   "metadata": {},
   "outputs": [
    {
     "name": "stdout",
     "output_type": "stream",
     "text": [
      "596035\n"
     ]
    }
   ],
   "source": [
    "print(len(df1['dag_count'].values))"
   ]
  },
  {
   "cell_type": "code",
   "execution_count": 26,
   "metadata": {},
   "outputs": [
    {
     "name": "stdout",
     "output_type": "stream",
     "text": [
      "165.56527777777777\n"
     ]
    }
   ],
   "source": [
    "print(596035/(3600))"
   ]
  },
  {
   "cell_type": "code",
   "execution_count": 40,
   "metadata": {},
   "outputs": [
    {
     "data": {
      "image/png": "[encoded data removed]",
      "text/plain": [
       "<Figure size 432x288 with 1 Axes>"
      ]
     },
     "metadata": {},
     "output_type": "display_data"
    }
   ],
   "source": [
    "def format_func(value, tick_number):\n",
    "    return int(round(value/3600) + 1)\n",
    "\n",
    "count = 500000\n",
    "fig, ax = plt.subplots()\n",
    "ax.scatter(x_data, df1['dag_count'].values, linewidth=1, color = '#bababa')\n",
    "data = smooth(df1['dag_count'].values, 1500)\n",
    "ax.plot(x_data, data, linewidth=1, color = '#ca0020')\n",
    "\n",
    "\n",
    "ax.xaxis.set_major_formatter(plt.FuncFormatter(format_func))\n",
    "ax.set_facecolor('white')\n",
    "\n",
    "plt.xlabel('Time (hour)', fontsize=16)\n",
    "plt.ylabel('# of DAGs submitted', fontsize=16)\n",
    "#plt.rcParams[\"axes.edgecolor\"] = \"black\"\n",
    "#plt.rcParams[\"axes.linewidth\"] = 1\n",
    "plt.tight_layout()\n",
    "plt.savefig('dags_submitted_per_ts_timeseries.pdf', format='pdf', dpi=200)\n",
    "plt.savefig('dags_submitted_per_ts_timeseries.png', format='png', dpi=200)\n",
    "\n"
   ]
  },
  {
   "cell_type": "code",
   "execution_count": null,
   "metadata": {},
   "outputs": [],
   "source": [
    "#!/usr/bin/python3\n",
    "import sys\n",
    "import pandas as pd\n",
    "import matplotlib.pyplot as plt\n",
    "import numpy as np\n",
    "import json\n",
    "from io import StringIO\n",
    "import csv\n",
    "from itertools import islice\n",
    "import seaborn as sns\n",
    "\n",
    "# Create a numpy of size \n",
    "time_granularity = 60 # 1 minute\n",
    "n_minutes = 11520;\n",
    "n_machines = 4033;\n",
    "scheduled_instance_heatmap = np.zeros((n_minutes, n_machines), dtype=int);\n",
    "\n",
    "print(\"Hello\")\n",
    "\n",
    "# read 1K lines of batch_instance \n",
    "batch_instance_names = ['Instance', 'Task', 'Job', 'Type', 'Status', 'Start Time', 'End Time', \n",
    "          'Machine_id', 'seq_no', 'total_seq_no', 'cpu_avg', 'cpu_max', 'mem_avg','mem_max']\n",
    "chunksize = 1048576; # read file in 1M blocks\n",
    "for batch_instance_data in pd.read_csv('/local0/batch_instance.csv', \n",
    "                                       chunksize=chunksize, \n",
    "                                       names=batch_instance_names):\n",
    "    batch_instance_data['start_time_min'] = batch_instance_data['Start Time'].floordiv(time_granularity)  \n",
    "    batch_instance_data['Machine_id'] = batch_instance_data['Machine_id'].apply(lambda S:S.strip('m_'))\n",
    "    scheduled_instance_heatmap = batch_instance_data.groupby(['start_time_min', 'Machine_id'])\n",
    "    print(scheduled_instance_heatmap)\n",
    "    #for name, group in scheduled_instance_heatmap:\n",
    "    #    print(name)\n",
    "    #print(scheduled_instance_heatmap)\n",
    "    \n",
    "    #print(scheduled_instance_heatmap.agg(['count']))\n",
    "    \n",
    "    break;\n"
   ]
  },
  {
   "cell_type": "code",
   "execution_count": null,
   "metadata": {},
   "outputs": [],
   "source": [
    "print(\"Hello\")"
   ]
  },
  {
   "cell_type": "code",
   "execution_count": null,
   "metadata": {},
   "outputs": [],
   "source": []
  }
 ],
 "metadata": {
  "kernelspec": {
   "display_name": "Python 3",
   "language": "python",
   "name": "python3"
  },
  "language_info": {
   "codemirror_mode": {
    "name": "ipython",
    "version": 3
   },
   "file_extension": ".py",
   "mimetype": "text/x-python",
   "name": "python",
   "nbconvert_exporter": "python",
   "pygments_lexer": "ipython3",
   "version": "3.6.9"
  }
 },
 "nbformat": 4,
 "nbformat_minor": 2
}
